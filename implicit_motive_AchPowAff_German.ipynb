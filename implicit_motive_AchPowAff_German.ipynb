{
  "nbformat": 4,
  "nbformat_minor": 0,
  "metadata": {
    "colab": {
      "name": "implicit motive AchPowAff_German.ipynb",
      "provenance": [],
      "collapsed_sections": [
        "5HxlyyQT4u_u",
        "OLUVf4Qu4zYf",
        "lDENOMqr5X6o",
        "SzZ2fxYjRa08",
        "yY0ojxIfBCIh",
        "rteLHuo02t7s",
        "mSbEpZl_PavT",
        "FKL-3zC-vvsG",
        "-pvuE9IxilMi",
        "zowhoCJzgOpS",
        "Mwr2H2RPtmbG"
      ],
      "authorship_tag": "ABX9TyMMbNU70uv7vKjfkwED8jQH",
      "include_colab_link": true
    },
    "kernelspec": {
      "name": "python3",
      "display_name": "Python 3"
    },
    "language_info": {
      "name": "python"
    },
    "accelerator": "GPU"
  },
  "cells": [
    {
      "cell_type": "markdown",
      "metadata": {
        "id": "view-in-github",
        "colab_type": "text"
      },
      "source": [
        "<a href=\"https://colab.research.google.com/github/Ahmed-AbdElRhman/GPProject/blob/main/implicit_motive_AchPowAff_German.ipynb\" target=\"_parent\"><img src=\"https://colab.research.google.com/assets/colab-badge.svg\" alt=\"Open In Colab\"/></a>"
      ]
    },
    {
      "cell_type": "code",
      "metadata": {
        "id": "_UZvgPvM0BeS",
        "colab": {
          "base_uri": "https://localhost:8080/"
        },
        "outputId": "24cd5e94-95ef-4729-dd48-1ab3a8bc1e7c"
      },
      "source": [
        "from google.colab import drive\n",
        "drive.mount('/content/drive')"
      ],
      "execution_count": 1,
      "outputs": [
        {
          "output_type": "stream",
          "text": [
            "Mounted at /content/drive\n"
          ],
          "name": "stdout"
        }
      ]
    },
    {
      "cell_type": "markdown",
      "metadata": {
        "id": "5HxlyyQT4u_u"
      },
      "source": [
        "# **Reading And Assess Data**"
      ]
    },
    {
      "cell_type": "markdown",
      "metadata": {
        "id": "OLUVf4Qu4zYf"
      },
      "source": [
        "## **Read Files**"
      ]
    },
    {
      "cell_type": "code",
      "metadata": {
        "id": "4Cw9z6BD4mC7"
      },
      "source": [
        "import pandas as pd"
      ],
      "execution_count": null,
      "outputs": []
    },
    {
      "cell_type": "code",
      "metadata": {
        "id": "mBsGQw6A45Yc"
      },
      "source": [
        "OriginalDataPATH = '/content/drive/MyDrive/Data/German_Data/DatasetArAllTranslated_Mod.csv'\n",
        "EnglishDatasetPATH = '/content/drive/MyDrive/Data/Datasets/CheckPoint/ProcessedDuplicatedDataFrame/dupPowAchAffCleaned_df.csv'\n",
        "arabicEmojisPath = \"/content/drive/MyDrive/Data/arabicEmojis.csv\""
      ],
      "execution_count": null,
      "outputs": []
    },
    {
      "cell_type": "code",
      "metadata": {
        "id": "OLZv4Wcs5H6c"
      },
      "source": [
        "originalData_df = pd.read_csv(OriginalDataPATH)\n",
        "originalData_df.shape"
      ],
      "execution_count": null,
      "outputs": []
    },
    {
      "cell_type": "code",
      "metadata": {
        "colab": {
          "base_uri": "https://localhost:8080/"
        },
        "id": "deGZJ58FANSk",
        "outputId": "36b079a7-1ea4-450d-8180-8659b821488a"
      },
      "source": [
        "#English Dataset\n",
        "English_df = pd.read_csv('/content/drive/MyDrive/Data/Datasets/CheckPoint/ProcessedDuplicatedDataFrame/dupPowAchAffCleaned_df.csv')\n",
        "English_df"
      ],
      "execution_count": null,
      "outputs": [
        {
          "output_type": "execute_result",
          "data": {
            "text/html": [
              "<div>\n",
              "<style scoped>\n",
              "    .dataframe tbody tr th:only-of-type {\n",
              "        vertical-align: middle;\n",
              "    }\n",
              "\n",
              "    .dataframe tbody tr th {\n",
              "        vertical-align: top;\n",
              "    }\n",
              "\n",
              "    .dataframe thead th {\n",
              "        text-align: right;\n",
              "    }\n",
              "</style>\n",
              "<table border=\"1\" class=\"dataframe\">\n",
              "  <thead>\n",
              "    <tr style=\"text-align: right;\">\n",
              "      <th></th>\n",
              "      <th>Text</th>\n",
              "      <th>Pow</th>\n",
              "      <th>Ach</th>\n",
              "      <th>Aff</th>\n",
              "      <th>processed_text</th>\n",
              "    </tr>\n",
              "  </thead>\n",
              "  <tbody>\n",
              "    <tr>\n",
              "      <th>0</th>\n",
              "      <td>استمع لها واستمعت له.</td>\n",
              "      <td>0</td>\n",
              "      <td>0</td>\n",
              "      <td>1</td>\n",
              "      <td>استمع لها واستمعت له</td>\n",
              "    </tr>\n",
              "    <tr>\n",
              "      <th>1</th>\n",
              "      <td>وقالت انها فوجئت أنها قادرة على إجراء هذه المك...</td>\n",
              "      <td>0</td>\n",
              "      <td>0</td>\n",
              "      <td>1</td>\n",
              "      <td>وقالت انها فوجئت أنها قادرة على إجراء هذه المك...</td>\n",
              "    </tr>\n",
              "    <tr>\n",
              "      <th>2</th>\n",
              "      <td>هذه هي التحديثات كبيرة.... جيف</td>\n",
              "      <td>0</td>\n",
              "      <td>1</td>\n",
              "      <td>0</td>\n",
              "      <td>هذه هي التحديثات كبيرة جيف</td>\n",
              "    </tr>\n",
              "    <tr>\n",
              "      <th>3</th>\n",
              "      <td>بعد انتهاء الدرس ، اقترح عليها أن تمشي معًا.</td>\n",
              "      <td>0</td>\n",
              "      <td>0</td>\n",
              "      <td>1</td>\n",
              "      <td>بعد انتهاء الدرس اقترح عليها أن تمشي معا</td>\n",
              "    </tr>\n",
              "    <tr>\n",
              "      <th>4</th>\n",
              "      <td>هم ليسوا متزوجين ولكن عشاق.</td>\n",
              "      <td>0</td>\n",
              "      <td>0</td>\n",
              "      <td>1</td>\n",
              "      <td>هم ليسوا متزوجين ولكن عشاق</td>\n",
              "    </tr>\n",
              "    <tr>\n",
              "      <th>...</th>\n",
              "      <td>...</td>\n",
              "      <td>...</td>\n",
              "      <td>...</td>\n",
              "      <td>...</td>\n",
              "      <td>...</td>\n",
              "    </tr>\n",
              "    <tr>\n",
              "      <th>117095</th>\n",
              "      <td>لذلك ، يجلسون اليوم على ضفة النهر ، في محاولة ...</td>\n",
              "      <td>0</td>\n",
              "      <td>0</td>\n",
              "      <td>1</td>\n",
              "      <td>لذلك يجلسون اليوم على ضفة النهر في محاولة لحل ...</td>\n",
              "    </tr>\n",
              "    <tr>\n",
              "      <th>117096</th>\n",
              "      <td>ويجادل قبطان السفينة مع مفتش الشرطة بأن طاقم ا...</td>\n",
              "      <td>1</td>\n",
              "      <td>0</td>\n",
              "      <td>0</td>\n",
              "      <td>ويجادل قبطان السفينة مع مفتش الشرطة بأن طاقم ا...</td>\n",
              "    </tr>\n",
              "    <tr>\n",
              "      <th>117097</th>\n",
              "      <td>أنا أحب (سيندي) أيضاً إنها تبدو رائعة بالنسبة لي</td>\n",
              "      <td>0</td>\n",
              "      <td>0</td>\n",
              "      <td>1</td>\n",
              "      <td>أنا أحب سيندي أيضا إنها تبدو رائعة بالنسبة لي</td>\n",
              "    </tr>\n",
              "    <tr>\n",
              "      <th>117098</th>\n",
              "      <td>ستظهر في جميع التقارير الإخبارية التلفزيونية أ...</td>\n",
              "      <td>1</td>\n",
              "      <td>0</td>\n",
              "      <td>0</td>\n",
              "      <td>ستظهر في جميع التقارير الإخبارية التلفزيونية أ...</td>\n",
              "    </tr>\n",
              "    <tr>\n",
              "      <th>117099</th>\n",
              "      <td>تلقى بيانه باهتمام جدي من قبل الآخرين الجالسين...</td>\n",
              "      <td>1</td>\n",
              "      <td>0</td>\n",
              "      <td>0</td>\n",
              "      <td>تلقى بيانه باهتمام جدي من قبل الآخرين الجالسين...</td>\n",
              "    </tr>\n",
              "  </tbody>\n",
              "</table>\n",
              "<p>117100 rows × 5 columns</p>\n",
              "</div>"
            ],
            "text/plain": [
              "                                                     Text  ...                                     processed_text\n",
              "0                                   استمع لها واستمعت له.  ...                              استمع لها واستمعت له \n",
              "1       وقالت انها فوجئت أنها قادرة على إجراء هذه المك...  ...  وقالت انها فوجئت أنها قادرة على إجراء هذه المك...\n",
              "2                          هذه هي التحديثات كبيرة.... جيف  ...                         هذه هي التحديثات كبيرة جيف\n",
              "3            بعد انتهاء الدرس ، اقترح عليها أن تمشي معًا.  ...          بعد انتهاء الدرس اقترح عليها أن تمشي معا \n",
              "4                             هم ليسوا متزوجين ولكن عشاق.  ...                        هم ليسوا متزوجين ولكن عشاق \n",
              "...                                                   ...  ...                                                ...\n",
              "117095  لذلك ، يجلسون اليوم على ضفة النهر ، في محاولة ...  ...  لذلك يجلسون اليوم على ضفة النهر في محاولة لحل ...\n",
              "117096  ويجادل قبطان السفينة مع مفتش الشرطة بأن طاقم ا...  ...  ويجادل قبطان السفينة مع مفتش الشرطة بأن طاقم ا...\n",
              "117097   أنا أحب (سيندي) أيضاً إنها تبدو رائعة بالنسبة لي  ...      أنا أحب سيندي أيضا إنها تبدو رائعة بالنسبة لي\n",
              "117098  ستظهر في جميع التقارير الإخبارية التلفزيونية أ...  ...  ستظهر في جميع التقارير الإخبارية التلفزيونية أ...\n",
              "117099  تلقى بيانه باهتمام جدي من قبل الآخرين الجالسين...  ...  تلقى بيانه باهتمام جدي من قبل الآخرين الجالسين...\n",
              "\n",
              "[117100 rows x 5 columns]"
            ]
          },
          "metadata": {
            "tags": []
          },
          "execution_count": 7
        }
      ]
    },
    {
      "cell_type": "code",
      "metadata": {
        "colab": {
          "base_uri": "https://localhost:8080/"
        },
        "id": "0XBS6MzTSniM",
        "outputId": "4ab25a8b-fce0-41fe-f701-a2ada1bbbbcd"
      },
      "source": [
        "df_emojis = pd.read_csv(arabicEmojisPath)\n",
        "df_emojis.shape"
      ],
      "execution_count": null,
      "outputs": [
        {
          "output_type": "execute_result",
          "data": {
            "text/plain": [
              "(4159, 2)"
            ]
          },
          "metadata": {
            "tags": []
          },
          "execution_count": 75
        }
      ]
    },
    {
      "cell_type": "markdown",
      "metadata": {
        "id": "lDENOMqr5X6o"
      },
      "source": [
        "## **Assessing and Clean Data**"
      ]
    },
    {
      "cell_type": "code",
      "metadata": {
        "colab": {
          "base_uri": "https://localhost:8080/"
        },
        "id": "mop_ozwz5uBU",
        "outputId": "8838004d-c2fe-4324-f89e-f0e232232aa2"
      },
      "source": [
        "#Assess\n",
        "originalData_df.info()"
      ],
      "execution_count": null,
      "outputs": [
        {
          "output_type": "stream",
          "text": [
            "<class 'pandas.core.frame.DataFrame'>\n",
            "RangeIndex: 146819 entries, 0 to 146818\n",
            "Data columns (total 5 columns):\n",
            " #   Column       Non-Null Count   Dtype \n",
            "---  ------       --------------   ----- \n",
            " 0   pow          146819 non-null  int64 \n",
            " 1   ach          146819 non-null  int64 \n",
            " 2   aff          146819 non-null  int64 \n",
            " 3   text         146819 non-null  object\n",
            " 4   arabic_text  146819 non-null  object\n",
            "dtypes: int64(3), object(2)\n",
            "memory usage: 5.6+ MB\n"
          ],
          "name": "stdout"
        }
      ]
    },
    {
      "cell_type": "code",
      "metadata": {
        "colab": {
          "base_uri": "https://localhost:8080/"
        },
        "id": "1-Pnbmi66Nmq",
        "outputId": "cbb12a3e-511a-48d5-892d-6c06982744aa"
      },
      "source": [
        "#Assess\n",
        "print(\"Original Dataset has duplicated Data!::\\n\",originalData_df.duplicated().any())"
      ],
      "execution_count": null,
      "outputs": [
        {
          "output_type": "stream",
          "text": [
            "Original Dataset has duplicated Data!::\n",
            " True\n"
          ],
          "name": "stdout"
        }
      ]
    },
    {
      "cell_type": "code",
      "metadata": {
        "colab": {
          "base_uri": "https://localhost:8080/"
        },
        "id": "R7Rk38616gfM",
        "outputId": "7780d284-93cb-457e-e1af-ce16030c86b5"
      },
      "source": [
        "#Assess\n",
        "print(\"'non' Values Summary:\")\n",
        "print(originalData_df.isna().sum())"
      ],
      "execution_count": null,
      "outputs": [
        {
          "output_type": "stream",
          "text": [
            "'non' Values Summary:\n",
            "pow            0\n",
            "ach            0\n",
            "aff            0\n",
            "text           0\n",
            "arabic_text    0\n",
            "dtype: int64\n"
          ],
          "name": "stdout"
        }
      ]
    },
    {
      "cell_type": "code",
      "metadata": {
        "colab": {
          "base_uri": "https://localhost:8080/"
        },
        "id": "dAlJRodR6pWJ",
        "outputId": "50f27d64-9a28-4368-cf87-72cc6c9cec96"
      },
      "source": [
        "#Clean Drop Duplicates\n",
        "originalData_df = originalData_df.drop_duplicates()\n",
        "#Assess\n",
        "print(\"Original Dataset has duplicated Data!::\\n\",originalData_df.duplicated().any())"
      ],
      "execution_count": null,
      "outputs": [
        {
          "output_type": "stream",
          "text": [
            "Original Dataset has duplicated Data!::\n",
            " False\n"
          ],
          "name": "stdout"
        }
      ]
    },
    {
      "cell_type": "markdown",
      "metadata": {
        "id": "VTKFesp6N_T1"
      },
      "source": [
        "### **Clean data**"
      ]
    },
    {
      "cell_type": "code",
      "metadata": {
        "colab": {
          "base_uri": "https://localhost:8080/"
        },
        "id": "3X6xq_oxOHUQ",
        "outputId": "0f88c54f-ed28-4efc-95eb-d67d233ef08d"
      },
      "source": [
        "#Splite data to 1 and  0 \n",
        "df000 = originalData_df.query('pow == 0 & ach == 0 & aff == 0')\n",
        "df000 = df000.drop_duplicates()\n",
        "df000.shape"
      ],
      "execution_count": null,
      "outputs": [
        {
          "output_type": "execute_result",
          "data": {
            "text/plain": [
              "(89418, 5)"
            ]
          },
          "metadata": {
            "tags": []
          },
          "execution_count": 91
        }
      ]
    },
    {
      "cell_type": "code",
      "metadata": {
        "colab": {
          "base_uri": "https://localhost:8080/"
        },
        "id": "H21YXGX3OjCv",
        "outputId": "c7309529-a765-4ce1-b275-ead53d980e7a"
      },
      "source": [
        "df111 = originalData_df.query('pow == 1 | ach == 1 | aff == 1')\n",
        "df111 = df111.drop_duplicates()\n",
        "df111.shape"
      ],
      "execution_count": null,
      "outputs": [
        {
          "output_type": "execute_result",
          "data": {
            "text/plain": [
              "(56343, 5)"
            ]
          },
          "metadata": {
            "tags": []
          },
          "execution_count": 83
        }
      ]
    },
    {
      "cell_type": "code",
      "metadata": {
        "colab": {
          "base_uri": "https://localhost:8080/"
        },
        "id": "7YQspBTlOPvc",
        "outputId": "1c80ec27-27c0-4767-cba2-340cc893f925"
      },
      "source": [
        "# dupPowAchAff_df[dupPowAchAff_df.processed_text.str.len()==4].reset_index(drop=True)\n",
        "df111 = df111[df111['arabic_text'].map(len) >3 ].reset_index(drop=True)\n",
        "df111.shape"
      ],
      "execution_count": null,
      "outputs": [
        {
          "output_type": "execute_result",
          "data": {
            "text/plain": [
              "(56326, 5)"
            ]
          },
          "metadata": {
            "tags": []
          },
          "execution_count": 85
        }
      ]
    },
    {
      "cell_type": "code",
      "metadata": {
        "colab": {
          "base_uri": "https://localhost:8080/"
        },
        "id": "IzxPPvX4PVjQ",
        "outputId": "9d196fac-7b6c-45b3-eff7-81bd6077b590"
      },
      "source": [
        "#Drop Sentence that has 2 words\n",
        "def clear(text):\n",
        "  if len(text)<6:\n",
        "    return 0\n",
        "  if len(nltk.word_tokenize(text))<3:\n",
        "    return 0\n",
        "  return 1\n",
        "df000 = df000[df000['arabic_text'].map(clear) == 1 ].reset_index(drop=True)\n",
        "df000.shape"
      ],
      "execution_count": null,
      "outputs": [
        {
          "output_type": "execute_result",
          "data": {
            "text/plain": [
              "(87517, 5)"
            ]
          },
          "metadata": {
            "tags": []
          },
          "execution_count": 93
        }
      ]
    },
    {
      "cell_type": "code",
      "metadata": {
        "colab": {
          "base_uri": "https://localhost:8080/"
        },
        "id": "Y5tnT4JHQbSP",
        "outputId": "6f38bd61-34bf-4ece-c69c-99d4d9b6e510"
      },
      "source": [
        "originalData_df = df111.append(df000)\n",
        "originalData_df = originalData_df.sample(frac=1).reset_index(drop=True)\n",
        "originalData_df.shape"
      ],
      "execution_count": null,
      "outputs": [
        {
          "output_type": "execute_result",
          "data": {
            "text/plain": [
              "(143843, 5)"
            ]
          },
          "metadata": {
            "tags": []
          },
          "execution_count": 94
        }
      ]
    },
    {
      "cell_type": "markdown",
      "metadata": {
        "id": "hEBVQ9Si8wic"
      },
      "source": [
        "### **Assess Data**"
      ]
    },
    {
      "cell_type": "code",
      "metadata": {
        "id": "wSLV-8h98xe1"
      },
      "source": [
        "import matplotlib.pyplot as plt\n",
        "import nltk\n",
        "from nltk import WordPunctTokenizer\n",
        "nltk.download('punkt')"
      ],
      "execution_count": null,
      "outputs": []
    },
    {
      "cell_type": "code",
      "metadata": {
        "id": "-AOW_xFL8pjx"
      },
      "source": [
        "label = ['pow','ach','aff']"
      ],
      "execution_count": null,
      "outputs": []
    },
    {
      "cell_type": "code",
      "metadata": {
        "colab": {
          "base_uri": "https://localhost:8080/",
          "height": 355
        },
        "id": "Ikbe8qbXX0tT",
        "outputId": "4849c71e-90d6-4411-f3ac-53fb1cf444b5"
      },
      "source": [
        "#Assess\n",
        "print([df000.shape[0],df111.shape[0]])\n",
        "fig, axes = plt.subplots( figsize=(10, 5))\n",
        "axes.bar(['False','Pow_Ach_Aff'], [df000.shape[0],df111.shape[0]]);\n",
        "axes.set_title('False Clase VS True Class')\n",
        "axes.grid()\n",
        "del df000\n",
        "del df111"
      ],
      "execution_count": null,
      "outputs": [
        {
          "output_type": "stream",
          "text": [
            "[87517, 56326]\n"
          ],
          "name": "stdout"
        },
        {
          "output_type": "display_data",
          "data": {
            "image/png": "[encoded data removed]",
            "text/plain": [
              "<Figure size 720x360 with 1 Axes>"
            ]
          },
          "metadata": {
            "tags": [],
            "needs_background": "light"
          }
        }
      ]
    },
    {
      "cell_type": "code",
      "metadata": {
        "colab": {
          "base_uri": "https://localhost:8080/",
          "height": 354
        },
        "id": "hny01RbF8HKS",
        "outputId": "8af12782-ba74-4ebd-966b-5946117d7035"
      },
      "source": [
        "#Assess\n",
        "print(originalData_df.shape)\n",
        "fig, axes = plt.subplots( figsize=(10, 5))\n",
        "axes.bar(label, originalData_df[label].sum());\n",
        "axes.set_title('Motives  sentence ')\n",
        "axes.grid()"
      ],
      "execution_count": null,
      "outputs": [
        {
          "output_type": "stream",
          "text": [
            "(143843, 5)\n"
          ],
          "name": "stdout"
        },
        {
          "output_type": "display_data",
          "data": {
            "image/png": "[encoded data removed]",
            "text/plain": [
              "<Figure size 720x360 with 1 Axes>"
            ]
          },
          "metadata": {
            "tags": [],
            "needs_background": "light"
          }
        }
      ]
    },
    {
      "cell_type": "code",
      "metadata": {
        "id": "Ck8u-pYlXr43"
      },
      "source": [
        "#Valuse As A binary Class Each Class  With its own 0 and 1 From its own Values regardless of the  other Classes\n",
        "fig, axes = plt.subplots(3, 1, figsize=(10, 8))\n",
        "i = 0\n",
        "# j = 0\n",
        "for l in label: #['Pow','Ach','Aff']\n",
        "  ax = axes[i]\n",
        "  indexValues = []\n",
        "  # filterddf = originalData_df.query(label[index[j]]+' != 1 & '+label[index[j+1]]+' != 1 ')\n",
        "  filterddf = originalData_df\n",
        "  for v in filterddf.set_index(label).count(level=label[i]).index.values:                 #[0,1]\n",
        "    indexValues.append(str(v))\n",
        "  values = filterddf.set_index(label).count(level=label[i]).text.values\n",
        "  ax.bar(indexValues, values, color=['red', 'green']);\n",
        "  percentage =  format((values[1]/values[0]), '0.1%')\n",
        "  ax.set_title(filterddf.set_index(label).count(level=label[i]).index.name+\" \"+str(percentage)+\" From its own Values regardless of the other Classes\")\n",
        "  ax.grid()\n",
        "  print(filterddf.set_index(label).count(level=label[i]))\n",
        "  i+=1\n",
        "  # j+=2\n",
        "del filterddf"
      ],
      "execution_count": null,
      "outputs": []
    },
    {
      "cell_type": "code",
      "metadata": {
        "colab": {
          "base_uri": "https://localhost:8080/",
          "height": 717
        },
        "id": "7IhTUp5y5J_B",
        "outputId": "4ca8fe1f-94eb-4232-842d-bbaad18d063a"
      },
      "source": [
        "#Valuse As A binary Class Each Class  With its own 0 and 1 From its own Values regardless of the  other Classes\n",
        "fig, axes = plt.subplots(3, 1, figsize=(10, 8))\n",
        "i = 0\n",
        "# j = 0\n",
        "for l in label: #['Pow','Ach','Aff']\n",
        "  ax = axes[i]\n",
        "  indexValues = []\n",
        "  # filterddf = originalData_df.query(label[index[j]]+' != 1 & '+label[index[j+1]]+' != 1 ')\n",
        "  filterddf = originalData_df\n",
        "  for v in filterddf.set_index(label).count(level=label[i]).index.values:                 #[0,1]\n",
        "    indexValues.append(str(v))\n",
        "  values = filterddf.set_index(label).count(level=label[i]).text.values\n",
        "  ax.bar(indexValues, values, color=['red', 'green']);\n",
        "  percentage =  format((values[1]/values[0]), '0.1%')\n",
        "  ax.set_title(filterddf.set_index(label).count(level=label[i]).index.name+\" \"+str(percentage)+\" From its own Values regardless of the other Classes\")\n",
        "  ax.grid()\n",
        "  print(filterddf.set_index(label).count(level=label[i]))\n",
        "  i+=1\n",
        "  # j+=2\n",
        "del filterddf"
      ],
      "execution_count": null,
      "outputs": [
        {
          "output_type": "stream",
          "text": [
            "       text  arabic_text\n",
            "pow                     \n",
            "0    120325       120325\n",
            "1     23518        23518\n",
            "       text  arabic_text\n",
            "ach                     \n",
            "0    128074       128074\n",
            "1     15769        15769\n",
            "       text  arabic_text\n",
            "aff                     \n",
            "0    120949       120949\n",
            "1     22894        22894\n"
          ],
          "name": "stdout"
        },
        {
          "output_type": "display_data",
          "data": {
            "image/png": "[encoded data removed]",
            "text/plain": [
              "<Figure size 720x576 with 3 Axes>"
            ]
          },
          "metadata": {
            "tags": [],
            "needs_background": "light"
          }
        }
      ]
    },
    {
      "cell_type": "code",
      "metadata": {
        "colab": {
          "base_uri": "https://localhost:8080/",
          "height": 717
        },
        "id": "45tIiXNj5a5G",
        "outputId": "3b597304-336f-4698-9723-c82610ac8cd7"
      },
      "source": [
        "#From all Values, other Classes take in concern\n",
        "fig, axes = plt.subplots(3, 1, figsize=(10, 8))\n",
        "i = 0\n",
        "for l in label: #['Pow','Ach','Aff']\n",
        "  ax = axes[i]\n",
        "  indexValues = []\n",
        "  filterddf = originalData_df.query('(pow==0 & ach==0 & aff==0)'+' | ('+label[i]+' == 1)')\n",
        "  for v in filterddf.set_index(label).count(level=label[i]).index.values:                 #[0,1]\n",
        "    indexValues.append(str(v))\n",
        "  values = filterddf.set_index(label).count(level=label[i]).text.values\n",
        "  ax.bar(indexValues, values, color=['red', 'green']);\n",
        "  percentage =  format((values[1]/values[0]), '0.1%')\n",
        "  ax.set_title(filterddf.set_index(label).count(level=label[i]).index.name+\" \"+str(percentage)+\" From all Values, other Classes take in concern\")\n",
        "  ax.grid()\n",
        "  print(filterddf.set_index(label).count(level=label[i]))\n",
        "  i+=1\n",
        "del filterddf"
      ],
      "execution_count": null,
      "outputs": [
        {
          "output_type": "stream",
          "text": [
            "      text  arabic_text\n",
            "pow                    \n",
            "0    87517        87517\n",
            "1    23518        23518\n",
            "      text  arabic_text\n",
            "ach                    \n",
            "0    87517        87517\n",
            "1    15769        15769\n",
            "      text  arabic_text\n",
            "aff                    \n",
            "0    87517        87517\n",
            "1    22894        22894\n"
          ],
          "name": "stdout"
        },
        {
          "output_type": "display_data",
          "data": {
            "image/png": "[encoded data removed]",
            "text/plain": [
              "<Figure size 720x576 with 3 Axes>"
            ]
          },
          "metadata": {
            "tags": [],
            "needs_background": "light"
          }
        }
      ]
    },
    {
      "cell_type": "code",
      "metadata": {
        "id": "NuxiGJsfHGFZ"
      },
      "source": [
        "#Assess\n",
        "def clean_and_tokenize(text):\n",
        "    return nltk.word_tokenize(text)\n",
        "\n",
        "sequences = originalData_df.apply(lambda row: clean_and_tokenize(row['arabic_text']), axis=1)"
      ],
      "execution_count": null,
      "outputs": []
    },
    {
      "cell_type": "code",
      "metadata": {
        "colab": {
          "base_uri": "https://localhost:8080/"
        },
        "id": "E2E2CuulHuGn",
        "outputId": "82a4636f-11b9-4c9e-8181-4b814b4f25c1"
      },
      "source": [
        "print(sequences.iloc[0])"
      ],
      "execution_count": null,
      "outputs": [
        {
          "output_type": "stream",
          "text": [
            "['زوجان', 'شابان', 'قادمان', 'للتو', 'من', 'نزهة', 'عبر', 'المدينة', '.']\n"
          ],
          "name": "stdout"
        }
      ]
    },
    {
      "cell_type": "code",
      "metadata": {
        "colab": {
          "base_uri": "https://localhost:8080/"
        },
        "id": "FSh-YZ2Rnbu9",
        "outputId": "27ab6a7a-e977-41b2-fb98-41947bab41b4"
      },
      "source": [
        "df000 = originalData_df.query('pow == 0 & ach == 0 & aff == 0')\n",
        "df000 = df000.drop_duplicates()\n",
        "df000.shape"
      ],
      "execution_count": null,
      "outputs": [
        {
          "output_type": "execute_result",
          "data": {
            "text/plain": [
              "(85594, 6)"
            ]
          },
          "metadata": {
            "tags": []
          },
          "execution_count": 31
        }
      ]
    },
    {
      "cell_type": "code",
      "metadata": {
        "id": "QZ0y_Ry9nkqV"
      },
      "source": [
        "#Assess\n",
        "def clean_and_tokenize(text):\n",
        "    return nltk.word_tokenize(text)\n",
        "\n",
        "sequences = df000.apply(lambda row: clean_and_tokenize(row['arabic_text']), axis=1)"
      ],
      "execution_count": null,
      "outputs": []
    },
    {
      "cell_type": "code",
      "metadata": {
        "colab": {
          "base_uri": "https://localhost:8080/"
        },
        "id": "-C-owLhOlQv-",
        "outputId": "5e5f2c4d-be09-4996-8e85-d7eddbf35233"
      },
      "source": [
        "print(sequences.iloc[0])"
      ],
      "execution_count": null,
      "outputs": [
        {
          "output_type": "stream",
          "text": [
            "['العودة', 'إلى', 'المنزل', 'وحدها', 'ليست', 'خيارا', 'لأحد', 'اليوم', '.']\n"
          ],
          "name": "stdout"
        }
      ]
    },
    {
      "cell_type": "code",
      "metadata": {
        "colab": {
          "base_uri": "https://localhost:8080/"
        },
        "id": "uoBgvr8XnqXW",
        "outputId": "bade8977-c9c2-4053-8be8-2e156da6ad6f"
      },
      "source": [
        "sequences.str.len().quantile([0.02, 0.1, 0.2, 0.3, 0.5, 0.6, 0.7, 0.8, 0.9, 0.95, 0.99])"
      ],
      "execution_count": null,
      "outputs": [
        {
          "output_type": "execute_result",
          "data": {
            "text/plain": [
              "0.02     3.0\n",
              "0.10     5.0\n",
              "0.20     6.0\n",
              "0.30     7.0\n",
              "0.50    10.0\n",
              "0.60    11.0\n",
              "0.70    13.0\n",
              "0.80    15.0\n",
              "0.90    19.0\n",
              "0.95    22.0\n",
              "0.99    30.0\n",
              "dtype: float64"
            ]
          },
          "metadata": {
            "tags": []
          },
          "execution_count": 34
        }
      ]
    },
    {
      "cell_type": "code",
      "metadata": {
        "colab": {
          "base_uri": "https://localhost:8080/"
        },
        "id": "v9W3Q8EYkNNO",
        "outputId": "39bfa41d-633b-4dcc-cd09-928b105a4fb3"
      },
      "source": [
        "i = 0\n",
        "for len in sequences.str.len().values:\n",
        "  if len >6 and len<9:\n",
        "    i+=1\n",
        "print(i)"
      ],
      "execution_count": null,
      "outputs": [
        {
          "output_type": "stream",
          "text": [
            "14000\n"
          ],
          "name": "stdout"
        }
      ]
    },
    {
      "cell_type": "code",
      "metadata": {
        "colab": {
          "base_uri": "https://localhost:8080/"
        },
        "id": "aatoJubyL0e1",
        "outputId": "facafdcb-cc18-4ed9-8187-c00cd969c778"
      },
      "source": [
        "sequences.str.len().quantile([0.02, 0.1, 0.2, 0.3, 0.5, 0.6, 0.7, 0.8, 0.9, 0.95, 0.99])"
      ],
      "execution_count": null,
      "outputs": [
        {
          "output_type": "execute_result",
          "data": {
            "text/plain": [
              "0.02     3.0\n",
              "0.10     5.0\n",
              "0.20     6.0\n",
              "0.30     8.0\n",
              "0.50    11.0\n",
              "0.60    12.0\n",
              "0.70    14.0\n",
              "0.80    17.0\n",
              "0.90    21.0\n",
              "0.95    24.0\n",
              "0.99    33.0\n",
              "dtype: float64"
            ]
          },
          "metadata": {
            "tags": []
          },
          "execution_count": 103
        }
      ]
    },
    {
      "cell_type": "code",
      "metadata": {
        "colab": {
          "base_uri": "https://localhost:8080/",
          "height": 390
        },
        "id": "f42dimm9Lsxz",
        "outputId": "5cbae2aa-efff-4f58-a54e-45f8c0162e94"
      },
      "source": [
        "fig, ax = plt.subplots(figsize=(15, 6))\n",
        "sequences.str.len().hist(bins=500, ax=ax)\n",
        "ax.set_title('Histogram of texts length');"
      ],
      "execution_count": null,
      "outputs": [
        {
          "output_type": "display_data",
          "data": {
            "image/png": "[encoded data removed]",
            "text/plain": [
              "<Figure size 1080x432 with 1 Axes>"
            ]
          },
          "metadata": {
            "tags": [],
            "needs_background": "light"
          }
        }
      ]
    },
    {
      "cell_type": "code",
      "metadata": {
        "id": "3YRT7yUsRvJe"
      },
      "source": [
        "#Asess MultiCass"
      ],
      "execution_count": null,
      "outputs": []
    },
    {
      "cell_type": "markdown",
      "metadata": {
        "id": "SzZ2fxYjRa08"
      },
      "source": [
        "# **Data Preprocessing**"
      ]
    },
    {
      "cell_type": "code",
      "metadata": {
        "id": "Q5TqZhFjRjEH"
      },
      "source": [
        "import re"
      ],
      "execution_count": null,
      "outputs": []
    },
    {
      "cell_type": "code",
      "metadata": {
        "id": "b0r9AAQgRm_f"
      },
      "source": [
        "ARABIC_DIACRITiCSC = ['ِ', 'ُ', 'ٓ', 'ٰ', 'ْ', 'ٌ', 'ٍ', 'ً', 'ّ', 'َ','°','ـ']\n",
        "# RESERVE            = [ '#','0', '1', '2', '3', '4', '5', '6', '7', '9', '¤',\n",
        "#                        '«', '°', '»', '×', 'é', 'í', 'ö', 'ş', 'ɹ', '˚', '˛', '̈', '̣',\n",
        "#                        '̤','\\u200b', '\\u200c', '\\u200d', '\\u200e', '\\u200f', '‘',\n",
        "#                        '’', '“', '”', '•', '…', '\\u2066', '\\u2067', '\\u2069', '⃣',\n",
        "#                        '║', '❖', '⥂', '珞', '\\ue105', '\\ue30c','\\U0001f9b0',\n",
        "#                        '\\uf33a', '\\uf381', '\\uf602','🏻', '🏼', '🏽', '🏿','🏾', '\\U000fe323', '\\U000fe330',\n",
        "#                        '\\U000fe334', '\\U000fe335', '\\U000fe340']\n",
        "RESERVE            = [ '#', '¤',\n",
        "                       '«', '°', '»', '×', 'é', 'í', 'ö', 'ş', 'ɹ', '˚', '˛', '̈', '̣',\n",
        "                       '̤','\\u200b', '\\u200c', '\\u200d', '\\u200e', '\\u200f', '‘',\n",
        "                       '’', '“', '”', '•', '…', '\\u2066', '\\u2067', '\\u2069', '⃣',\n",
        "                       '║', '❖', '⥂', '珞', '\\ue105', '\\ue30c','\\U0001f9b0',\n",
        "                       '\\uf33a', '\\uf381', '\\uf602','🏻', '🏼', '🏽', '🏿','🏾', '\\U000fe323', '\\U000fe330',\n",
        "                       '\\U000fe334', '\\U000fe335', '\\U000fe340']\n",
        "PUNCTUATIONS = '\"#%&\\'()*+,-./:;<=>@[\\\\]^_`{|}~،$!?÷؟' \n"
      ],
      "execution_count": null,
      "outputs": []
    },
    {
      "cell_type": "code",
      "metadata": {
        "id": "v2IyL9nORo7n"
      },
      "source": [
        "'''\n",
        "Clear Hashtags\n",
        "Remove Links\n",
        "Remove Punctuations\n",
        "remove English \n",
        "remove Numbers\n",
        "Remove Arabic diacritics\n",
        "Translate emojis\n",
        "Remove RESERVE\n",
        "Substituting Single Char with single space(Ex:' s ','s ')\n",
        "Substituting multiple spaces with single space\n",
        "'''\n",
        "def Preprocess_textWithEmojisTranslated_LitePunctuations(text):\n",
        "    #Clear Hashtags\n",
        "    text = re.sub(r\"#(\\w+|[\\sء-ي]+)\",' ', text)\n",
        "    #Remove Links\n",
        "    regex = r\"(?i)\\b((?:https?://|www\\d{0,3}[.]|[a-z0-9.\\-]+[.][a-z]{2,4}/)(?:[^\\s()<>]+|\\(([^\\s()<>]+|(\\([^\\s()<>]+\\)))*\\))+(?:\\(([^\\s()<>]+|(\\([^\\s()<>]+\\)))*\\)|[^\\s`!()\\[\\]{};:'\\\".,<>?«»“”‘’]))\"\n",
        "    text = re.sub(regex,'' ,text)\n",
        "    #Remove Punctuations\n",
        "    text = re.compile('[%s]' % re.escape(PUNCTUATIONS)).sub(' ', text)\n",
        "    #remove English \n",
        "    text = re.sub(r'[A-Za-z]+',' ' ,text)\n",
        "    #remove Numbers \n",
        "    text = re.sub(r'[0-9]+',' ' ,text)\n",
        "    emojiList = df_emojis.emoji.values\n",
        "    #Remove Arabic diacritics\n",
        "    cleanned_diacriticstext = ''\n",
        "    for char in text:\n",
        "        if char in ARABIC_DIACRITiCSC:\n",
        "            continue\n",
        "        else:\n",
        "            cleanned_diacriticstext+=char   \n",
        "    #Translate emojis          \n",
        "    cleanned_text = ''\n",
        "    for char in cleanned_diacriticstext:\n",
        "        if char in emojiList:\n",
        "            try:\n",
        "                cleanned_text += ' '\n",
        "                cleanned_text += df_emojis[df_emojis.emoji == char].values[0][1]\n",
        "                cleanned_text += ' '\n",
        "            except :\n",
        "                pass\n",
        "        else:\n",
        "            cleanned_text+=char\n",
        "    #Remove RESERVE      \n",
        "    cleanned_reservetext = ''\n",
        "    for char in cleanned_text:\n",
        "        if char in RESERVE:\n",
        "            continue\n",
        "        else:\n",
        "            cleanned_reservetext+=char\n",
        "\n",
        "\n",
        "    #Substituting Single Char with single space      \n",
        "    cleanned_reservetext = re.sub(r'\\s+[؀-ۿ1-9]\\s+',' ',cleanned_reservetext) #' s '\n",
        "    cleanned_reservetext = re.sub(r'^[؀-ۿ1-9]\\s+',' ',cleanned_reservetext)   #'s '\n",
        "    # Substituting multiple spaces wit single space\n",
        "    cleanned_reservetext  = re.sub(r'\\s+',' ',cleanned_reservetext, flags=re.I)\n",
        "    \n",
        "    return cleanned_reservetext"
      ],
      "execution_count": null,
      "outputs": []
    },
    {
      "cell_type": "code",
      "metadata": {
        "colab": {
          "base_uri": "https://localhost:8080/",
          "height": 206
        },
        "id": "joY5piWVR5fs",
        "outputId": "5bc00dec-a99e-4e29-c35d-c2f76f76b4bf"
      },
      "source": [
        "originalData_df['processed_Artext'] = originalData_df.arabic_text.apply(lambda x : Preprocess_textWithEmojisTranslated_LitePunctuations(x))\n",
        "originalData_df.head()"
      ],
      "execution_count": null,
      "outputs": [
        {
          "output_type": "execute_result",
          "data": {
            "text/html": [
              "<div>\n",
              "<style scoped>\n",
              "    .dataframe tbody tr th:only-of-type {\n",
              "        vertical-align: middle;\n",
              "    }\n",
              "\n",
              "    .dataframe tbody tr th {\n",
              "        vertical-align: top;\n",
              "    }\n",
              "\n",
              "    .dataframe thead th {\n",
              "        text-align: right;\n",
              "    }\n",
              "</style>\n",
              "<table border=\"1\" class=\"dataframe\">\n",
              "  <thead>\n",
              "    <tr style=\"text-align: right;\">\n",
              "      <th></th>\n",
              "      <th>pow</th>\n",
              "      <th>ach</th>\n",
              "      <th>aff</th>\n",
              "      <th>text</th>\n",
              "      <th>arabic_text</th>\n",
              "      <th>processed_Artext</th>\n",
              "    </tr>\n",
              "  </thead>\n",
              "  <tbody>\n",
              "    <tr>\n",
              "      <th>0</th>\n",
              "      <td>0</td>\n",
              "      <td>0</td>\n",
              "      <td>1</td>\n",
              "      <td>Ein junges Paar kommt gerade von einem Spazier...</td>\n",
              "      <td>زوجان شابان قادمان للتو من نزهة عبر المدينة.</td>\n",
              "      <td>زوجان شابان قادمان للتو من نزهة عبر المدينة</td>\n",
              "    </tr>\n",
              "    <tr>\n",
              "      <th>1</th>\n",
              "      <td>0</td>\n",
              "      <td>0</td>\n",
              "      <td>1</td>\n",
              "      <td>er schrieb nie, telefonierte selten und besuch...</td>\n",
              "      <td>انه لم يكتب ، ونادرا ما اتصل به وزاره أقل من ذ...</td>\n",
              "      <td>انه لم يكتب ونادرا ما اتصل به وزاره أقل من ذلك...</td>\n",
              "    </tr>\n",
              "    <tr>\n",
              "      <th>2</th>\n",
              "      <td>0</td>\n",
              "      <td>0</td>\n",
              "      <td>1</td>\n",
              "      <td>Er freut sich schon darauf, sie bald wieder zu...</td>\n",
              "      <td>وهو يتطلع إلى رؤيتها مرة أخرى قريبا.</td>\n",
              "      <td>وهو يتطلع إلى رؤيتها مرة أخرى قريبا</td>\n",
              "    </tr>\n",
              "    <tr>\n",
              "      <th>3</th>\n",
              "      <td>0</td>\n",
              "      <td>0</td>\n",
              "      <td>0</td>\n",
              "      <td>Beide Laborantinnen wirken sehr angespannt und...</td>\n",
              "      <td>يبدو كل من فنيي المختبر متوترين للغاية ويرغبون...</td>\n",
              "      <td>يبدو كل من فنيي المختبر متوترين للغاية ويرغبون...</td>\n",
              "    </tr>\n",
              "    <tr>\n",
              "      <th>4</th>\n",
              "      <td>0</td>\n",
              "      <td>0</td>\n",
              "      <td>0</td>\n",
              "      <td>Puh, wenn da welche waren, frag die NSA.</td>\n",
              "      <td>بوه، إذا كان هناك أي، اسأل وكالة الأمن القومي.</td>\n",
              "      <td>بوه إذا كان هناك أي اسأل وكالة الأمن القومي</td>\n",
              "    </tr>\n",
              "  </tbody>\n",
              "</table>\n",
              "</div>"
            ],
            "text/plain": [
              "   pow  ...                                   processed_Artext\n",
              "0    0  ...       زوجان شابان قادمان للتو من نزهة عبر المدينة \n",
              "1    0  ...  انه لم يكتب ونادرا ما اتصل به وزاره أقل من ذلك...\n",
              "2    0  ...               وهو يتطلع إلى رؤيتها مرة أخرى قريبا \n",
              "3    0  ...  يبدو كل من فنيي المختبر متوترين للغاية ويرغبون...\n",
              "4    0  ...       بوه إذا كان هناك أي اسأل وكالة الأمن القومي \n",
              "\n",
              "[5 rows x 6 columns]"
            ]
          },
          "metadata": {
            "tags": []
          },
          "execution_count": 115
        }
      ]
    },
    {
      "cell_type": "code",
      "metadata": {
        "colab": {
          "base_uri": "https://localhost:8080/"
        },
        "id": "c-agOwXASMpr",
        "outputId": "7e83f4e4-9efb-444f-89d4-1a964e1750e3"
      },
      "source": [
        "#Splite data to 1 and  0 \n",
        "df000 = originalData_df.query('pow == 0 & ach == 0 & aff == 0')\n",
        "df000 = df000.drop_duplicates()\n",
        "df000.shape"
      ],
      "execution_count": null,
      "outputs": [
        {
          "output_type": "execute_result",
          "data": {
            "text/plain": [
              "(85594, 6)"
            ]
          },
          "metadata": {
            "tags": []
          },
          "execution_count": 130
        }
      ]
    },
    {
      "cell_type": "code",
      "metadata": {
        "colab": {
          "base_uri": "https://localhost:8080/"
        },
        "id": "rC_e5OueTBx4",
        "outputId": "7e40f52d-1c16-491e-f65f-fa2e32cc9acf"
      },
      "source": [
        "df111 = originalData_df.query('pow == 1 | ach == 1 | aff == 1')\n",
        "df111 = df111.drop_duplicates()\n",
        "df111.shape"
      ],
      "execution_count": null,
      "outputs": [
        {
          "output_type": "execute_result",
          "data": {
            "text/plain": [
              "(56326, 6)"
            ]
          },
          "metadata": {
            "tags": []
          },
          "execution_count": 131
        }
      ]
    },
    {
      "cell_type": "code",
      "metadata": {
        "colab": {
          "base_uri": "https://localhost:8080/"
        },
        "id": "c6GJiY6TTK4B",
        "outputId": "213ae8a3-e2a6-426a-fd07-aa1d55f6215f"
      },
      "source": [
        "#Drop Sentence that has 2 words\n",
        "def clear(text):\n",
        "  if len(text)<6:\n",
        "    return 0\n",
        "  if len(nltk.word_tokenize(text))<3:\n",
        "    return 0\n",
        "  return 1\n",
        "df000 = df000[df000['processed_Artext'].map(clear) == 1 ].reset_index(drop=True)\n",
        "df000.shape"
      ],
      "execution_count": null,
      "outputs": [
        {
          "output_type": "execute_result",
          "data": {
            "text/plain": [
              "(85594, 6)"
            ]
          },
          "metadata": {
            "tags": []
          },
          "execution_count": 132
        }
      ]
    },
    {
      "cell_type": "code",
      "metadata": {
        "colab": {
          "base_uri": "https://localhost:8080/"
        },
        "id": "EvqXBjuzTQHb",
        "outputId": "242b4537-dd69-48b7-b731-f5d7575079a2"
      },
      "source": [
        "originalData_df = df111.append(df000)\n",
        "originalData_df = originalData_df.sample(frac=1).reset_index(drop=True)\n",
        "originalData_df.shape"
      ],
      "execution_count": null,
      "outputs": [
        {
          "output_type": "execute_result",
          "data": {
            "text/plain": [
              "(141920, 6)"
            ]
          },
          "metadata": {
            "tags": []
          },
          "execution_count": 133
        }
      ]
    },
    {
      "cell_type": "code",
      "metadata": {
        "id": "W6sFNUWaTSU0"
      },
      "source": [
        "del df000\n",
        "del df111"
      ],
      "execution_count": null,
      "outputs": []
    },
    {
      "cell_type": "code",
      "metadata": {
        "id": "CiofyoYMTayr"
      },
      "source": [
        "#Check Point \n",
        "originalData_df.to_csv (r'/content/drive/MyDrive/Data/German_Data/OreginalDataset/CleanedGermanDataset.csv', index = False)"
      ],
      "execution_count": null,
      "outputs": []
    },
    {
      "cell_type": "markdown",
      "metadata": {
        "id": "eNVj3aQVaw0J"
      },
      "source": [
        "# **CheckPoint**"
      ]
    },
    {
      "cell_type": "code",
      "metadata": {
        "id": "ULCRGgAMI17O"
      },
      "source": [
        "MergedGerEnDatasetPATH   = '/content/drive/MyDrive/Data/German_Data/OreginalDataset/MergedGerEnDataset.csv'\n",
        "GerDatasetPath           = '/content/drive/MyDrive/Data/German_Data/OreginalDataset/CleanedGermanDataset.csv'\n",
        "MergedUD2_Germ5000RowPATH = '/content/drive/MyDrive/Data/German_Data/OreginalDataset/MergedUD2_Germ5000Row.csv'\n",
        "UD2_Drop5000RowPATH       = '/content/drive/MyDrive/Data/German_Data/OreginalDataset/UD2_Drop5000Row.csv'"
      ],
      "execution_count": 2,
      "outputs": []
    },
    {
      "cell_type": "code",
      "metadata": {
        "id": "fnilQ8TOa2Mj"
      },
      "source": [
        "import pandas as pd"
      ],
      "execution_count": 3,
      "outputs": []
    },
    {
      "cell_type": "code",
      "metadata": {
        "colab": {
          "base_uri": "https://localhost:8080/"
        },
        "id": "lRh6tLkSJQu2",
        "outputId": "29531799-2ebc-4f8c-8864-dba92fd18a65"
      },
      "source": [
        "#read File\n",
        "MergedUD2_Germ5000Row_df = pd.read_csv(MergedUD2_Germ5000RowPATH)\n",
        "MergedUD2_Germ5000Row_df.shape"
      ],
      "execution_count": 4,
      "outputs": [
        {
          "output_type": "execute_result",
          "data": {
            "text/plain": [
              "(146920, 5)"
            ]
          },
          "metadata": {
            "tags": []
          },
          "execution_count": 4
        }
      ]
    },
    {
      "cell_type": "code",
      "metadata": {
        "colab": {
          "base_uri": "https://localhost:8080/"
        },
        "id": "uI2dqVrcJRAU",
        "outputId": "f073dfa3-caa4-49e1-c094-015eebf2a58c"
      },
      "source": [
        "#read File\n",
        "UD2_Drop5000Row_df = pd.read_csv(UD2_Drop5000RowPATH)\n",
        "UD2_Drop5000Row_df.shape"
      ],
      "execution_count": 5,
      "outputs": [
        {
          "output_type": "execute_result",
          "data": {
            "text/plain": [
              "(23686, 5)"
            ]
          },
          "metadata": {
            "tags": []
          },
          "execution_count": 5
        }
      ]
    },
    {
      "cell_type": "code",
      "metadata": {
        "colab": {
          "base_uri": "https://localhost:8080/"
        },
        "id": "x7_brNn_a6z0",
        "outputId": "285e97a9-bef5-4796-e07a-c3b8da0c662a"
      },
      "source": [
        "#read File\n",
        "originalData_df = pd.read_csv(GerDatasetPath)\n",
        "originalData_df.shape"
      ],
      "execution_count": null,
      "outputs": [
        {
          "output_type": "execute_result",
          "data": {
            "text/plain": [
              "(141920, 6)"
            ]
          },
          "metadata": {
            "tags": []
          },
          "execution_count": 4
        }
      ]
    },
    {
      "cell_type": "markdown",
      "metadata": {
        "id": "yY0ojxIfBCIh"
      },
      "source": [
        "# **Merge Some of English Data**"
      ]
    },
    {
      "cell_type": "code",
      "metadata": {
        "id": "c0wI1P43U1Yz"
      },
      "source": [
        "import random"
      ],
      "execution_count": null,
      "outputs": []
    },
    {
      "cell_type": "code",
      "metadata": {
        "id": "_ZGRFNpOOpPD"
      },
      "source": [
        "UD1PATH = '/content/drive/MyDrive/Data/German_Data/UD1.csv'\n",
        "UD2PATH = '/content/drive/MyDrive/Data/German_Data/UD2.csv'\n",
        "UD3PATH = '/content/drive/MyDrive/Data/German_Data/UD3.csv'"
      ],
      "execution_count": null,
      "outputs": []
    },
    {
      "cell_type": "code",
      "metadata": {
        "colab": {
          "base_uri": "https://localhost:8080/"
        },
        "id": "nPLZW3nYBISe",
        "outputId": "1ff2e289-c4c0-45b2-b5e6-c95c2d444bc4"
      },
      "source": [
        "UD2_df = pd.read_csv(UD2PATH)\n",
        "UD2_df.shape"
      ],
      "execution_count": null,
      "outputs": [
        {
          "output_type": "execute_result",
          "data": {
            "text/plain": [
              "(28686, 5)"
            ]
          },
          "metadata": {
            "tags": []
          },
          "execution_count": 50
        }
      ]
    },
    {
      "cell_type": "code",
      "metadata": {
        "colab": {
          "base_uri": "https://localhost:8080/"
        },
        "id": "XfdMppGIDGmp",
        "outputId": "04816ef8-51a7-40d2-9d91-bfa29da3a3a6"
      },
      "source": [
        "UD2_df.columns"
      ],
      "execution_count": null,
      "outputs": [
        {
          "output_type": "execute_result",
          "data": {
            "text/plain": [
              "Index(['pow', 'ach', 'aff', 'arabic_text', 'processed_Artext'], dtype='object')"
            ]
          },
          "metadata": {
            "tags": []
          },
          "execution_count": 51
        }
      ]
    },
    {
      "cell_type": "code",
      "metadata": {
        "colab": {
          "base_uri": "https://localhost:8080/"
        },
        "id": "JWA8rDmaIIbN",
        "outputId": "a5732167-c56a-43ec-dd67-d2a869802877"
      },
      "source": [
        "originalData_df = originalData_df.drop(columns=['text'])\n",
        "originalData_df.columns"
      ],
      "execution_count": null,
      "outputs": [
        {
          "output_type": "execute_result",
          "data": {
            "text/plain": [
              "Index(['pow', 'ach', 'aff', 'arabic_text', 'processed_Artext'], dtype='object')"
            ]
          },
          "metadata": {
            "tags": []
          },
          "execution_count": 54
        }
      ]
    },
    {
      "cell_type": "code",
      "metadata": {
        "colab": {
          "base_uri": "https://localhost:8080/"
        },
        "id": "IlP4FXtgU6ft",
        "outputId": "e7a997ea-baa3-4472-a003-f63b594b750f"
      },
      "source": [
        "randomIndexList = random.sample(range(0, UD2_df.shape[0]), 5000)\n",
        "print(randomIndexList)"
      ],
      "execution_count": null,
      "outputs": [
        {
          "output_type": "stream",
          "text": [
            "[22974, 48, 9122, 1919, 13509, 4732, 24145, 7938, 10053, 26478, 172, 28182, 388, 27440, 12101, 20079, 6062, 14912, 7032, 27248, 16576, 24172, 9998, 8746, 21968, 6188, 17107, 3089, 15886, 28405, 8593, 18219, 10338, 6386, 24965, 21906, 26278, 25143, 22024, 18849, 8584, 7462, 16472, 9316, 11035, 18420, 18161, 10047, 6161, 17073, 10585, 4688, 4972, 17878, 6575, 7339, 24269, 27967, 45, 9220, 8450, 10124, 17256, 844, 11251, 23675, 26177, 1670, 3148, 7310, 4982, 5056, 6131, 25581, 20158, 1524, 26164, 24068, 366, 18049, 25092, 27500, 12048, 2562, 10180, 10041, 16855, 11632, 23659, 24793, 2769, 8346, 1463, 25947, 19270, 3358, 27233, 14223, 24581, 3451, 4685, 8504, 12406, 8097, 17543, 18626, 16486, 22034, 10364, 18324, 11168, 5339, 8024, 26483, 19579, 28558, 9648, 5548, 16126, 19235, 22374, 28369, 5802, 6173, 7082, 8447, 20543, 16272, 11857, 27808, 24811, 25391, 12329, 3375, 10206, 14503, 8843, 11588, 26533, 8552, 18909, 13353, 17852, 13951, 13219, 1385, 3496, 22684, 17326, 19840, 20668, 15892, 9760, 1245, 11993, 16789, 23899, 13917, 3537, 24600, 15598, 13912, 18256, 3456, 16745, 1290, 18592, 18333, 15810, 28455, 11376, 13605, 4152, 5759, 24012, 8029, 26789, 10551, 368, 7642, 11125, 5151, 11529, 22651, 16088, 121, 82, 26250, 21849, 3118, 22699, 24918, 7795, 1188, 27068, 4252, 4807, 18848, 23762, 4974, 23775, 13819, 9789, 21926, 5582, 21895, 2037, 27276, 24735, 9743, 20088, 23950, 6973, 14065, 18193, 9719, 25717, 18750, 20203, 13610, 12314, 13480, 14043, 6532, 23312, 28571, 13766, 4226, 13310, 23221, 1531, 9234, 12927, 14392, 21935, 17938, 22864, 16488, 7218, 28179, 20911, 977, 6421, 7162, 16593, 13805, 28462, 15210, 905, 14457, 2367, 17623, 18748, 16398, 16891, 28675, 24277, 28205, 1716, 23809, 1445, 6948, 8229, 13141, 1211, 14334, 19553, 6142, 26692, 26812, 7114, 5784, 22843, 22028, 15425, 22243, 17940, 17909, 18547, 18834, 7321, 28496, 6871, 15920, 1034, 21359, 8561, 24612, 846, 10269, 13866, 5881, 26002, 9481, 27899, 26890, 2933, 17825, 10419, 17760, 4938, 4057, 22701, 18986, 24526, 13626, 7792, 21441, 4183, 5757, 11460, 15555, 7728, 17936, 10731, 22705, 25994, 2573, 27555, 15143, 12415, 15823, 27627, 7, 8268, 12159, 21131, 15994, 12257, 12551, 11408, 1831, 23879, 17026, 11714, 4906, 27955, 355, 24670, 23882, 22514, 23728, 4362, 7720, 7350, 861, 8041, 12468, 24487, 9931, 24761, 2631, 13628, 8666, 22445, 7277, 12108, 23646, 23956, 28102, 4142, 4600, 23503, 21996, 14956, 3403, 24607, 18317, 25905, 1490, 8601, 11690, 20999, 11483, 10409, 28315, 2737, 14430, 21301, 26349, 7380, 21471, 5842, 19602, 19814, 27211, 27876, 22623, 9165, 4484, 17810, 6498, 7241, 17908, 2702, 26427, 7281, 7197, 8064, 8556, 1491, 3488, 12663, 20516, 2142, 24228, 16031, 23723, 18207, 24263, 15498, 3577, 14087, 11735, 16587, 3906, 22741, 21549, 13284, 15770, 11590, 2784, 19008, 5441, 20295, 19394, 2748, 23614, 25416, 22511, 25684, 15682, 12571, 2630, 19516, 27241, 23799, 23501, 11212, 18126, 6509, 4566, 10859, 1945, 21736, 25262, 28158, 11102, 13927, 17443, 6115, 5800, 738, 6374, 22370, 24006, 19793, 26366, 19383, 182, 5299, 25151, 21036, 8015, 27023, 8305, 1627, 25023, 8459, 21600, 26729, 9244, 4438, 15958, 10230, 15520, 27477, 17006, 19272, 2168, 27841, 12732, 8858, 1476, 4698, 18947, 11947, 10270, 4088, 24370, 23586, 2604, 12534, 26942, 20093, 5090, 22425, 19288, 27038, 13383, 21719, 1242, 17842, 14653, 10809, 6778, 14614, 10340, 13295, 21161, 27737, 20563, 21965, 16555, 18338, 11818, 7889, 6199, 25863, 28360, 20440, 1611, 16078, 15795, 3026, 5291, 2736, 9041, 4953, 17012, 5676, 20420, 15230, 15406, 1948, 18788, 28041, 15301, 22814, 17472, 6827, 3629, 28309, 12733, 27191, 2885, 15391, 21868, 3607, 7365, 21946, 28168, 4638, 12145, 4270, 9277, 3646, 17483, 13868, 14437, 22036, 26475, 23049, 17757, 3694, 7193, 13169, 28252, 9680, 8243, 15870, 5459, 12004, 6495, 5115, 28120, 19476, 5778, 27674, 16885, 27907, 9164, 18954, 22848, 22618, 2992, 15085, 16346, 22207, 24136, 20298, 2454, 28583, 25858, 18961, 26455, 16666, 16994, 1143, 18502, 26915, 2684, 12809, 8775, 15607, 20581, 20947, 13059, 3847, 4858, 25671, 14011, 4919, 22578, 847, 7375, 20998, 8260, 14306, 9856, 13862, 2211, 17179, 23553, 9138, 14814, 12249, 10375, 2585, 22457, 19336, 13838, 4558, 18098, 13588, 11654, 5608, 3325, 8892, 4114, 2966, 20791, 17654, 23093, 21836, 20085, 18861, 17294, 222, 14448, 6078, 11577, 21995, 25245, 16231, 20629, 6414, 3318, 9750, 10584, 24543, 17844, 15508, 1815, 19403, 24168, 19828, 22803, 13782, 20826, 8486, 23460, 16032, 7784, 987, 13165, 2006, 11167, 13111, 3925, 28136, 18640, 19402, 11833, 17596, 14095, 11645, 25182, 17161, 1645, 18762, 12570, 14751, 14488, 7778, 25329, 16240, 15292, 1739, 5874, 25562, 28063, 27749, 15003, 11931, 1753, 27905, 618, 18942, 3852, 11458, 4718, 14410, 938, 21099, 18564, 4876, 25637, 19551, 10301, 16312, 24246, 8313, 4602, 9669, 23729, 6402, 1033, 25836, 14613, 13786, 26013, 1879, 19677, 7691, 148, 14101, 7933, 14468, 25873, 18740, 7777, 9111, 10306, 2171, 25057, 15118, 27493, 11069, 16284, 14748, 17050, 20838, 19001, 18014, 19623, 19831, 4765, 13852, 26572, 4616, 9829, 26994, 7815, 11759, 28534, 7263, 7632, 4609, 10299, 24524, 11392, 23147, 4711, 8792, 4690, 25014, 22402, 24738, 9326, 27181, 2904, 17690, 13046, 730, 27995, 7308, 2368, 20872, 26196, 18041, 20240, 24301, 6346, 15545, 17671, 14970, 2947, 18508, 5724, 619, 27765, 6998, 17087, 16441, 23141, 27062, 24563, 23121, 19121, 16318, 9765, 7478, 1762, 24406, 25912, 25250, 17126, 22534, 24075, 817, 12327, 7584, 2828, 12510, 7599, 20467, 24594, 16401, 450, 7178, 19136, 23541, 11042, 15479, 7825, 27268, 23323, 11372, 12504, 13107, 3779, 10, 17374, 22140, 14255, 15857, 12277, 24688, 17926, 12489, 1912, 1539, 21684, 26384, 13377, 20072, 25188, 14795, 12103, 23309, 11444, 21052, 21059, 20886, 6343, 13253, 712, 28374, 28275, 2568, 12303, 349, 19760, 17740, 25037, 13210, 16956, 21618, 17934, 13247, 19002, 25733, 26335, 2577, 6987, 26711, 6762, 27190, 8131, 24704, 25917, 15954, 14673, 26835, 24911, 10223, 14745, 2463, 28030, 18453, 10177, 5348, 23026, 6849, 27760, 14004, 13083, 23294, 21215, 1824, 17334, 28685, 27128, 24890, 5150, 23778, 17380, 2439, 15938, 6996, 12949, 4049, 27360, 13775, 25306, 6847, 15356, 11803, 13153, 21076, 17306, 14829, 4106, 21244, 2745, 13426, 19067, 1551, 16255, 22042, 20989, 16035, 22011, 7041, 21699, 1412, 2111, 17727, 22654, 8369, 12076, 22726, 6328, 5612, 21047, 7807, 18571, 1056, 22565, 20665, 7434, 2095, 18178, 10508, 22871, 16821, 7257, 17984, 12829, 21790, 16439, 9896, 15794, 15988, 19829, 1227, 25580, 2592, 21035, 27091, 26787, 18390, 90, 11393, 18404, 17381, 7673, 25792, 21642, 23511, 1701, 21433, 11076, 28032, 16524, 4136, 17438, 22223, 16558, 6360, 20713, 21870, 8660, 7190, 14475, 27277, 26144, 23569, 4259, 3789, 25157, 24245, 4166, 11545, 13693, 6186, 1895, 23059, 5739, 17591, 7614, 5537, 11736, 28683, 3984, 19768, 10609, 25377, 17267, 25552, 8512, 5199, 9029, 1932, 21048, 19849, 5782, 6028, 12136, 3688, 2872, 14932, 15069, 10747, 20732, 18886, 7891, 18116, 16864, 4739, 10489, 8213, 24861, 10046, 13574, 13209, 1147, 19657, 9319, 15650, 5219, 17524, 16552, 24710, 10918, 21281, 20834, 12424, 9441, 6961, 14129, 10678, 9724, 16918, 10633, 11260, 23732, 20277, 8891, 3194, 20106, 24302, 12203, 11665, 13089, 18636, 23571, 5848, 1141, 21430, 18725, 1442, 16055, 23949, 4063, 6287, 3257, 2607, 23590, 41, 24142, 7016, 395, 19025, 11565, 5895, 24298, 23373, 20694, 7111, 24933, 15922, 13575, 8897, 511, 18496, 13365, 25579, 20205, 2871, 14750, 14196, 25121, 14217, 6557, 4135, 19851, 14960, 22235, 27947, 17997, 14747, 24088, 21938, 11338, 4174, 19782, 27667, 1729, 11864, 18826, 8538, 1178, 21631, 25477, 18656, 9035, 7909, 7460, 11165, 23018, 2378, 3525, 24390, 16971, 134, 25801, 28427, 22125, 9885, 11156, 3673, 20926, 9352, 22711, 16143, 8408, 24435, 24305, 11293, 3038, 6519, 22703, 14705, 6201, 20534, 23436, 1468, 10875, 7156, 3269, 7531, 729, 24812, 12078, 4994, 22461, 5743, 23245, 18802, 10626, 19965, 9027, 1112, 851, 572, 15730, 26006, 1914, 28419, 10307, 27421, 17517, 5255, 22404, 6358, 9854, 27754, 5018, 23906, 7481, 2503, 14040, 23743, 12313, 23517, 454, 27423, 22296, 23302, 16271, 25556, 27142, 16917, 8588, 22126, 26391, 2739, 18112, 27286, 1799, 22313, 20104, 2900, 7958, 8102, 2032, 1783, 164, 16580, 23426, 3967, 7671, 10216, 8510, 11913, 25511, 18475, 19733, 9518, 4338, 12858, 9174, 21082, 13198, 19777, 4777, 14192, 6167, 1625, 12470, 19670, 12891, 27459, 24606, 24854, 18270, 16467, 10358, 18631, 10159, 2626, 6599, 26023, 1927, 28220, 20880, 28641, 14033, 18392, 4847, 17331, 14826, 12043, 2415, 24940, 23268, 17636, 17681, 20466, 2453, 7772, 24828, 16194, 12995, 20815, 11964, 3711, 461, 28415, 12826, 9849, 26262, 16921, 17428, 2754, 25554, 23073, 20248, 24080, 8300, 16884, 17510, 5162, 16077, 27022, 99, 21746, 18807, 28294, 16314, 7305, 19014, 6967, 12074, 7449, 23784, 4414, 24416, 14431, 6253, 14305, 22157, 23876, 1740, 4066, 7312, 128, 22816, 5263, 21808, 25341, 19712, 17425, 19183, 16701, 17345, 15007, 22912, 8398, 12820, 22960, 12988, 15659, 3964, 8388, 16241, 26150, 15648, 9607, 8707, 15838, 12933, 22135, 25578, 8509, 20564, 27224, 21323, 2354, 16880, 14047, 26222, 1818, 10753, 18972, 26542, 26078, 13889, 27088, 19924, 13928, 28337, 5118, 17653, 5438, 22187, 17113, 13589, 11267, 2139, 15530, 2343, 12870, 21805, 12252, 27867, 14269, 4991, 23178, 5748, 1772, 1594, 16208, 16185, 13843, 9141, 17347, 1430, 2943, 2181, 6465, 1615, 15273, 26546, 16887, 22070, 26959, 21953, 25958, 11228, 22072, 9768, 3610, 21890, 22905, 18111, 21109, 17992, 19871, 4312, 26668, 21314, 4960, 15205, 26359, 28129, 2100, 25247, 6017, 27488, 18899, 6151, 8820, 27622, 14357, 1481, 12165, 1600, 787, 20887, 25623, 18451, 4341, 1303, 25885, 22776, 12855, 6117, 4990, 6618, 13798, 4961, 18341, 8471, 23886, 22971, 11437, 8035, 12874, 592, 22003, 22013, 9161, 21931, 12403, 9132, 6139, 2973, 11544, 452, 25474, 24507, 2625, 13164, 575, 20047, 24281, 9271, 3624, 24948, 25363, 8147, 5799, 2778, 27698, 20423, 17502, 14902, 18277, 27992, 5024, 16890, 13948, 13706, 25423, 11685, 1957, 13443, 1021, 6890, 7490, 21957, 21387, 14689, 13032, 11991, 886, 27228, 22047, 10372, 400, 10506, 2826, 4612, 14076, 10642, 22795, 21682, 10374, 17535, 11924, 26730, 873, 13460, 17589, 8699, 5245, 11398, 13173, 25558, 10902, 10093, 23193, 19572, 13255, 24874, 16772, 15478, 8083, 15973, 3743, 15177, 17017, 19429, 27885, 9017, 3364, 25702, 25149, 14938, 14990, 6290, 20555, 17058, 22435, 2372, 13302, 16696, 10199, 22792, 27846, 11805, 22136, 1318, 25376, 14190, 1059, 19634, 13840, 20302, 2823, 19966, 13041, 9828, 19170, 5678, 23980, 27558, 644, 15501, 23339, 14472, 22236, 8990, 16301, 14409, 13264, 25164, 27476, 17335, 4432, 20334, 17641, 13428, 2936, 3040, 5155, 18847, 20139, 17896, 7382, 772, 20202, 8798, 12494, 14538, 19497, 19608, 2533, 25638, 19454, 26561, 18683, 18446, 26822, 11998, 20266, 12173, 27677, 3706, 5347, 660, 12387, 15626, 2824, 21528, 21416, 20176, 9198, 6526, 26086, 227, 28578, 4449, 27766, 28251, 21299, 3953, 17204, 17625, 19428, 19073, 19344, 25491, 19858, 24923, 23958, 12906, 17299, 358, 2187, 6921, 6373, 4811, 1218, 20680, 18137, 25469, 14436, 18190, 7765, 13898, 4914, 20914, 6178, 17098, 12476, 8448, 19600, 28007, 11247, 15939, 26998, 16138, 21033, 13389, 25283, 8223, 13156, 12862, 15825, 14222, 28162, 6792, 2662, 25081, 14915, 15261, 22170, 13274, 11017, 5611, 2144, 20745, 11960, 553, 3796, 3554, 27060, 14976, 10827, 20160, 28108, 27078, 28024, 4029, 10178, 21714, 20600, 11860, 10286, 15399, 28393, 15204, 4480, 7687, 15132, 16900, 19523, 20165, 11190, 6021, 24732, 27082, 28348, 1850, 19639, 24789, 23652, 8689, 25315, 5449, 23067, 17300, 24554, 18878, 22278, 14435, 3263, 26461, 16356, 20142, 10737, 17655, 25371, 22842, 28650, 19113, 16350, 10400, 1280, 2613, 11470, 241, 8976, 19909, 20437, 19513, 11637, 3202, 17921, 16632, 23352, 3143, 15165, 4488, 1012, 25510, 10266, 5296, 21630, 22259, 22429, 9592, 7250, 24359, 4117, 7904, 1883, 11675, 7266, 1981, 14569, 17313, 26906, 17859, 19528, 4331, 14045, 1138, 684, 18229, 23638, 751, 18560, 27795, 24271, 6797, 2398, 19153, 25985, 1597, 7987, 2821, 15670, 9556, 20683, 13036, 6301, 7804, 8642, 26167, 27545, 10025, 4581, 22397, 7857, 5863, 20482, 2897, 24701, 16289, 12131, 28438, 13903, 25753, 16773, 8587, 13108, 7160, 18381, 24278, 824, 28288, 19461, 6411, 10994, 18977, 18812, 3160, 13600, 22616, 25484, 10109, 2735, 3999, 1135, 25826, 23321, 10296, 19896, 14624, 12355, 14272, 4770, 16436, 9506, 9191, 15045, 6273, 17076, 14777, 16490, 4461, 16551, 27269, 6870, 18948, 4319, 11659, 27170, 25932, 16607, 13252, 9951, 23661, 11422, 25628, 27006, 21893, 24113, 8093, 25406, 22131, 21921, 11686, 13764, 1351, 22063, 7731, 4358, 15432, 11952, 18282, 7091, 13493, 12762, 4122, 21110, 26111, 21654, 26414, 5306, 14482, 24252, 11396, 10408, 20952, 2814, 9145, 20644, 6441, 17327, 6487, 13556, 14084, 8640, 23224, 4285, 10855, 15245, 4779, 4763, 9816, 25892, 588, 8499, 23430, 15998, 14247, 21014, 23649, 22197, 22600, 16033, 3632, 10701, 15139, 21605, 19723, 8893, 19070, 21037, 16730, 5392, 10496, 708, 3055, 27809, 3831, 18905, 16012, 16448, 20365, 6616, 12739, 21565, 10957, 18366, 26547, 1390, 26180, 10812, 18345, 16051, 6094, 3952, 10157, 4305, 3555, 9134, 27329, 3869, 11811, 20129, 21465, 3714, 28323, 22123, 17311, 2629, 22997, 27096, 10303, 22770, 11817, 15860, 24566, 24319, 23280, 22247, 23429, 27347, 6449, 8395, 3476, 9869, 10130, 13550, 23015, 20569, 23660, 16130, 17857, 11508, 21020, 3279, 8871, 19696, 18360, 18090, 7838, 4268, 27173, 1754, 18237, 11435, 14388, 27886, 20576, 22026, 25634, 11138, 1989, 26293, 16866, 8050, 20292, 11097, 5902, 14791, 21772, 10273, 22655, 24226, 20608, 12239, 15594, 20593, 12856, 1930, 27390, 24893, 4367, 27156, 12139, 23226, 26021, 15158, 25280, 19377, 26935, 13837, 9588, 26538, 12507, 9800, 19045, 16648, 27484, 2719, 14650, 15388, 9747, 12967, 22340, 15737, 1851, 10427, 25791, 12824, 14820, 5749, 22906, 13920, 10484, 26744, 10164, 11889, 4420, 11389, 20254, 1376, 23031, 410, 7183, 13308, 16937, 10933, 8659, 557, 19478, 5913, 24725, 12463, 20394, 4363, 26766, 21603, 20110, 3762, 26011, 20017, 25041, 20340, 25015, 26324, 13844, 26016, 20974, 15389, 3057, 13888, 24489, 1548, 24065, 17779, 6724, 26816, 22757, 23272, 12169, 6293, 3398, 25438, 7395, 1673, 2741, 15480, 330, 11009, 14831, 918, 13725, 20825, 9639, 28390, 13946, 3322, 1381, 2278, 21436, 27963, 24844, 21357, 19301, 5092, 6546, 23810, 8667, 7996, 23993, 14770, 5053, 19469, 20443, 2499, 23895, 3949, 15189, 10587, 2889, 3070, 18150, 10816, 9032, 25794, 6280, 16881, 19506, 20957, 1965, 27896, 1986, 20659, 28022, 23601, 23383, 4278, 5731, 10335, 2042, 9299, 25864, 2169, 12258, 11810, 20236, 17030, 27969, 12160, 12946, 3448, 25347, 12075, 2049, 23403, 1828, 9153, 7036, 15141, 19086, 26614, 24064, 23602, 3340, 21593, 11160, 26642, 14784, 7862, 6051, 11832, 25592, 21029, 3162, 14762, 4302, 5483, 342, 19786, 12335, 24350, 26896, 24003, 22832, 16976, 25397, 24577, 2680, 17363, 727, 1067, 15236, 22718, 8679, 716, 18707, 4483, 16427, 7881, 23417, 602, 24328, 19860, 6497, 10838, 20706, 27104, 11949, 14098, 18665, 17638, 12288, 5975, 25758, 27670, 17341, 9429, 23903, 14813, 9603, 3126, 16187, 10315, 16348, 26698, 4352, 12993, 18384, 28668, 11357, 8594, 20013, 14242, 27664, 8795, 9794, 1375, 24495, 15185, 8546, 20064, 14778, 13646, 1939, 7983, 1162, 6787, 28361, 21624, 2345, 9973, 23322, 17769, 12171, 25574, 15826, 2689, 2599, 16998, 9652, 12681, 2612, 13042, 16751, 7664, 19400, 2820, 22808, 23584, 12944, 12402, 13401, 22812, 26331, 5419, 25986, 21269, 6138, 17830, 6604, 24413, 9360, 14891, 11463, 14884, 23179, 28481, 9808, 16159, 7332, 6919, 19959, 10509, 21887, 455, 21862, 9388, 27045, 12646, 24692, 15844, 13345, 19701, 12707, 28674, 10644, 19631, 1802, 5599, 6182, 594, 9104, 17784, 15462, 23414, 11660, 16251, 16008, 25632, 27146, 665, 5317, 5351, 4297, 15602, 22295, 6788, 3368, 3302, 4323, 22109, 16668, 25175, 2579, 5690, 12212, 19666, 14525, 14454, 22449, 18280, 26987, 1680, 11620, 20197, 9795, 1049, 22625, 19660, 15813, 1054, 23707, 20782, 2310, 5745, 261, 10618, 12096, 17100, 13607, 1035, 13821, 17700, 9044, 15565, 25374, 8023, 1623, 22330, 5987, 7973, 24498, 14342, 17481, 20541, 20223, 19313, 18644, 26656, 5229, 28679, 2862, 4589, 10728, 27506, 23512, 19820, 19291, 19774, 25842, 26648, 206, 11799, 7934, 8359, 24842, 1133, 24675, 8410, 15030, 666, 16296, 14882, 26173, 7387, 11244, 4404, 26329, 17756, 19796, 4976, 10069, 5553, 6692, 20638, 25668, 8034, 16685, 14415, 26073, 1053, 23968, 6174, 26381, 24785, 28645, 1685, 7144, 10504, 26768, 21785, 27151, 25731, 11780, 10002, 2960, 7518, 13082, 11569, 15439, 5769, 2466, 12272, 19520, 2089, 6363, 629, 3146, 11622, 15505, 26886, 6004, 6644, 13364, 11661, 9655, 9438, 7679, 22522, 13421, 18584, 18119, 27781, 19089, 11678, 20951, 9442, 10628, 13750, 3333, 11640, 14819, 14715, 28046, 9944, 19559, 14487, 19398, 20734, 12653, 984, 25220, 11263, 2774, 14560, 17398, 20749, 6927, 8967, 4225, 23978, 23456, 12516, 14276, 27475, 24610, 15966, 8621, 1086, 11571, 921, 28105, 1786, 25633, 7814, 1111, 9315, 5218, 5760, 15121, 8647, 6395, 12218, 23060, 2771, 5640, 20454, 5566, 13674, 25595, 10965, 15569, 26149, 3670, 25259, 24895, 22186, 18696, 3452, 3907, 5454, 20370, 20875, 9491, 13727, 4291, 17778, 13121, 24117, 16302, 3649, 300, 27595, 22975, 28416, 12097, 4592, 19986, 25046, 24373, 10222, 4339, 18850, 8334, 24801, 10016, 7901, 14433, 14807, 11523, 13957, 25915, 6653, 4728, 16053, 7035, 2179, 19058, 23231, 14920, 5445, 3932, 8879, 11404, 1510, 19127, 19780, 4760, 11215, 478, 24505, 22204, 11198, 23230, 2431, 20617, 18505, 12841, 5666, 10282, 27631, 10632, 12370, 22857, 12501, 3556, 21124, 13896, 13072, 27139, 6794, 13943, 4597, 15206, 12947, 25901, 694, 9247, 20016, 15513, 18223, 21484, 2623, 18687, 24213, 656, 5639, 17777, 19997, 27026, 3674, 2565, 26619, 4941, 18507, 21718, 26281, 10182, 11320, 15789, 23972, 2792, 11131, 7020, 16477, 8272, 18836, 20804, 24124, 6805, 10026, 24485, 20759, 26458, 28664, 2166, 2516, 9964, 6244, 15355, 8350, 22931, 16836, 17074, 2275, 24376, 14017, 1127, 23948, 18685, 26607, 12541, 4237, 24337, 1095, 22271, 26342, 2276, 12763, 19799, 11958, 23143, 1606, 1307, 23078, 19254, 17501, 28126, 2916, 6562, 18125, 15281, 27366, 18881, 27571, 7990, 17360, 16325, 7157, 2667, 2788, 22642, 15065, 13633, 13079, 6316, 28435, 15849, 17070, 5153, 22409, 7633, 15442, 2088, 20830, 9579, 10630, 17672, 7432, 318, 8567, 23463, 17485, 24039, 14097, 14926, 7617, 1150, 7702, 707, 20097, 18803, 6764, 10420, 17416, 21385, 16988, 14155, 21173, 6260, 6541, 13653, 19482, 4545, 14568, 18238, 15593, 323, 23831, 21407, 12233, 16801, 20041, 13088, 26240, 1374, 15471, 27179, 1312, 15991, 14619, 10976, 23148, 12317, 14153, 3129, 13338, 3107, 21370, 15278, 16290, 16391, 23405, 2321, 8301, 26109, 1036, 15250, 27196, 5038, 22069, 2656, 23837, 2214, 9202, 4425, 7942, 8302, 36, 20730, 19233, 17806, 26181, 25761, 15300, 9394, 6607, 21922, 1616, 27482, 15989, 27435, 22592, 21891, 4192, 12897, 5865, 23278, 2666, 2257, 5854, 21598, 16615, 28363, 6307, 27114, 5679, 21675, 8085, 8575, 9999, 5465, 11948, 19418, 22346, 1495, 9167, 1169, 17734, 573, 10101, 17864, 27750, 15082, 16449, 7696, 22562, 2375, 26298, 14517, 8636, 26383, 19410, 2290, 27027, 23814, 8466, 5181, 9862, 19302, 16304, 46, 22601, 5715, 26550, 16407, 2531, 16878, 2962, 25504, 19590, 28009, 3099, 8562, 230, 26507, 26715, 16634, 5289, 19583, 11764, 14578, 21869, 22137, 8389, 13437, 6687, 10802, 27344, 6602, 28121, 732, 16598, 22779, 1839, 24910, 27299, 4035, 15473, 19192, 10670, 20630, 3320, 15309, 27666, 935, 114, 3770, 16381, 1294, 5811, 16686, 22504, 21424, 11872, 26531, 20635, 9466, 19122, 25054, 19120, 22483, 19372, 4107, 15714, 18545, 15260, 23769, 3989, 22107, 21640, 21274, 2659, 9764, 1678, 18479, 24808, 18969, 25393, 16670, 13394, 28549, 20491, 27111, 26288, 20472, 19637, 10520, 9954, 6041, 6325, 25487, 3627, 5037, 28161, 16932, 6749, 24972, 26378, 24148, 5081, 4846, 24784, 14141, 10099, 22633, 4200, 5173, 2026, 20009, 9567, 781, 7348, 842, 28330, 23510, 9242, 8903, 12881, 21727, 17314, 2854, 14698, 23023, 23334, 23714, 23706, 17947, 3422, 14756, 18643, 23847, 4528, 7208, 9365, 9936, 4405, 26701, 7930, 11586, 4642, 25808, 13382, 23922, 12852, 18448, 16475, 15537, 14527, 7005, 22379, 28081, 10366, 22649, 6335, 1090, 3391, 1941, 16180, 25797, 24047, 17635, 16746, 15367, 12536, 11302, 20611, 17868, 16397, 10864, 18691, 9513, 23096, 1408, 12767, 2066, 2751, 21466, 5890, 22987, 864, 8537, 7650, 17324, 4538, 20955, 7198, 1933, 3979, 11820, 16672, 3282, 18877, 19099, 3301, 23761, 19688, 13887, 17003, 5905, 14123, 28620, 11910, 20193, 10453, 21376, 3698, 767, 15595, 26686, 26956, 7390, 26743, 1866, 27807, 2412, 10942, 13489, 9000, 20195, 18816, 12816, 15084, 22844, 20149, 24288, 12684, 16986, 24921, 12532, 7608, 23518, 448, 3973, 2913, 11275, 3184, 16943, 1334, 22485, 10833, 22992, 14618, 13627, 8544, 3, 15188, 6483, 24274, 1029, 9504, 8563, 24583, 19577, 17475, 22338, 13126, 1516, 19995, 16925, 8130, 15683, 19131, 7550, 17704, 28338, 11300, 6019, 21765, 7669, 12830, 21850, 26791, 14230, 11136, 8574, 27710, 6443, 9651, 1766, 20463, 5012, 4254, 20977, 21896, 26477, 5198, 17610, 12979, 2410, 6864, 14633, 5606, 27084, 4596, 26116, 7583, 19374, 5273, 7641, 3684, 27891, 10085, 5530, 19486, 20574, 24251, 8188, 19380, 24968, 24033, 19462, 1092, 4456, 11629, 6193, 11655, 6409, 12851, 19231, 28059, 23494, 7418, 3046, 22747, 16954, 16893, 20794, 2172, 17725, 28353, 1820, 251, 1617, 8970, 14726, 27402, 11248, 27585, 28597, 16656, 14288, 27383, 14557, 23112, 747, 22304, 15791, 12337, 27640, 9395, 28092, 7988, 9788, 23083, 3211, 25007, 20251, 20628, 16344, 19256, 3840, 3990, 21612, 9367, 20705, 11456, 23828, 11327, 26277, 13028, 19304, 2791, 19510, 16790, 5033, 4194, 25106, 20499, 13202, 615, 13651, 13657, 20275, 18867, 14121, 3090, 18108, 108, 10896, 26211, 10196, 9859, 24979, 25060, 4856, 7753, 24990, 12166, 22270, 26358, 26785, 9986, 10356, 26855, 24149, 27881, 5826, 10638, 28678, 11815, 8090, 16171, 18406, 27724, 22693, 17064, 6242, 26625, 8610, 852, 4905, 449, 7574, 16099, 13366, 2249, 27320, 28052, 12520, 6196, 27525, 16857, 1604, 22690, 22637, 26953, 6472, 12278, 8697, 13836, 3696, 22112, 20207, 3553, 24614, 15661, 21733, 16911, 7166, 8178, 3533, 10780, 24646, 5925, 13285, 4184, 22071, 84, 22459, 7314, 2468, 17379, 24779, 15850, 393, 18837, 9550, 2198, 12879, 20847, 7301, 4788, 7175, 10654, 16515, 17790, 11410, 18490, 17670, 27095, 23282, 7326, 21495, 2020, 16957, 7420, 8066, 28354, 12469, 27473, 365, 16326, 2403, 22258, 24802, 23832, 21123, 18340, 5430, 11197, 12049, 7946, 26001, 23979, 19977, 14390, 2472, 1262, 14411, 4969, 18289, 1817, 21091, 23550, 3438, 15134, 22807, 21316, 4578, 26919, 5899, 1414, 1395, 799, 5919, 25183, 15566, 25605, 6537, 26445, 10553, 14550, 22154, 10617, 2057, 18142, 27361, 24939, 7554, 14185, 13703, 22195, 28676, 24569, 7165, 14955, 21909, 717, 15588, 321, 23415, 18031, 22772, 23086, 23132, 5113, 27563, 27771, 14212, 26217, 14969, 24985, 25301, 12189, 26169, 25254, 22678, 25651, 10343, 14851, 1552, 6643, 1144, 28145, 7182, 23545, 19512, 1736, 20953, 18793, 11449, 12009, 12184, 27610, 1856, 16729, 28312, 7852, 10499, 790, 12708, 26059, 26032, 17029, 2174, 1372, 27713, 27315, 9553, 26653, 5156, 7763, 25730, 10473, 25333, 24603, 12633, 18844, 11139, 20889, 4687, 23593, 18588, 7081, 12831, 22302, 13783, 20778, 651, 10416, 17550, 27972, 9733, 27755, 23585, 13542, 1908, 15103, 519, 20471, 1152, 2337, 12817, 19021, 20571, 7383, 5111, 22798, 4950, 19882, 12020, 4111, 6914, 23774, 27973, 19117, 4575, 27855, 19334, 12235, 27759, 20773, 22817, 6097, 4334, 13871, 809, 1541, 1433, 8105, 17928, 22509, 7597, 18833, 14157, 21003, 24138, 3007, 18765, 18823, 19686, 25103, 25867, 15847, 7779, 9190, 21842, 14057, 14494, 22810, 13362, 21550, 8987, 23357, 21119, 11162, 8081, 24827, 27145, 17665, 101, 13057, 17508, 2640, 9913, 8118, 25375, 11859, 9636, 3475, 16675, 10750, 2760, 28638, 4093, 19150, 19628, 21327, 6848, 12266, 23087, 15733, 18965, 9401, 4062, 27415, 28134, 15978, 20766, 17033, 1661, 22086, 13921, 25049, 16561, 3328, 1688, 19998, 9585, 15464, 20940, 16474, 22196, 10849, 2391, 10793, 18598, 17814, 19500, 2241, 5698, 18115, 16170, 5019, 7286, 6746, 13, 1295, 25692, 5461, 3697, 19238, 18344, 10184, 2694, 6450, 25652, 18677, 20605, 9209, 492, 26296, 9272, 15416, 10720, 21659, 1992, 18166, 21492, 25445, 27152, 2907, 7472, 19694, 25811, 16698, 19745, 12699, 2999, 7133, 7585, 4509, 2433, 13931, 9325, 27474, 15366, 23257, 20986, 18160, 24173, 7344, 16333, 11026, 2521, 15677, 18281, 3928, 27743, 15873, 15699, 8600, 20795, 4231, 3539, 12320, 27762, 3465, 17487, 25441, 13254, 22883, 4573, 9595, 16916, 18537, 23477, 13670, 467, 17368, 26118, 18576, 12704, 26577, 20971, 11863, 6818, 16428, 13847, 22440, 16268, 22171, 1373, 21798, 28499, 28279, 26866, 1765, 11155, 12584, 3929, 15086, 9783, 6726, 25243, 1773, 5058, 9261, 11414, 18824, 16952, 5026, 10693, 21987, 4699, 13744, 983, 7721, 24499, 26627, 9609, 22694, 3441, 3069, 24476, 2246, 12552, 24409, 7495, 24831, 15034, 6136, 20103, 28378, 3816, 22574, 13879, 649, 24272, 19132, 20591, 15539, 21888, 25340, 21249, 6975, 14728, 9790, 2711, 25409, 25148, 3637, 8393, 22768, 26675, 19625, 28542, 3792, 18330, 6772, 7571, 13781, 22052, 9450, 201, 7526, 20618, 9472, 14579, 14126, 23568, 28408, 28135, 24817, 3947, 19274, 805, 18042, 25346, 17385, 11, 27464, 23261, 25430, 10084, 22695, 28218, 18760, 10287, 1240, 1268, 24457, 25625, 15360, 3635, 4005, 11882, 28107, 19351, 26050, 11072, 10001, 954, 4809, 13163, 22132, 3350, 2740, 10664, 9015, 11174, 15945, 19917, 21826, 24711, 10111, 25857, 9732, 21, 22793, 3892, 6294, 15016, 17465, 13525, 23256, 22942, 26286, 26443, 5785, 13315, 16907, 19692, 17111, 10140, 12270, 20959, 3832, 150, 19145, 17676, 7275, 25494, 4378, 19467, 3717, 5267, 23308, 16496, 2706, 26874, 4128, 18711, 14343, 20844, 6407, 6153, 25714, 14682, 20138, 5437, 11071, 27110, 12040, 22940, 3498, 9560, 1042, 5952, 9031, 2540, 11548, 15208, 12055, 13791, 16104, 5732, 17427, 26223, 18062, 15600, 22274, 3019, 23267, 25113, 27864, 1356, 5504, 17985, 14134, 20927, 17252, 639, 11682, 43, 18534, 9703, 26922, 4540, 15976, 2755, 17674, 8078, 2530, 2335, 25649, 50, 2156, 11671, 1607, 15956, 25735, 1665, 13297, 6306, 3937, 21615, 8190, 18372, 8315, 27605, 15822, 22351, 15952, 13060, 1419, 24125, 2381, 25326, 23126, 9073, 14236, 3736, 3455, 13464, 21106, 8950, 15331, 9561, 19166, 5545, 24267, 3087, 26347, 8219, 18651, 14144, 1675, 24937, 18892, 15276, 16063, 1737, 21234, 3581, 15908, 14128, 6729, 5929, 2234, 19669, 10583, 8238, 18747, 5175, 3079, 17498, 20311, 21405, 11214, 5949, 11340, 4185, 7836, 27040, 10397, 9512, 11526, 10894, 3053, 7442, 18001, 10735, 10983, 20836, 3166, 22602, 4333, 22462, 24506, 5858, 23297, 21673, 7353, 20237, 9754, 19214, 10308, 18746, 18789, 7911, 15200, 1088, 19180, 28074, 893, 24869, 8011, 8086, 21308, 26688, 16579, 14666, 23315, 24766, 6012, 4397, 6015, 24661, 28530, 24170, 25439, 21137, 20349, 4222, 25310, 28195, 16680, 11740, 22212, 27469, 10589, 14358, 16020, 24471, 15618, 5669, 5086, 7187, 26121, 25320, 15747, 3895, 17614, 24678, 19764, 21845, 17660, 11330, 17811, 25337, 23598, 17446, 5497, 15387, 1636, 14027, 21898, 17175, 20412, 7969, 18885, 25411, 3665, 7164, 11509, 12805, 24401, 4224, 20376, 9932, 21242, 11152, 11423, 10946, 13955, 7858, 23406, 9471, 17565, 1332, 16164, 3941, 2836, 28505, 16415, 12085, 12127, 4934, 15098, 16139, 5888, 19327, 25575, 26754, 6320, 15556, 16447, 7982, 7718, 10003, 2888, 27463, 3353, 25118, 9994, 24291, 12292, 4126, 7517, 15196, 17807, 20498, 24755, 28412, 11886, 3392, 27271, 16777, 1582, 25267, 15325, 5039, 26415, 1045, 8237, 11963, 24934, 28456, 19177, 7125, 18462, 14081, 19364, 14691, 22, 20583, 2935, 15225, 23616, 16030, 19477, 5109, 10132, 17491, 8419, 13695, 9762, 25962, 11876, 19432, 11286, 5048, 6, 10988, 9521, 21182, 22813, 8500, 20912, 1122, 14014, 6600, 11888, 17619, 17890, 26082, 15614, 971, 24206, 25088, 8103, 13104, 25639, 26968, 20258, 6956, 10863, 8920, 8598, 21098, 14919, 896, 18314, 22353, 3068, 21872, 3424, 21794, 12563, 25957, 19554, 2993, 18091, 5471, 2087, 23613, 8172, 18776, 27044, 12895, 21573, 5843, 18070, 20346, 3164, 4735, 4902, 22018, 12679, 16274, 12454, 17813, 18097, 27747, 16743, 21690, 12312, 7291, 24950, 10577, 18171, 12750, 27260, 13483, 21645, 7327, 6365, 14154, 26604, 608, 23473, 26230, 3013, 26918, 21365, 27215, 12207, 27232, 1070, 7045, 14478, 21713, 23725, 15481, 25853, 1196, 14693, 14470, 710, 11911, 12369, 19275, 24031, 9902, 3578, 16944, 27217, 10242, 16357, 18686, 10582, 2394, 20388, 14262, 7093, 8412, 5645, 5561, 564, 24596, 3788, 22567, 17254, 13494, 19354, 26510, 5429, 25085, 8580, 9197, 17648, 4061, 17562, 8696, 28573, 21287, 20270, 9468, 13543, 5770, 16761, 18808, 21592, 23200, 7018, 26061, 3721, 3102, 12669, 3394, 12386, 26895, 11015, 3857, 24456, 13794, 19148, 5517, 4450, 23615, 19635, 6856, 23014, 815, 15483, 1732, 9213, 18276, 3251, 20949, 25502, 14592, 11268, 21876, 17763, 25010, 17399, 26034, 6451, 6382, 21739, 19269, 5544, 8037, 23115, 21696, 7043, 26235, 22390, 16610, 15220, 21606, 25996, 24805, 25720, 28270, 24467, 23599, 23692, 11821, 7254, 8139, 27892, 24147, 3372, 21050, 24314, 8939, 26242, 17422, 7097, 2295, 23966, 27447, 5656, 26132, 6665, 4160, 2763, 19373, 20004, 21454, 188, 27160, 18503, 1657, 19323, 14332, 20704, 11471, 27070, 25428, 9018, 21158, 14030, 5927, 26848, 24781, 24296, 5395, 23271, 22151, 3061, 10980, 26454, 7061, 11700, 9264, 11845, 2124, 25159, 26995, 24481, 9781, 24515, 350, 12094, 19687, 22245, 10246, 11121, 11734, 1487, 5427, 25045, 20990, 16826, 24215, 17557, 17089, 1091, 6212, 9508, 14845, 16252, 11796, 10713, 9298, 23678, 2259, 21133, 27368, 18139, 4213, 12844, 13119, 848, 23359, 3329, 14244, 7851, 26844, 1483, 27266, 7426, 1738, 11090, 3405, 10014, 21094, 10521, 7949, 24187, 5947, 8779, 296, 18517, 4854, 24313, 23061, 26529, 5576, 24375, 17024, 14850, 6108, 23298, 22211, 18706, 17259, 19934, 3149, 26982, 16483, 9331, 19259, 24389, 18035, 13803, 10488, 17645, 16200, 28177, 25590, 14331, 16132, 13933, 13466, 19080, 26582, 5189, 13100, 24512, 28210, 4282, 1450, 24770, 23790, 3270, 12195, 3234, 15647, 10878, 25825, 9405, 6801, 24378, 25846, 19575, 22056, 26292, 27042, 10645, 11278, 634, 20489, 19689, 2687, 28209, 16815, 2141, 15176, 7563, 16540, 7680, 1275, 10127, 27635, 13561, 24005, 24385, 15029, 18426, 27875, 8909, 2556, 7138, 28156, 22365, 13688, 21561, 7306, 23565, 11976, 11178, 2856, 10892, 16487, 12627, 8233, 26041, 18671, 320, 16597, 4485, 7955, 19949, 26537, 8935, 17891, 3027, 7008, 15833, 15845, 9408, 7004, 10546, 2986, 24520, 21139, 9834, 17941, 24641, 10905, 2855, 25933, 24150, 11839, 8957, 21908, 54, 27064, 6364, 22785, 18183, 17190, 25755, 10243, 6334, 10156, 16723, 9752, 7377, 10552, 26803, 15315, 27349, 19930, 22328, 782, 8639, 25405, 3710, 5834, 23350, 2113, 8725, 16113, 11124, 24981, 20717, 22636, 24680, 17307, 6742, 11157, 8403, 616, 20300, 16958, 17060, 11856, 3352, 1272, 25095, 13304, 2570, 12981, 23420, 23068, 14742, 11450, 8566, 1769, 28037, 5439, 8906, 20226, 28034, 6072, 10929, 18154, 18004, 8548, 20738, 24032, 19729, 6474, 27623, 26202, 3738, 25724, 25339, 11954, 25239, 28511, 22999, 2955, 1185, 24126, 24795, 23636, 20001, 22118, 13474, 1952, 9290, 22936, 239, 307, 27820, 28070, 10764, 10502, 16482, 9707, 17609, 26389, 2404, 22395, 15246, 10537, 925, 7936, 4402, 1022, 16247, 7307, 14335, 6439, 15690, 3008, 2997, 12602, 7223, 5688, 7925, 1898, 7907, 27494, 11813, 15033, 1849, 23367, 19761, 23767, 11114, 1869, 22724, 2887, 4479, 5440, 4932, 13055, 9570, 11563, 27653, 3751, 26412, 2899, 4778, 18117, 10604, 1855, 24082, 24529, 15928, 2339, 734, 1378, 6790, 23839, 22128, 10776, 19992, 28529, 2189, 9096, 26400, 7108, 27136, 12077, 15047, 4989, 27746, 6179, 11086, 12660, 5262, 17808, 6649, 11990, 7030, 19244, 7602, 27376, 12419, 26843, 17736, 12791, 1829, 23532, 6754, 7660, 15592, 23472, 8662, 24691, 3323, 3132, 990, 27810, 13672, 130, 24479, 4496, 16542, 25683, 6642, 11786, 15405, 8578, 3545, 23816, 8591, 25888, 17225, 3108, 7459, 5385, 22717, 4257, 22372, 22549, 2832, 4758, 19451, 6682, 4089, 16814, 15675, 1907, 12736, 21674, 13484, 18649, 21594, 25013, 131, 7616, 10258, 13425, 11971, 19104, 17566, 18512, 27079, 5709, 7343, 24237, 8244, 3564, 6491, 9089, 2455, 28305, 7088, 25831, 18566, 18414, 11433, 21455, 4898, 11621, 9, 28048, 13895, 13309, 7239, 28036, 10594, 24883, 13557, 6736, 16942, 6042, 25016, 7200, 4499, 17579, 25047, 21844, 15401, 8841, 23024, 18809, 2299, 28487, 13133, 794, 8735, 19368, 8325, 23146, 9857, 21553, 23360, 15280, 2730, 27708, 23994, 11503, 9149, 14339, 12221, 4998, 7820, 14836, 21260, 18646, 11953, 24837, 19105, 13877, 17974, 4613, 18563, 7253, 8184, 6531, 18798, 14164, 18121, 13661, 19090, 27918, 7329, 27331, 13500, 6410, 4069, 3880, 2263, 12106, 5460, 22005, 14367, 16118, 28589, 23363, 18332, 28255, 14083, 27337, 8169, 27723, 17248, 25429, 26882, 18648, 20426, 2609, 12343, 12125, 3702, 3312, 18831, 12404, 12018, 15760, 14707, 26496, 18250, 5119, 18380, 22078, 1204, 536, 15709, 10755, 21019, 12657, 17343, 19311, 757, 7049, 27957, 6906, 6910, 10071, 21678, 5567, 8966, 1100, 10446, 10558, 6458, 6469, 14238, 1344, 2221, 20339, 26003, 26200]\n"
          ],
          "name": "stdout"
        }
      ]
    },
    {
      "cell_type": "code",
      "metadata": {
        "colab": {
          "base_uri": "https://localhost:8080/"
        },
        "id": "Np31Hy4SW7ST",
        "outputId": "791725f0-ffa6-4bf5-c0c1-0aa3469fd083"
      },
      "source": [
        "UD2_dfSlected = UD2_df.iloc[randomIndexList]\n",
        "UD2_dfSlected = UD2_dfSlected.sample(frac=1).reset_index(drop=True)\n",
        "UD2_dfSlected.shape"
      ],
      "execution_count": null,
      "outputs": [
        {
          "output_type": "execute_result",
          "data": {
            "text/plain": [
              "(5000, 5)"
            ]
          },
          "metadata": {
            "tags": []
          },
          "execution_count": 72
        }
      ]
    },
    {
      "cell_type": "code",
      "metadata": {
        "colab": {
          "base_uri": "https://localhost:8080/"
        },
        "id": "X8eGacLXYKq_",
        "outputId": "47d49cb7-d156-41ff-af57-34150b2c8310"
      },
      "source": [
        "UD2_df = UD2_df.drop(randomIndexList)\n",
        "UD2_df = UD2_df.sample(frac=1).reset_index(drop=True)\n",
        "UD2_df.shape"
      ],
      "execution_count": null,
      "outputs": [
        {
          "output_type": "execute_result",
          "data": {
            "text/plain": [
              "(23686, 5)"
            ]
          },
          "metadata": {
            "tags": []
          },
          "execution_count": 71
        }
      ]
    },
    {
      "cell_type": "code",
      "metadata": {
        "colab": {
          "base_uri": "https://localhost:8080/"
        },
        "id": "QT0rxeQVCcI9",
        "outputId": "3c6d9202-1959-47dd-f3b8-5520ec3a7298"
      },
      "source": [
        "#Merge\n",
        "originalData_df = originalData_df.append(UD2_dfSlected)\n",
        "originalData_df = originalData_df.sample(frac=1).reset_index(drop=True)\n",
        "originalData_df.shape"
      ],
      "execution_count": null,
      "outputs": [
        {
          "output_type": "execute_result",
          "data": {
            "text/plain": [
              "(146920, 5)"
            ]
          },
          "metadata": {
            "tags": []
          },
          "execution_count": 73
        }
      ]
    },
    {
      "cell_type": "code",
      "metadata": {
        "id": "SOV9IcsnZEs9"
      },
      "source": [
        "#Check Point \n",
        "originalData_df.to_csv (r'/content/drive/MyDrive/Data/German_Data/OreginalDataset/MergedUD2_Germ5000Row.csv', index = False)"
      ],
      "execution_count": null,
      "outputs": []
    },
    {
      "cell_type": "code",
      "metadata": {
        "id": "ZpY1BDOrZSLQ"
      },
      "source": [
        "#Check Point \n",
        "UD2_df.to_csv (r'/content/drive/MyDrive/Data/German_Data/OreginalDataset/UD2_Drop5000Row.csv', index = False)"
      ],
      "execution_count": null,
      "outputs": []
    },
    {
      "cell_type": "markdown",
      "metadata": {
        "id": "KmPmFTe21-yE"
      },
      "source": [
        "# **Word Embedding**"
      ]
    },
    {
      "cell_type": "markdown",
      "metadata": {
        "id": "rteLHuo02t7s"
      },
      "source": [
        "## **FastText Embedding (as a Text)**\n"
      ]
    },
    {
      "cell_type": "code",
      "metadata": {
        "colab": {
          "base_uri": "https://localhost:8080/"
        },
        "id": "W0ILW2bR6IRj",
        "outputId": "5e01c1d8-b73d-4664-c759-15e6337be5fc"
      },
      "source": [
        "!pip install fasttext"
      ],
      "execution_count": null,
      "outputs": [
        {
          "output_type": "stream",
          "text": [
            "Collecting fasttext\n",
            "\u001b[?25l  Downloading https://files.pythonhosted.org/packages/f8/85/e2b368ab6d3528827b147fdb814f8189acc981a4bc2f99ab894650e05c40/fasttext-0.9.2.tar.gz (68kB)\n",
            "\r\u001b[K     |████▊                           | 10kB 18.1MB/s eta 0:00:01\r\u001b[K     |█████████▌                      | 20kB 24.6MB/s eta 0:00:01\r\u001b[K     |██████████████▎                 | 30kB 27.9MB/s eta 0:00:01\r\u001b[K     |███████████████████             | 40kB 20.5MB/s eta 0:00:01\r\u001b[K     |███████████████████████▉        | 51kB 10.4MB/s eta 0:00:01\r\u001b[K     |████████████████████████████▋   | 61kB 9.1MB/s eta 0:00:01\r\u001b[K     |████████████████████████████████| 71kB 5.3MB/s \n",
            "\u001b[?25hRequirement already satisfied: pybind11>=2.2 in /usr/local/lib/python3.7/dist-packages (from fasttext) (2.6.2)\n",
            "Requirement already satisfied: setuptools>=0.7.0 in /usr/local/lib/python3.7/dist-packages (from fasttext) (56.1.0)\n",
            "Requirement already satisfied: numpy in /usr/local/lib/python3.7/dist-packages (from fasttext) (1.19.5)\n",
            "Building wheels for collected packages: fasttext\n",
            "  Building wheel for fasttext (setup.py) ... \u001b[?25l\u001b[?25hdone\n",
            "  Created wheel for fasttext: filename=fasttext-0.9.2-cp37-cp37m-linux_x86_64.whl size=3094764 sha256=948c18610b493357212107d131c7038b083fdf5584a3a6dbf58afb2a8b71bbe0\n",
            "  Stored in directory: /root/.cache/pip/wheels/98/ba/7f/b154944a1cf5a8cee91c154b75231136cc3a3321ab0e30f592\n",
            "Successfully built fasttext\n",
            "Installing collected packages: fasttext\n",
            "Successfully installed fasttext-0.9.2\n"
          ],
          "name": "stdout"
        }
      ]
    },
    {
      "cell_type": "code",
      "metadata": {
        "colab": {
          "base_uri": "https://localhost:8080/"
        },
        "id": "wiyMDc-L6PAF",
        "outputId": "85418beb-1e85-4a4c-8c3e-17738c4289d2"
      },
      "source": [
        "import nltk\n",
        "from nltk import WordPunctTokenizer\n",
        "import fasttext # Do not use conda's version that is very old\n",
        "import fasttext.util\n",
        "nltk.download('punkt')"
      ],
      "execution_count": null,
      "outputs": [
        {
          "output_type": "stream",
          "text": [
            "[nltk_data] Downloading package punkt to /root/nltk_data...\n",
            "[nltk_data]   Unzipping tokenizers/punkt.zip.\n"
          ],
          "name": "stdout"
        },
        {
          "output_type": "execute_result",
          "data": {
            "text/plain": [
              "True"
            ]
          },
          "metadata": {
            "tags": []
          },
          "execution_count": 6
        }
      ]
    },
    {
      "cell_type": "code",
      "metadata": {
        "id": "wLupT5eyKK3j"
      },
      "source": [
        "corpus_allPATH = '/content/drive/MyDrive/Data/German_Data/Embading Data/corpus_all.txt'"
      ],
      "execution_count": null,
      "outputs": []
    },
    {
      "cell_type": "code",
      "metadata": {
        "id": "2GyEKX-mTHKF"
      },
      "source": [
        "#Write All corpus\n",
        "xall_ft_raw = originalData_df.processed_Artext.values"
      ],
      "execution_count": null,
      "outputs": []
    },
    {
      "cell_type": "code",
      "metadata": {
        "colab": {
          "base_uri": "https://localhost:8080/"
        },
        "id": "HMJ4ZHMDXX7Y",
        "outputId": "9e5bc63f-a97e-4e7d-88fb-d7c8c8577462"
      },
      "source": [
        "len(xall_ft_raw)"
      ],
      "execution_count": null,
      "outputs": [
        {
          "output_type": "execute_result",
          "data": {
            "text/plain": [
              "170606"
            ]
          },
          "metadata": {
            "tags": []
          },
          "execution_count": 83
        }
      ]
    },
    {
      "cell_type": "code",
      "metadata": {
        "id": "ot3DcqxHTQN8"
      },
      "source": [
        "with open('/content/drive/MyDrive/Data/German_Data/Embading Data/corpus_all.txt', 'w') as  f:\n",
        "  f.writelines(xall_ft_raw)"
      ],
      "execution_count": null,
      "outputs": []
    },
    {
      "cell_type": "markdown",
      "metadata": {
        "id": "Y3hfHvUYVezM"
      },
      "source": [
        "###**100 dim corpus_model**\n",
        "```\n",
        "# Merged English and German Corpuse\n",
        "# 100dim\n",
        "# skipgram\n",
        "```\n"
      ]
    },
    {
      "cell_type": "code",
      "metadata": {
        "id": "w8w-6VTgUMHW"
      },
      "source": [
        "corpus_model = fasttext.train_unsupervised(str('/content/drive/MyDrive/Data/German_Data/Embading Data/corpus_all.txt'), 'skipgram')"
      ],
      "execution_count": null,
      "outputs": []
    },
    {
      "cell_type": "code",
      "metadata": {
        "colab": {
          "base_uri": "https://localhost:8080/"
        },
        "id": "Y4eK73nTWKfd",
        "outputId": "1de680da-fdd2-4d14-d492-f1fdea842c6a"
      },
      "source": [
        "corpus_model.get_nearest_neighbors('اهلا')"
      ],
      "execution_count": null,
      "outputs": [
        {
          "output_type": "execute_result",
          "data": {
            "text/plain": [
              "[(0.8671021461486816, 'هلا'),\n",
              " (0.8527553677558899, 'مؤهلا'),\n",
              " (0.8253458142280579, 'سهلا'),\n",
              " (0.7977101802825928, 'مهلا'),\n",
              " (0.7919329404830933, 'آجلا'),\n",
              " (0.7855045199394226, 'فلا'),\n",
              " (0.7755160927772522, 'مضطرا'),\n",
              " (0.7715761661529541, 'عذرا'),\n",
              " (0.7682249546051025, 'بديلا'),\n",
              " (0.7633713483810425, 'سينثيا')]"
            ]
          },
          "metadata": {
            "tags": []
          },
          "execution_count": 86
        }
      ]
    },
    {
      "cell_type": "code",
      "metadata": {
        "id": "iGkfDdqvXO1P"
      },
      "source": [
        "#Check Point\n",
        "Path_Fasttext_AllDataUD2German_100dimskipgram_AsText = \"/content/drive/MyDrive/Data/German_Data/Embading Data/Fattext/Fasttext_AllDataUD2German_100dimskipgram_AsText/Fasttext_AllDataUD2German_100dimskipgram_AsText.bin\"\n",
        "corpus_model.save_model(Path_Fasttext_AllDataUD2German_100dimskipgram_AsText)"
      ],
      "execution_count": null,
      "outputs": []
    },
    {
      "cell_type": "code",
      "metadata": {
        "id": "ZocslmSLtALu"
      },
      "source": [
        "Path_Fasttext_AllDataUD2German_100dimskipgram_AsText = \"/content/drive/MyDrive/Data/German_Data/Embading Data/Fattext/Fasttext_AllDataUD2German_100dimskipgram_AsText/Fasttext_AllDataUD2German_100dimskipgram_AsText.bin\""
      ],
      "execution_count": null,
      "outputs": []
    },
    {
      "cell_type": "code",
      "metadata": {
        "colab": {
          "base_uri": "https://localhost:8080/"
        },
        "id": "kB3bDNqmYi2A",
        "outputId": "eab967db-50ef-4456-889a-d72790f9d247"
      },
      "source": [
        "#Load CheckPoint\n",
        "corpus_model = fasttext.load_model(Path_Fasttext_AllDataUD2German_100dimskipgram_AsText)"
      ],
      "execution_count": null,
      "outputs": [
        {
          "output_type": "stream",
          "text": [
            "Warning : `load_model` does not return WordVectorModel or SupervisedModel any more, but a `FastText` object which is very similar.\n"
          ],
          "name": "stderr"
        }
      ]
    },
    {
      "cell_type": "markdown",
      "metadata": {
        "id": "q1wvq6r2O8o6"
      },
      "source": [
        "## **gensim.models.fasttext (as a token)**\n",
        "\n",
        "\n",
        "```\n",
        "# Merged English and German Corpuse\n",
        "# 100dim\n",
        "# skipgram\n",
        "```\n",
        "\n"
      ]
    },
    {
      "cell_type": "code",
      "metadata": {
        "colab": {
          "base_uri": "https://localhost:8080/"
        },
        "id": "NuZgUIuDEUPg",
        "outputId": "cdebd691-193e-472c-ae13-3babd4bed630"
      },
      "source": [
        "from gensim.models.fasttext import FastText \n",
        "import numpy as np\n",
        "import nltk\n",
        "from nltk import WordPunctTokenizer\n",
        "nltk.download('punkt')"
      ],
      "execution_count": 6,
      "outputs": [
        {
          "output_type": "stream",
          "text": [
            "[nltk_data] Downloading package punkt to /root/nltk_data...\n",
            "[nltk_data]   Unzipping tokenizers/punkt.zip.\n"
          ],
          "name": "stdout"
        },
        {
          "output_type": "execute_result",
          "data": {
            "text/plain": [
              "True"
            ]
          },
          "metadata": {
            "tags": []
          },
          "execution_count": 6
        }
      ]
    },
    {
      "cell_type": "code",
      "metadata": {
        "id": "abt9s4DoEWTE",
        "colab": {
          "base_uri": "https://localhost:8080/"
        },
        "outputId": "61533c07-c276-4bb5-f5f1-ec4d6e84a75e"
      },
      "source": [
        "originalData_df = MergedUD2_Germ5000Row_df.append(UD2_Drop5000Row_df)\n",
        "originalData_df = originalData_df.sample(frac=1).reset_index(drop=True)\n",
        "originalData_df.shape"
      ],
      "execution_count": null,
      "outputs": [
        {
          "output_type": "execute_result",
          "data": {
            "text/plain": [
              "(170606, 5)"
            ]
          },
          "metadata": {
            "tags": []
          },
          "execution_count": 7
        }
      ]
    },
    {
      "cell_type": "code",
      "metadata": {
        "colab": {
          "base_uri": "https://localhost:8080/",
          "height": 206
        },
        "id": "zfo9DUI8EYIX",
        "outputId": "760c014f-9c2f-4a0a-8a4b-7973adcfcd9b"
      },
      "source": [
        "originalData_df = originalData_df.drop_duplicates()\n",
        "originalData_df.tail()"
      ],
      "execution_count": null,
      "outputs": [
        {
          "output_type": "execute_result",
          "data": {
            "text/html": [
              "<div>\n",
              "<style scoped>\n",
              "    .dataframe tbody tr th:only-of-type {\n",
              "        vertical-align: middle;\n",
              "    }\n",
              "\n",
              "    .dataframe tbody tr th {\n",
              "        vertical-align: top;\n",
              "    }\n",
              "\n",
              "    .dataframe thead th {\n",
              "        text-align: right;\n",
              "    }\n",
              "</style>\n",
              "<table border=\"1\" class=\"dataframe\">\n",
              "  <thead>\n",
              "    <tr style=\"text-align: right;\">\n",
              "      <th></th>\n",
              "      <th>pow</th>\n",
              "      <th>ach</th>\n",
              "      <th>aff</th>\n",
              "      <th>arabic_text</th>\n",
              "      <th>processed_Artext</th>\n",
              "    </tr>\n",
              "  </thead>\n",
              "  <tbody>\n",
              "    <tr>\n",
              "      <th>170601</th>\n",
              "      <td>0</td>\n",
              "      <td>0</td>\n",
              "      <td>0</td>\n",
              "      <td>بعض القضايا حول المصالحة SAP/AS400 ولكن المعتر...</td>\n",
              "      <td>بعض القضايا حول المصالحة ولكن المعترف بها</td>\n",
              "    </tr>\n",
              "    <tr>\n",
              "      <th>170602</th>\n",
              "      <td>0</td>\n",
              "      <td>0</td>\n",
              "      <td>0</td>\n",
              "      <td>(مارك)، رجاء، إعادة توجيه هذا إلى المحامي الذي...</td>\n",
              "      <td>مارك رجاء إعادة توجيه هذا إلى المحامي الذي يع...</td>\n",
              "    </tr>\n",
              "    <tr>\n",
              "      <th>170603</th>\n",
              "      <td>0</td>\n",
              "      <td>0</td>\n",
              "      <td>0</td>\n",
              "      <td>الجميع يعرف ذلك، لا أحد يتحدث إليه.</td>\n",
              "      <td>الجميع يعرف ذلك لا أحد يتحدث إليه</td>\n",
              "    </tr>\n",
              "    <tr>\n",
              "      <th>170604</th>\n",
              "      <td>1</td>\n",
              "      <td>0</td>\n",
              "      <td>0</td>\n",
              "      <td>لكنه يريد الكثير من المال منه</td>\n",
              "      <td>لكنه يريد الكثير من المال منه</td>\n",
              "    </tr>\n",
              "    <tr>\n",
              "      <th>170605</th>\n",
              "      <td>0</td>\n",
              "      <td>0</td>\n",
              "      <td>1</td>\n",
              "      <td>صديق جيد كان متورطا في حادث سيارة ذلك المساء</td>\n",
              "      <td>صديق جيد كان متورطا في حادث سيارة ذلك المساء</td>\n",
              "    </tr>\n",
              "  </tbody>\n",
              "</table>\n",
              "</div>"
            ],
            "text/plain": [
              "        pow  ...                                   processed_Artext\n",
              "170601    0  ...         بعض القضايا حول المصالحة ولكن المعترف بها \n",
              "170602    0  ...   مارك رجاء إعادة توجيه هذا إلى المحامي الذي يع...\n",
              "170603    0  ...                 الجميع يعرف ذلك لا أحد يتحدث إليه \n",
              "170604    1  ...                      لكنه يريد الكثير من المال منه\n",
              "170605    0  ...      صديق جيد كان متورطا في حادث سيارة ذلك المساء \n",
              "\n",
              "[5 rows x 5 columns]"
            ]
          },
          "metadata": {
            "tags": []
          },
          "execution_count": 8
        }
      ]
    },
    {
      "cell_type": "code",
      "metadata": {
        "id": "YLpn9HEQEcEQ"
      },
      "source": [
        "tweets_corpus  = list(originalData_df.processed_Artext.dropna())\n",
        "# word_punctuation_tokenizer = nltk.WordPunctTokenizer()\n",
        "tweets_tokenized_corpus = [nltk.word_tokenize(sentence) for sentence in tweets_corpus]"
      ],
      "execution_count": null,
      "outputs": []
    },
    {
      "cell_type": "code",
      "metadata": {
        "colab": {
          "base_uri": "https://localhost:8080/"
        },
        "id": "6W_P_5NGG06I",
        "outputId": "3606a99d-1e3c-4ec6-aac2-8527471da03c"
      },
      "source": [
        "len(originalData_df)"
      ],
      "execution_count": null,
      "outputs": [
        {
          "output_type": "execute_result",
          "data": {
            "text/plain": [
              "168988"
            ]
          },
          "metadata": {
            "tags": []
          },
          "execution_count": 15
        }
      ]
    },
    {
      "cell_type": "code",
      "metadata": {
        "id": "KvZtR3YjFaE1"
      },
      "source": [
        "embedding_size = 100 # dim\n",
        "window_size = 40\n",
        "min_word = 5\n",
        "down_sampling = 1e-2"
      ],
      "execution_count": null,
      "outputs": []
    },
    {
      "cell_type": "code",
      "metadata": {
        "colab": {
          "base_uri": "https://localhost:8080/"
        },
        "id": "Vsu37YGvFeE8",
        "outputId": "977d244d-8025-4ffd-86fe-d6c67dd8328a"
      },
      "source": [
        "%%time\n",
        "ft_model = FastText(tweets_tokenized_corpus,\n",
        "                    size = embedding_size,\n",
        "                    window = window_size,\n",
        "                    min_count = min_word,\n",
        "                    sample = down_sampling,\n",
        "                    sg = 1,\n",
        "                    iter = 100)"
      ],
      "execution_count": null,
      "outputs": [
        {
          "output_type": "stream",
          "text": [
            "CPU times: user 1h 52min 47s, sys: 9.33 s, total: 1h 52min 57s\n",
            "Wall time: 57min 45s\n"
          ],
          "name": "stdout"
        }
      ]
    },
    {
      "cell_type": "code",
      "metadata": {
        "colab": {
          "base_uri": "https://localhost:8080/"
        },
        "id": "319oNLYrFiTb",
        "outputId": "1c6976cd-dbc9-495e-f585-41dd1fb6d019"
      },
      "source": [
        "print(ft_model.wv.most_similar(['اهلا'],topn=10))"
      ],
      "execution_count": null,
      "outputs": [
        {
          "output_type": "stream",
          "text": [
            "[('هلا', 0.6246072053909302), ('مؤهلا', 0.5942263603210449), ('اعتني', 0.5517674088478088), ('سيعتني', 0.5411679744720459), ('طعام', 0.5375197529792786), ('حيال', 0.5226551294326782), ('كافيا', 0.5159007906913757), ('إصلاحه', 0.5103498697280884), ('أعطيتني', 0.5093427300453186), ('مهلا', 0.5055341124534607)]\n"
          ],
          "name": "stdout"
        }
      ]
    },
    {
      "cell_type": "code",
      "metadata": {
        "colab": {
          "base_uri": "https://localhost:8080/"
        },
        "id": "IRGjMzCdFiWV",
        "outputId": "8fc85bdc-db0d-441b-e0e2-2e9874c1c3e5"
      },
      "source": [
        " len(ft_model.wv['اهلاا'])"
      ],
      "execution_count": null,
      "outputs": [
        {
          "output_type": "execute_result",
          "data": {
            "text/plain": [
              "100"
            ]
          },
          "metadata": {
            "tags": []
          },
          "execution_count": 27
        }
      ]
    },
    {
      "cell_type": "code",
      "metadata": {
        "id": "AeRyTlj0FiZ2"
      },
      "source": [
        "#check point\n",
        "ft_model.save('/content/drive/MyDrive/Data/German_Data/Embading Data/gensimmodelsfasttext/genFast_100di5mMinWSkipGram/genFast_100di5mMinWSkipgram.bin')"
      ],
      "execution_count": null,
      "outputs": []
    },
    {
      "cell_type": "code",
      "metadata": {
        "id": "ZpzdETP9kP2c"
      },
      "source": [
        "ft_model= FastText.load('/content/drive/MyDrive/Data/German_Data/Embading Data/gensimmodelsfasttext/genFast_100di5mMinWSkipGram/genFast_100di5mMinWSkipgram.bin')"
      ],
      "execution_count": 8,
      "outputs": []
    },
    {
      "cell_type": "code",
      "metadata": {
        "colab": {
          "base_uri": "https://localhost:8080/"
        },
        "id": "DJCsoG9iJ7GC",
        "outputId": "a72bb6cb-cd1e-4c6b-89d2-e4f51e25e731"
      },
      "source": [
        "len(ft_model.wv['اهلا'])"
      ],
      "execution_count": 9,
      "outputs": [
        {
          "output_type": "execute_result",
          "data": {
            "text/plain": [
              "100"
            ]
          },
          "metadata": {
            "tags": []
          },
          "execution_count": 9
        }
      ]
    },
    {
      "cell_type": "markdown",
      "metadata": {
        "id": "y97N9DkxD-rZ"
      },
      "source": [
        "## **gensim.models.fasttext 300dim(as a token)**\n",
        "\n",
        "\n",
        "```\n",
        "# Merged English and German Corpuse\n",
        "# 300dim\n",
        "# CBOW\n",
        "```\n",
        "\n"
      ]
    },
    {
      "cell_type": "code",
      "metadata": {
        "id": "QvQvsQmWD4jx"
      },
      "source": [
        "ft_model= FastText.load('/content/drive/MyDrive/Data/German_Data/Embading Data/gensimmodelsfasttext/gensimmodelsfasttext_300dim_token/genFast_300di5mMinWCBOW.bin')"
      ],
      "execution_count": null,
      "outputs": []
    },
    {
      "cell_type": "code",
      "metadata": {
        "id": "GpiuCD_SHzIZ"
      },
      "source": [
        "len(ft_model.wv['اهلا'])"
      ],
      "execution_count": null,
      "outputs": []
    },
    {
      "cell_type": "markdown",
      "metadata": {
        "id": "mSbEpZl_PavT"
      },
      "source": [
        "### **gensim.models.fasttext (as a token)**\n",
        "\n",
        "\n",
        "```\n",
        "# Merged English and German Corpuse\n",
        "# 300dim\n",
        "# CBOW\n",
        "```"
      ]
    },
    {
      "cell_type": "code",
      "metadata": {
        "colab": {
          "base_uri": "https://localhost:8080/"
        },
        "id": "kjB88kiiO90s",
        "outputId": "79f8533d-d420-44d9-db82-6254299f653a"
      },
      "source": [
        "from gensim.models.fasttext import FastText \n",
        "import numpy as np\n",
        "import nltk\n",
        "from nltk import WordPunctTokenizer\n",
        "nltk.download('punkt')"
      ],
      "execution_count": null,
      "outputs": [
        {
          "output_type": "stream",
          "text": [
            "[nltk_data] Downloading package punkt to /root/nltk_data...\n",
            "[nltk_data]   Unzipping tokenizers/punkt.zip.\n"
          ],
          "name": "stdout"
        },
        {
          "output_type": "execute_result",
          "data": {
            "text/plain": [
              "True"
            ]
          },
          "metadata": {
            "tags": []
          },
          "execution_count": 11
        }
      ]
    },
    {
      "cell_type": "code",
      "metadata": {
        "colab": {
          "base_uri": "https://localhost:8080/"
        },
        "id": "KFVDmZAoP6Y_",
        "outputId": "e19f5383-07fb-4737-a926-36657e1ea49e"
      },
      "source": [
        "originalData_df = MergedUD2_Germ5000Row_df.append(UD2_Drop5000Row_df)\n",
        "originalData_df = originalData_df.sample(frac=1).reset_index(drop=True)\n",
        "originalData_df.shape"
      ],
      "execution_count": null,
      "outputs": [
        {
          "output_type": "execute_result",
          "data": {
            "text/plain": [
              "(170606, 5)"
            ]
          },
          "metadata": {
            "tags": []
          },
          "execution_count": 21
        }
      ]
    },
    {
      "cell_type": "code",
      "metadata": {
        "colab": {
          "base_uri": "https://localhost:8080/",
          "height": 206
        },
        "id": "Ebfv7d4oUWtM",
        "outputId": "20e4218e-7d3b-45f3-d3df-b5e8c3919535"
      },
      "source": [
        "originalData_df = originalData_df.drop_duplicates()\n",
        "originalData_df.tail()"
      ],
      "execution_count": null,
      "outputs": [
        {
          "output_type": "execute_result",
          "data": {
            "text/html": [
              "<div>\n",
              "<style scoped>\n",
              "    .dataframe tbody tr th:only-of-type {\n",
              "        vertical-align: middle;\n",
              "    }\n",
              "\n",
              "    .dataframe tbody tr th {\n",
              "        vertical-align: top;\n",
              "    }\n",
              "\n",
              "    .dataframe thead th {\n",
              "        text-align: right;\n",
              "    }\n",
              "</style>\n",
              "<table border=\"1\" class=\"dataframe\">\n",
              "  <thead>\n",
              "    <tr style=\"text-align: right;\">\n",
              "      <th></th>\n",
              "      <th>pow</th>\n",
              "      <th>ach</th>\n",
              "      <th>aff</th>\n",
              "      <th>arabic_text</th>\n",
              "      <th>processed_Artext</th>\n",
              "    </tr>\n",
              "  </thead>\n",
              "  <tbody>\n",
              "    <tr>\n",
              "      <th>170601</th>\n",
              "      <td>0</td>\n",
              "      <td>0</td>\n",
              "      <td>0</td>\n",
              "      <td>إذا كان الهدف هو أن تسقط ، فإن المباراة النهائ...</td>\n",
              "      <td>إذا كان الهدف هو أن تسقط فإن المباراة النهائية...</td>\n",
              "    </tr>\n",
              "    <tr>\n",
              "      <th>170602</th>\n",
              "      <td>0</td>\n",
              "      <td>0</td>\n",
              "      <td>0</td>\n",
              "      <td>هل سيقبض عليهم الآخرون؟</td>\n",
              "      <td>هل سيقبض عليهم الآخرون</td>\n",
              "    </tr>\n",
              "    <tr>\n",
              "      <th>170603</th>\n",
              "      <td>0</td>\n",
              "      <td>0</td>\n",
              "      <td>0</td>\n",
              "      <td>(ستينسون)، هل يمكننا الوصول إليها ولماذا؟</td>\n",
              "      <td>ستينسون هل يمكننا الوصول إليها ولماذا</td>\n",
              "    </tr>\n",
              "    <tr>\n",
              "      <th>170604</th>\n",
              "      <td>0</td>\n",
              "      <td>0</td>\n",
              "      <td>0</td>\n",
              "      <td>من المحتمل أن أذهب وأخاطبه</td>\n",
              "      <td>من المحتمل أن أذهب وأخاطبه</td>\n",
              "    </tr>\n",
              "    <tr>\n",
              "      <th>170605</th>\n",
              "      <td>0</td>\n",
              "      <td>0</td>\n",
              "      <td>0</td>\n",
              "      <td>أسبوع آخر من الأسر ثم أطلق سراحه أخيرا</td>\n",
              "      <td>أسبوع آخر من الأسر ثم أطلق سراحه أخيرا</td>\n",
              "    </tr>\n",
              "  </tbody>\n",
              "</table>\n",
              "</div>"
            ],
            "text/plain": [
              "        pow  ...                                   processed_Artext\n",
              "170601    0  ...  إذا كان الهدف هو أن تسقط فإن المباراة النهائية...\n",
              "170602    0  ...                            هل سيقبض عليهم الآخرون \n",
              "170603    0  ...             ستينسون هل يمكننا الوصول إليها ولماذا \n",
              "170604    0  ...                         من المحتمل أن أذهب وأخاطبه\n",
              "170605    0  ...             أسبوع آخر من الأسر ثم أطلق سراحه أخيرا\n",
              "\n",
              "[5 rows x 5 columns]"
            ]
          },
          "metadata": {
            "tags": []
          },
          "execution_count": 22
        }
      ]
    },
    {
      "cell_type": "code",
      "metadata": {
        "id": "2FqFaIvGVv2U"
      },
      "source": [
        "tweets_corpus  = list(originalData_df.processed_Artext.dropna())\n",
        "# word_punctuation_tokenizer = nltk.WordPunctTokenizer()\n",
        "tweets_tokenized_corpus = [nltk.word_tokenize(sentence) for sentence in tweets_corpus]"
      ],
      "execution_count": null,
      "outputs": []
    },
    {
      "cell_type": "code",
      "metadata": {
        "id": "SWVAO8KGWG8K"
      },
      "source": [
        "embedding_size = 300 # dim\n",
        "window_size = 40\n",
        "min_word = 5\n",
        "down_sampling = 1e-2"
      ],
      "execution_count": null,
      "outputs": []
    },
    {
      "cell_type": "code",
      "metadata": {
        "colab": {
          "base_uri": "https://localhost:8080/"
        },
        "id": "skMqTwJVWMMD",
        "outputId": "da244f47-9f1e-48d0-d146-31c12fff62c4"
      },
      "source": [
        "%%time\n",
        "ft_model = FastText(tweets_tokenized_corpus,\n",
        "                    size = embedding_size,\n",
        "                    window = window_size,\n",
        "                    min_count = min_word,\n",
        "                    sample = down_sampling,\n",
        "                    sg = 1,\n",
        "                    iter = 100)"
      ],
      "execution_count": null,
      "outputs": [
        {
          "output_type": "stream",
          "text": [
            "CPU times: user 3h 3min 16s, sys: 9.82 s, total: 3h 3min 25s\n",
            "Wall time: 1h 33min 16s\n"
          ],
          "name": "stdout"
        }
      ]
    },
    {
      "cell_type": "code",
      "metadata": {
        "colab": {
          "base_uri": "https://localhost:8080/"
        },
        "id": "MTGJXbdiWRq-",
        "outputId": "a546cd56-fa66-411c-f5ec-a0f705dc17a2"
      },
      "source": [
        "print(ft_model.wv.most_similar(['اهلا'],topn=10))"
      ],
      "execution_count": null,
      "outputs": [
        {
          "output_type": "stream",
          "text": [
            "[('مؤهلا', 0.5744697451591492), ('هلا', 0.57079017162323), ('مذهلا', 0.5533561110496521), ('مهلا', 0.4541722238063812), ('سهلا', 0.45130467414855957), ('بوسعه', 0.4173060357570648), ('اعتني', 0.4169296622276306), ('فظيعا', 0.41419661045074463), ('كسولا', 0.3867916762828827), ('اهتمامك', 0.38467514514923096)]\n"
          ],
          "name": "stdout"
        }
      ]
    },
    {
      "cell_type": "code",
      "metadata": {
        "colab": {
          "base_uri": "https://localhost:8080/"
        },
        "id": "6LxRPy3HsgI5",
        "outputId": "9f78f953-6f30-4004-eac8-710d5c5f469c"
      },
      "source": [
        " len(ft_model.wv['اهلاا'])"
      ],
      "execution_count": null,
      "outputs": [
        {
          "output_type": "execute_result",
          "data": {
            "text/plain": [
              "300"
            ]
          },
          "metadata": {
            "tags": []
          },
          "execution_count": 29
        }
      ]
    },
    {
      "cell_type": "code",
      "metadata": {
        "id": "dS7R0zPEZn0t"
      },
      "source": [
        "#check point\n",
        "ft_model.save('/content/drive/MyDrive/Data/German_Data/Embading Data/gensimmodelsfasttext/genFast_300di5mMinWCBOG/genFast_300di5mMinWCBOG.bin')"
      ],
      "execution_count": null,
      "outputs": []
    },
    {
      "cell_type": "markdown",
      "metadata": {
        "id": "FKL-3zC-vvsG"
      },
      "source": [
        "# **detach the minority Classes (Oly the POW, Ach,Aff) With Em 300Dim 100Word Per Sentance**"
      ]
    },
    {
      "cell_type": "code",
      "metadata": {
        "id": "cn5L4vrMwyAV"
      },
      "source": [
        "from keras.preprocessing import sequence"
      ],
      "execution_count": null,
      "outputs": []
    },
    {
      "cell_type": "code",
      "metadata": {
        "colab": {
          "base_uri": "https://localhost:8080/"
        },
        "id": "JjH32S2Ov2AK",
        "outputId": "7867f790-afef-4001-80aa-036c255f4d26"
      },
      "source": [
        "print(ft_model.wv.most_similar(['اهلا'],topn=10))"
      ],
      "execution_count": null,
      "outputs": [
        {
          "output_type": "stream",
          "text": [
            "[('هلا', 0.6246072053909302), ('مؤهلا', 0.5942263603210449), ('اعتني', 0.5517674088478088), ('سيعتني', 0.5411679744720459), ('طعام', 0.5375197529792786), ('حيال', 0.5226551294326782), ('كافيا', 0.5159007906913757), ('إصلاحه', 0.5103498697280884), ('أعطيتني', 0.5093427300453186), ('مهلا', 0.5055341124534607)]\n"
          ],
          "name": "stdout"
        }
      ]
    },
    {
      "cell_type": "code",
      "metadata": {
        "colab": {
          "base_uri": "https://localhost:8080/"
        },
        "id": "bJurysY1wPBc",
        "outputId": "3a54fc13-03e4-494c-de33-53d9167b8b8a"
      },
      "source": [
        "originalData_df = originalData_df.query('pow == 1 | ach == 1 | aff == 1')\n",
        "originalData_df = originalData_df.drop_duplicates()\n",
        "originalData_df.shape"
      ],
      "execution_count": null,
      "outputs": [
        {
          "output_type": "execute_result",
          "data": {
            "text/plain": [
              "(57227, 5)"
            ]
          },
          "metadata": {
            "tags": []
          },
          "execution_count": 31
        }
      ]
    },
    {
      "cell_type": "code",
      "metadata": {
        "id": "DZGCl3NTv2CY"
      },
      "source": [
        "max_seq_len = 100"
      ],
      "execution_count": null,
      "outputs": []
    },
    {
      "cell_type": "code",
      "metadata": {
        "id": "ojajRbmTwnkW"
      },
      "source": [
        "tweets_corpus  = list(originalData_df.processed_Artext.dropna())\n",
        "# word_punctuation_tokenizer = nltk.WordPunctTokenizer()\n",
        "tweets_tokenized_corpus = [nltk.word_tokenize(sentence) for sentence in tweets_corpus]"
      ],
      "execution_count": null,
      "outputs": []
    },
    {
      "cell_type": "code",
      "metadata": {
        "colab": {
          "base_uri": "https://localhost:8080/"
        },
        "id": "Z2A3TnlMv2Ey",
        "outputId": "8648cae0-4dde-451c-dce6-e26729297d9b"
      },
      "source": [
        "max = 0\n",
        "for lista in tweets_tokenized_corpus:\n",
        "  if max < len(lista):\n",
        "    max = len(lista)\n",
        "print(len(tweets_tokenized_corpus))\n",
        "print(max)"
      ],
      "execution_count": null,
      "outputs": [
        {
          "output_type": "stream",
          "text": [
            "57227\n",
            "140\n"
          ],
          "name": "stdout"
        }
      ]
    },
    {
      "cell_type": "code",
      "metadata": {
        "colab": {
          "base_uri": "https://localhost:8080/"
        },
        "id": "MLDTtHBVv2Hd",
        "outputId": "cf7bb588-bba7-48ec-b1af-456e15fc037c"
      },
      "source": [
        "allseq = sequence.pad_sequences(tweets_tokenized_corpus, maxlen=max_seq_len,dtype=object, padding='post', truncating='post', value='')\n",
        "allseq.shape"
      ],
      "execution_count": null,
      "outputs": [
        {
          "output_type": "execute_result",
          "data": {
            "text/plain": [
              "(57227, 100)"
            ]
          },
          "metadata": {
            "tags": []
          },
          "execution_count": 43
        }
      ]
    },
    {
      "cell_type": "code",
      "metadata": {
        "id": "RX0RK1Yev2J2"
      },
      "source": [
        "def get_word_vector(word):\n",
        "  try:\n",
        "    return ft_model.wv[word]\n",
        "  except:\n",
        "    return np.zeros(embedding_size)"
      ],
      "execution_count": null,
      "outputs": []
    },
    {
      "cell_type": "code",
      "metadata": {
        "id": "q5PiWAVTv2Mt"
      },
      "source": [
        "allseq = np.expand_dims(np.array([[get_word_vector(str(x)) for x in row] for row in allseq]), axis=3)\n",
        "allseq.shape"
      ],
      "execution_count": null,
      "outputs": []
    },
    {
      "cell_type": "code",
      "metadata": {
        "id": "9Gejowk8v2PM"
      },
      "source": [
        "scaler = preprocessing.StandardScaler()\n",
        "xshape = allseq.shape\n",
        "allseq = scaler.fit_transform(allseq.reshape(len(allseq), -1)).reshape(xshape)"
      ],
      "execution_count": null,
      "outputs": []
    },
    {
      "cell_type": "code",
      "metadata": {
        "id": "1-C7Na_Av2Rl"
      },
      "source": [
        "label = ['Pow','Ach','Aff']\n",
        "yall = originalData_df[label].values\n",
        "yall.shape"
      ],
      "execution_count": null,
      "outputs": []
    },
    {
      "cell_type": "code",
      "metadata": {
        "id": "sqkynVliv2T_"
      },
      "source": [
        ""
      ],
      "execution_count": null,
      "outputs": []
    },
    {
      "cell_type": "code",
      "metadata": {
        "id": "w7O-oN4NxKaA"
      },
      "source": [
        ""
      ],
      "execution_count": null,
      "outputs": []
    },
    {
      "cell_type": "code",
      "metadata": {
        "id": "L9VQfQe9xKht"
      },
      "source": [
        ""
      ],
      "execution_count": null,
      "outputs": []
    },
    {
      "cell_type": "markdown",
      "metadata": {
        "id": "-pvuE9IxilMi"
      },
      "source": [
        "# **CNN With Fasttext 100Dim SkipGram Working On All Data**\n",
        "\n",
        "---\n",
        "*semantic meaning Removal*: **False**\n",
        "\n",
        "*All Data Corpus*         :**True**\n",
        "\n",
        "*Dimentionality Reduction*:**False**\n",
        "\n",
        "*Number of word* = **35**\n",
        "\n",
        "\n",
        "\n",
        "\n"
      ]
    },
    {
      "cell_type": "code",
      "metadata": {
        "id": "eiqTO3rqkpDj"
      },
      "source": [
        "!pip install tensorview"
      ],
      "execution_count": null,
      "outputs": []
    },
    {
      "cell_type": "code",
      "metadata": {
        "colab": {
          "base_uri": "https://localhost:8080/"
        },
        "id": "ftYEuDkYimKV",
        "outputId": "ec70b803-2a64-4150-b24d-f6943f5ad83e"
      },
      "source": [
        "import gc\n",
        "import json\n",
        "import numpy as np\n",
        "import nltk\n",
        "from nltk import WordPunctTokenizer\n",
        "nltk.download('punkt')\n",
        "from sklearn import model_selection, preprocessing, metrics as skm\n",
        "from tensorflow import keras\n",
        "import tensorview as tv"
      ],
      "execution_count": null,
      "outputs": [
        {
          "output_type": "stream",
          "text": [
            "[nltk_data] Downloading package punkt to /root/nltk_data...\n",
            "[nltk_data]   Package punkt is already up-to-date!\n"
          ],
          "name": "stdout"
        },
        {
          "output_type": "stream",
          "text": [
            "/usr/local/lib/python3.7/dist-packages/requests/__init__.py:91: RequestsDependencyWarning: urllib3 (1.26.4) or chardet (3.0.4) doesn't match a supported version!\n",
            "  RequestsDependencyWarning)\n"
          ],
          "name": "stderr"
        }
      ]
    },
    {
      "cell_type": "code",
      "metadata": {
        "id": "MfMWsHKQklSs"
      },
      "source": [
        "tweets_corpus  = list(originalData_df.processed_Artext.dropna())\n",
        "# word_punctuation_tokenizer = nltk.WordPunctTokenizer()\n",
        "tweets_tokenized_corpus = [nltk.word_tokenize(sentence) for sentence in tweets_corpus]"
      ],
      "execution_count": null,
      "outputs": []
    },
    {
      "cell_type": "code",
      "metadata": {
        "colab": {
          "base_uri": "https://localhost:8080/"
        },
        "id": "YZVib8I0kyRv",
        "outputId": "2a65444e-7a31-4e7d-d0a9-62007f249e4c"
      },
      "source": [
        "len(tweets_tokenized_corpus)"
      ],
      "execution_count": null,
      "outputs": [
        {
          "output_type": "execute_result",
          "data": {
            "text/plain": [
              "141920"
            ]
          },
          "metadata": {
            "tags": []
          },
          "execution_count": 105
        }
      ]
    },
    {
      "cell_type": "code",
      "metadata": {
        "id": "dBIFhz0Wl0oN"
      },
      "source": [
        "seq_max_length = 80  # Max number of words per sequence\n",
        "embedding_dim  = 100 # embedding dimension using the language model\n",
        "\n",
        "xall = keras.preprocessing.sequence.pad_sequences(tweets_tokenized_corpus, seq_max_length,\n",
        "                                                  dtype=object, padding='post', truncating='post', value='')\n",
        "\n",
        "gc.collect()\n",
        "\n",
        "xall = np.expand_dims(np.array([[corpus_model.get_word_vector(str(x)) for x in row] for row in xall]), axis=3)\n",
        "xall.shape"
      ],
      "execution_count": null,
      "outputs": []
    },
    {
      "cell_type": "code",
      "metadata": {
        "colab": {
          "base_uri": "https://localhost:8080/"
        },
        "id": "c0X1sku_mNYg",
        "outputId": "e5695548-ad1f-4a5f-dad4-5458fe52ea1c"
      },
      "source": [
        "label = ['pow','ach','aff']\n",
        "yall = originalData_df[label].values\n",
        "yall.shape"
      ],
      "execution_count": null,
      "outputs": [
        {
          "output_type": "execute_result",
          "data": {
            "text/plain": [
              "(141920, 3)"
            ]
          },
          "metadata": {
            "tags": []
          },
          "execution_count": 108
        }
      ]
    },
    {
      "cell_type": "code",
      "metadata": {
        "id": "U9e_agbjmVe6"
      },
      "source": [
        "scaler = preprocessing.StandardScaler()\n",
        "xshape = xall.shape\n",
        "xall = scaler.fit_transform(xall.reshape(len(xall), -1)).reshape(xshape)"
      ],
      "execution_count": null,
      "outputs": []
    },
    {
      "cell_type": "code",
      "metadata": {
        "colab": {
          "base_uri": "https://localhost:8080/"
        },
        "id": "SRinMQLioKE5",
        "outputId": "b146bc8e-c547-4b97-acf0-3d813442ff84"
      },
      "source": [
        "xtrain, xtest, ytrain, ytest = model_selection.train_test_split(xall, yall, test_size=0.2)\n",
        "xtrain.shape, ytrain.shape"
      ],
      "execution_count": null,
      "outputs": [
        {
          "output_type": "execute_result",
          "data": {
            "text/plain": [
              "((113536, 35, 100, 1), (113536, 3))"
            ]
          },
          "metadata": {
            "tags": []
          },
          "execution_count": 110
        }
      ]
    },
    {
      "cell_type": "code",
      "metadata": {
        "colab": {
          "base_uri": "https://localhost:8080/"
        },
        "id": "2SC4ptjFoai4",
        "outputId": "995c6973-36b5-495c-a944-d4ad1890daca"
      },
      "source": [
        "model1 = keras.models.Sequential([\n",
        "    keras.layers.Dropout(0.2, input_shape=(seq_max_length, embedding_dim, 1)),\n",
        "    keras.layers.Convolution2D(8, kernel_size=(32, 32), activation='relu', strides=(4, 2), padding='same'), \n",
        "    keras.layers.Dropout(0.4),\n",
        "    keras.layers.Convolution2D(8, kernel_size=(8, 8), activation='relu', strides=(2, 2), padding='same'), \n",
        "    keras.layers.Dropout(0.3),\n",
        "    keras.layers.Convolution2D(16, kernel_size=(4, 4), activation='relu', strides=(4, 4), padding='same'), \n",
        "    keras.layers.Dropout(0.3),\n",
        "    keras.layers.Flatten(),\n",
        "    keras.layers.Dense(64, activation='relu'), \n",
        "    keras.layers.Dense(yall.shape[1], activation='sigmoid')\n",
        "], name='model1')\n",
        "\n",
        "model1.compile(optimizer=keras.optimizers.Adam(), #learning_rate=0.0005), \n",
        "               loss=keras.losses.CategoricalCrossentropy(from_logits=False), \n",
        "               metrics=[keras.metrics.CategoricalAccuracy()])\n",
        "\n",
        "model1.summary()\n"
      ],
      "execution_count": null,
      "outputs": [
        {
          "output_type": "stream",
          "text": [
            "Model: \"model1\"\n",
            "_________________________________________________________________\n",
            "Layer (type)                 Output Shape              Param #   \n",
            "=================================================================\n",
            "dropout (Dropout)            (None, 35, 100, 1)        0         \n",
            "_________________________________________________________________\n",
            "conv2d (Conv2D)              (None, 9, 50, 8)          8200      \n",
            "_________________________________________________________________\n",
            "dropout_1 (Dropout)          (None, 9, 50, 8)          0         \n",
            "_________________________________________________________________\n",
            "conv2d_1 (Conv2D)            (None, 5, 25, 8)          4104      \n",
            "_________________________________________________________________\n",
            "dropout_2 (Dropout)          (None, 5, 25, 8)          0         \n",
            "_________________________________________________________________\n",
            "conv2d_2 (Conv2D)            (None, 2, 7, 16)          2064      \n",
            "_________________________________________________________________\n",
            "dropout_3 (Dropout)          (None, 2, 7, 16)          0         \n",
            "_________________________________________________________________\n",
            "flatten (Flatten)            (None, 224)               0         \n",
            "_________________________________________________________________\n",
            "dense (Dense)                (None, 64)                14400     \n",
            "_________________________________________________________________\n",
            "dense_1 (Dense)              (None, 3)                 195       \n",
            "=================================================================\n",
            "Total params: 28,963\n",
            "Trainable params: 28,963\n",
            "Non-trainable params: 0\n",
            "_________________________________________________________________\n"
          ],
          "name": "stdout"
        }
      ]
    },
    {
      "cell_type": "code",
      "metadata": {
        "colab": {
          "base_uri": "https://localhost:8080/"
        },
        "id": "P4AmySnIoeo2",
        "outputId": "2bbe33e0-ad0a-4ce3-8318-c71283c02fb4"
      },
      "source": [
        "gc.collect()"
      ],
      "execution_count": null,
      "outputs": [
        {
          "output_type": "execute_result",
          "data": {
            "text/plain": [
              "0"
            ]
          },
          "metadata": {
            "tags": []
          },
          "execution_count": 112
        }
      ]
    },
    {
      "cell_type": "code",
      "metadata": {
        "id": "mmrvH5Yvoglc"
      },
      "source": [
        "n_epochs = 50\n",
        "batch_size = 64\n",
        "callbacks = [\n",
        "      tv.train.PlotMetricsOnEpoch(metrics_name=['Loss (categorical cross-entropy)', 'Categorical Accuracy'], \n",
        "                                  cell_size=(6,4), columns=2, iter_num=n_epochs, wait_num=1)\n",
        " ]\n",
        "\n",
        "hist1 = model1.fit(xtrain, ytrain, epochs=n_epochs, validation_data=(xtest, ytest), verbose=1, callbacks=callbacks, batch_size=batch_size)"
      ],
      "execution_count": null,
      "outputs": []
    },
    {
      "cell_type": "code",
      "metadata": {
        "id": "-HvDNXk1orO8"
      },
      "source": [
        ""
      ],
      "execution_count": null,
      "outputs": []
    },
    {
      "cell_type": "markdown",
      "metadata": {
        "id": "zowhoCJzgOpS"
      },
      "source": [
        "# **detach the minority Classes (Oly the POW, Ach,Aff) With Em 100Dim 100Word Per Sentance**"
      ]
    },
    {
      "cell_type": "code",
      "metadata": {
        "id": "EAxfzuvkgSH-",
        "colab": {
          "base_uri": "https://localhost:8080/",
          "height": 1000
        },
        "outputId": "7eb9bc17-fdfa-4219-c40a-5ce199735759"
      },
      "source": [
        "!pip install tensorview"
      ],
      "execution_count": null,
      "outputs": [
        {
          "output_type": "stream",
          "text": [
            "Collecting tensorview\n",
            "  Downloading https://files.pythonhosted.org/packages/e8/52/29335510de313084c4d34c6add5b4156e29516a4a422aa900c749482e4bd/tensorview-0.4.1-py2.py3-none-any.whl\n",
            "Requirement already satisfied: matplotlib in /usr/local/lib/python3.7/dist-packages (from tensorview) (3.2.2)\n",
            "Collecting pyecharts>=1.2.0\n",
            "\u001b[?25l  Downloading https://files.pythonhosted.org/packages/d2/1a/a094c0d11c3c87cf407cbd9dc069882e9bba08374df1ad81dfb39de1a8d3/pyecharts-1.9.0-py3-none-any.whl (135kB)\n",
            "\u001b[K     |████████████████████████████████| 143kB 9.3MB/s \n",
            "\u001b[?25hCollecting pyecharts-snapshot>=0.1.10tensorflow>=2.0.0\n",
            "  Downloading https://files.pythonhosted.org/packages/85/e8/f0a14cc92d89d43e52efb48bca5053c24b53e06e93b43579071476ed0cc6/pyecharts_snapshot-0.2.0-py2.py3-none-any.whl\n",
            "Collecting linora>=0.9.3\n",
            "\u001b[?25l  Downloading https://files.pythonhosted.org/packages/d3/e0/a5b81e1b48ac1f8e5b0f59b57a8ee3e68514aef9e4ea0b9b0e25f9299094/linora-0.10.0-py3-none-any.whl (75kB)\n",
            "\u001b[K     |████████████████████████████████| 81kB 5.7MB/s \n",
            "\u001b[?25hRequirement already satisfied: pandas>=0.24.1 in /usr/local/lib/python3.7/dist-packages (from tensorview) (1.1.5)\n",
            "Requirement already satisfied: kiwisolver>=1.0.1 in /usr/local/lib/python3.7/dist-packages (from matplotlib->tensorview) (1.3.1)\n",
            "Requirement already satisfied: numpy>=1.11 in /usr/local/lib/python3.7/dist-packages (from matplotlib->tensorview) (1.19.5)\n",
            "Requirement already satisfied: cycler>=0.10 in /usr/local/lib/python3.7/dist-packages (from matplotlib->tensorview) (0.10.0)\n",
            "Requirement already satisfied: pyparsing!=2.0.4,!=2.1.2,!=2.1.6,>=2.0.1 in /usr/local/lib/python3.7/dist-packages (from matplotlib->tensorview) (2.4.7)\n",
            "Requirement already satisfied: python-dateutil>=2.1 in /usr/local/lib/python3.7/dist-packages (from matplotlib->tensorview) (2.8.1)\n",
            "Collecting simplejson\n",
            "\u001b[?25l  Downloading https://files.pythonhosted.org/packages/a8/04/377418ac1e530ce2a196b54c6552c018fdf1fe776718053efb1f216bffcd/simplejson-3.17.2-cp37-cp37m-manylinux2010_x86_64.whl (128kB)\n",
            "\u001b[K     |████████████████████████████████| 133kB 7.6MB/s \n",
            "\u001b[?25hRequirement already satisfied: prettytable in /usr/local/lib/python3.7/dist-packages (from pyecharts>=1.2.0->tensorview) (2.1.0)\n",
            "Requirement already satisfied: jinja2 in /usr/local/lib/python3.7/dist-packages (from pyecharts>=1.2.0->tensorview) (2.11.3)\n",
            "Collecting pyppeteer>=0.0.25\n",
            "\u001b[?25l  Downloading https://files.pythonhosted.org/packages/4a/05/ea3250282e46fda60df1f1d5246bb8cdc022abb89969c61a98ea28fd6b82/pyppeteer-0.2.5-py3-none-any.whl (87kB)\n",
            "\u001b[K     |████████████████████████████████| 92kB 6.2MB/s \n",
            "\u001b[?25hRequirement already satisfied: pillow in /usr/local/lib/python3.7/dist-packages (from pyecharts-snapshot>=0.1.10tensorflow>=2.0.0->tensorview) (7.1.2)\n",
            "Collecting colorlog>=4.6.2\n",
            "  Downloading https://files.pythonhosted.org/packages/32/e6/e9ddc6fa1104fda718338b341e4b3dc31cd8039ab29e52fc73b508515361/colorlog-5.0.1-py2.py3-none-any.whl\n",
            "Requirement already satisfied: pytz>=2017.2 in /usr/local/lib/python3.7/dist-packages (from pandas>=0.24.1->tensorview) (2018.9)\n",
            "Requirement already satisfied: six in /usr/local/lib/python3.7/dist-packages (from cycler>=0.10->matplotlib->tensorview) (1.15.0)\n",
            "Requirement already satisfied: importlib-metadata; python_version < \"3.8\" in /usr/local/lib/python3.7/dist-packages (from prettytable->pyecharts>=1.2.0->tensorview) (3.10.1)\n",
            "Requirement already satisfied: wcwidth in /usr/local/lib/python3.7/dist-packages (from prettytable->pyecharts>=1.2.0->tensorview) (0.2.5)\n",
            "Requirement already satisfied: MarkupSafe>=0.23 in /usr/local/lib/python3.7/dist-packages (from jinja2->pyecharts>=1.2.0->tensorview) (1.1.1)\n",
            "Collecting urllib3<2.0.0,>=1.25.8\n",
            "\u001b[?25l  Downloading https://files.pythonhosted.org/packages/09/c6/d3e3abe5b4f4f16cf0dfc9240ab7ce10c2baa0e268989a4e3ec19e90c84e/urllib3-1.26.4-py2.py3-none-any.whl (153kB)\n",
            "\u001b[K     |████████████████████████████████| 153kB 14.3MB/s \n",
            "\u001b[?25hRequirement already satisfied: appdirs<2.0.0,>=1.4.3 in /usr/local/lib/python3.7/dist-packages (from pyppeteer>=0.0.25->pyecharts-snapshot>=0.1.10tensorflow>=2.0.0->tensorview) (1.4.4)\n",
            "Collecting tqdm<5.0.0,>=4.42.1\n",
            "\u001b[?25l  Downloading https://files.pythonhosted.org/packages/72/8a/34efae5cf9924328a8f34eeb2fdaae14c011462d9f0e3fcded48e1266d1c/tqdm-4.60.0-py2.py3-none-any.whl (75kB)\n",
            "\u001b[K     |████████████████████████████████| 81kB 6.6MB/s \n",
            "\u001b[?25hCollecting pyee<9.0.0,>=8.1.0\n",
            "  Downloading https://files.pythonhosted.org/packages/0d/0a/933b3931107e1da186963fd9bb9bceb9a613cff034cb0fb3b0c61003f357/pyee-8.1.0-py2.py3-none-any.whl\n",
            "Collecting websockets<9.0,>=8.1\n",
            "\u001b[?25l  Downloading https://files.pythonhosted.org/packages/5a/0b/3ebc752392a368af14dd24ee041683416ac6d2463eead94b311b11e41c82/websockets-8.1-cp37-cp37m-manylinux2010_x86_64.whl (79kB)\n",
            "\u001b[K     |████████████████████████████████| 81kB 7.0MB/s \n",
            "\u001b[?25hRequirement already satisfied: zipp>=0.5 in /usr/local/lib/python3.7/dist-packages (from importlib-metadata; python_version < \"3.8\"->prettytable->pyecharts>=1.2.0->tensorview) (3.4.1)\n",
            "Requirement already satisfied: typing-extensions>=3.6.4; python_version < \"3.8\" in /usr/local/lib/python3.7/dist-packages (from importlib-metadata; python_version < \"3.8\"->prettytable->pyecharts>=1.2.0->tensorview) (3.7.4.3)\n",
            "\u001b[31mERROR: requests 2.23.0 has requirement urllib3!=1.25.0,!=1.25.1,<1.26,>=1.21.1, but you'll have urllib3 1.26.4 which is incompatible.\u001b[0m\n",
            "\u001b[31mERROR: datascience 0.10.6 has requirement folium==0.2.1, but you'll have folium 0.8.3 which is incompatible.\u001b[0m\n",
            "\u001b[31mERROR: pyppeteer 0.2.5 has requirement importlib-metadata<3.0.0,>=2.1.1; python_version < \"3.8\", but you'll have importlib-metadata 3.10.1 which is incompatible.\u001b[0m\n",
            "\u001b[31mERROR: linora 0.10.0 has requirement pillow>=8.0.1, but you'll have pillow 7.1.2 which is incompatible.\u001b[0m\n",
            "Installing collected packages: simplejson, pyecharts, urllib3, tqdm, pyee, websockets, pyppeteer, pyecharts-snapshot, colorlog, linora, tensorview\n",
            "  Found existing installation: urllib3 1.24.3\n",
            "    Uninstalling urllib3-1.24.3:\n",
            "      Successfully uninstalled urllib3-1.24.3\n",
            "  Found existing installation: tqdm 4.41.1\n",
            "    Uninstalling tqdm-4.41.1:\n",
            "      Successfully uninstalled tqdm-4.41.1\n",
            "Successfully installed colorlog-5.0.1 linora-0.10.0 pyecharts-1.9.0 pyecharts-snapshot-0.2.0 pyee-8.1.0 pyppeteer-0.2.5 simplejson-3.17.2 tensorview-0.4.1 tqdm-4.60.0 urllib3-1.26.4 websockets-8.1\n"
          ],
          "name": "stdout"
        },
        {
          "output_type": "display_data",
          "data": {
            "application/vnd.colab-display-data+json": {
              "pip_warning": {
                "packages": [
                  "urllib3"
                ]
              }
            }
          },
          "metadata": {
            "tags": []
          }
        }
      ]
    },
    {
      "cell_type": "code",
      "metadata": {
        "colab": {
          "base_uri": "https://localhost:8080/"
        },
        "id": "VC90JEZJgSKo",
        "outputId": "13450dee-cf5f-43e3-f25f-89b0dc21eb84"
      },
      "source": [
        "import gc\n",
        "import json\n",
        "import numpy as np\n",
        "import nltk\n",
        "from nltk import WordPunctTokenizer\n",
        "nltk.download('punkt')\n",
        "from sklearn import model_selection, preprocessing, metrics as skm\n",
        "from tensorflow import keras\n",
        "import tensorview as tv\n",
        "from keras.preprocessing import sequence\n",
        "from sklearn import model_selection, preprocessing, metrics as skm"
      ],
      "execution_count": null,
      "outputs": [
        {
          "output_type": "stream",
          "text": [
            "[nltk_data] Downloading package punkt to /root/nltk_data...\n",
            "[nltk_data]   Package punkt is already up-to-date!\n"
          ],
          "name": "stdout"
        }
      ]
    },
    {
      "cell_type": "code",
      "metadata": {
        "id": "-Ls_kIeJkONR"
      },
      "source": [
        ""
      ],
      "execution_count": null,
      "outputs": []
    },
    {
      "cell_type": "code",
      "metadata": {
        "colab": {
          "base_uri": "https://localhost:8080/"
        },
        "id": "3guthhWzgSNV",
        "outputId": "9b119386-da38-4048-a46f-4cda6cb75581"
      },
      "source": [
        "originalData_df = originalData_df.query('pow == 1 | ach == 1 | aff == 1')\n",
        "originalData_df = originalData_df.drop_duplicates()\n",
        "originalData_df.shape"
      ],
      "execution_count": null,
      "outputs": [
        {
          "output_type": "execute_result",
          "data": {
            "text/plain": [
              "(56326, 6)"
            ]
          },
          "metadata": {
            "tags": []
          },
          "execution_count": 10
        }
      ]
    },
    {
      "cell_type": "code",
      "metadata": {
        "id": "PuyrQCkjgSP-"
      },
      "source": [
        "max_seq_len = 100"
      ],
      "execution_count": null,
      "outputs": []
    },
    {
      "cell_type": "code",
      "metadata": {
        "id": "EEe-lhZdgSS3"
      },
      "source": [
        "tweets_corpus  = list(originalData_df.processed_Artext.dropna())\n",
        "# word_punctuation_tokenizer = nltk.WordPunctTokenizer()\n",
        "tweets_tokenized_corpus = [nltk.word_tokenize(sentence) for sentence in tweets_corpus]"
      ],
      "execution_count": null,
      "outputs": []
    },
    {
      "cell_type": "code",
      "metadata": {
        "colab": {
          "base_uri": "https://localhost:8080/"
        },
        "id": "pfMN0Hf-gSVK",
        "outputId": "a6bb0b92-1351-46f7-faf9-8ce75bb4b7ae"
      },
      "source": [
        "max = 0\n",
        "for lista in tweets_tokenized_corpus:\n",
        "  if max < len(lista):\n",
        "    max = len(lista)\n",
        "print(len(tweets_tokenized_corpus))\n",
        "print(max)"
      ],
      "execution_count": null,
      "outputs": [
        {
          "output_type": "stream",
          "text": [
            "56326\n",
            "129\n"
          ],
          "name": "stdout"
        }
      ]
    },
    {
      "cell_type": "code",
      "metadata": {
        "colab": {
          "base_uri": "https://localhost:8080/"
        },
        "id": "WMpvPeWmgSYy",
        "outputId": "d777b113-2416-41aa-e34a-83552597db71"
      },
      "source": [
        "allseq = sequence.pad_sequences(tweets_tokenized_corpus, maxlen=max_seq_len,dtype=object, padding='post', truncating='post', value='')\n",
        "allseq.shape"
      ],
      "execution_count": null,
      "outputs": [
        {
          "output_type": "execute_result",
          "data": {
            "text/plain": [
              "(56326, 100)"
            ]
          },
          "metadata": {
            "tags": []
          },
          "execution_count": 14
        }
      ]
    },
    {
      "cell_type": "code",
      "metadata": {
        "id": "KpuprE7tgrzn"
      },
      "source": [
        "def get_word_vector(word):\n",
        "  try:\n",
        "    return ft_model.wv[word]\n",
        "  except:\n",
        "    return np.zeros(embedding_size)"
      ],
      "execution_count": null,
      "outputs": []
    },
    {
      "cell_type": "code",
      "metadata": {
        "id": "qf-l2ncDlzYW"
      },
      "source": [
        "embedding_size = 100 # dim\n",
        "window_size = 40\n",
        "min_word = 5\n",
        "down_sampling = 1e-2"
      ],
      "execution_count": null,
      "outputs": []
    },
    {
      "cell_type": "code",
      "metadata": {
        "colab": {
          "base_uri": "https://localhost:8080/"
        },
        "id": "V1l-F4Iogr2d",
        "outputId": "922e0b1f-341a-494b-a5f2-d4ce9a0535cf"
      },
      "source": [
        "allseq = np.expand_dims(np.array([[get_word_vector(str(x)) for x in row] for row in allseq]), axis=3)\n",
        "allseq.shape"
      ],
      "execution_count": null,
      "outputs": [
        {
          "output_type": "execute_result",
          "data": {
            "text/plain": [
              "(56326, 100, 100, 1)"
            ]
          },
          "metadata": {
            "tags": []
          },
          "execution_count": 17
        }
      ]
    },
    {
      "cell_type": "code",
      "metadata": {
        "id": "IazTjFz7gr5W"
      },
      "source": [
        "scaler = preprocessing.StandardScaler()\n",
        "xshape = allseq.shape\n",
        "allseq = scaler.fit_transform(allseq.reshape(len(allseq), -1)).reshape(xshape)"
      ],
      "execution_count": null,
      "outputs": []
    },
    {
      "cell_type": "code",
      "metadata": {
        "colab": {
          "base_uri": "https://localhost:8080/"
        },
        "id": "k1zsD0MBgr7g",
        "outputId": "aba2dac9-e38b-4182-e1e0-63e8e3175eba"
      },
      "source": [
        "label = ['pow','ach','aff']\n",
        "yall = originalData_df[label].values\n",
        "yall.shape"
      ],
      "execution_count": null,
      "outputs": [
        {
          "output_type": "execute_result",
          "data": {
            "text/plain": [
              "(56326, 3)"
            ]
          },
          "metadata": {
            "tags": []
          },
          "execution_count": 19
        }
      ]
    },
    {
      "cell_type": "code",
      "metadata": {
        "colab": {
          "base_uri": "https://localhost:8080/"
        },
        "id": "hyhYqhnCgr-y",
        "outputId": "5dc6c5aa-dca4-48cf-a8b7-8758b853f967"
      },
      "source": [
        "xtrain, xtest, ytrain, ytest = model_selection.train_test_split(allseq, yall, test_size=0.2)\n",
        "xtrain.shape, ytrain.shape"
      ],
      "execution_count": null,
      "outputs": [
        {
          "output_type": "execute_result",
          "data": {
            "text/plain": [
              "((45060, 100, 100, 1), (45060, 3))"
            ]
          },
          "metadata": {
            "tags": []
          },
          "execution_count": 20
        }
      ]
    },
    {
      "cell_type": "code",
      "metadata": {
        "colab": {
          "base_uri": "https://localhost:8080/"
        },
        "id": "Usg7wJqrg3mY",
        "outputId": "07d40b40-6e8a-471b-a775-467738a83162"
      },
      "source": [
        "model1 = keras.models.Sequential([\n",
        "    keras.layers.Dropout(0.2, input_shape=(max_seq_len, embedding_size, 1)),\n",
        "    keras.layers.Convolution2D(16, kernel_size=(32, 32), activation='relu', padding='same'), \n",
        "    keras.layers.Dropout(0.1),\n",
        "    keras.layers.Convolution2D(16, kernel_size=(16, 16), activation='relu', strides=(2, 2), padding='same'), \n",
        "    keras.layers.Dropout(0.1),\n",
        "    keras.layers.Convolution2D(32, kernel_size=(4, 4), activation='relu', strides=(4, 4), padding='same'), \n",
        "    keras.layers.Dropout(0.1),\n",
        "    keras.layers.Convolution2D(32, kernel_size=(2, 2), activation='relu', strides=(2, 2), padding='same'), \n",
        "    keras.layers.Dropout(0.1),\n",
        "    keras.layers.Flatten(),\n",
        "    keras.layers.Dense(64, activation='relu'), \n",
        "    keras.layers.Dense(yall.shape[1], activation='sigmoid')\n",
        "], name='model1')\n",
        "\n",
        "model1.compile(optimizer=keras.optimizers.Adam(learning_rate=0.000001), #learning_rate=0.0005), \n",
        "               loss=keras.losses.CategoricalCrossentropy(from_logits=False), \n",
        "               metrics=[keras.metrics.CategoricalAccuracy()])\n",
        "\n",
        "model1.summary()\n"
      ],
      "execution_count": null,
      "outputs": [
        {
          "output_type": "stream",
          "text": [
            "Model: \"model1\"\n",
            "_________________________________________________________________\n",
            "Layer (type)                 Output Shape              Param #   \n",
            "=================================================================\n",
            "dropout_5 (Dropout)          (None, 100, 100, 1)       0         \n",
            "_________________________________________________________________\n",
            "conv2d_4 (Conv2D)            (None, 100, 100, 16)      16400     \n",
            "_________________________________________________________________\n",
            "dropout_6 (Dropout)          (None, 100, 100, 16)      0         \n",
            "_________________________________________________________________\n",
            "conv2d_5 (Conv2D)            (None, 50, 50, 16)        65552     \n",
            "_________________________________________________________________\n",
            "dropout_7 (Dropout)          (None, 50, 50, 16)        0         \n",
            "_________________________________________________________________\n",
            "conv2d_6 (Conv2D)            (None, 13, 13, 32)        8224      \n",
            "_________________________________________________________________\n",
            "dropout_8 (Dropout)          (None, 13, 13, 32)        0         \n",
            "_________________________________________________________________\n",
            "conv2d_7 (Conv2D)            (None, 7, 7, 32)          4128      \n",
            "_________________________________________________________________\n",
            "dropout_9 (Dropout)          (None, 7, 7, 32)          0         \n",
            "_________________________________________________________________\n",
            "flatten_1 (Flatten)          (None, 1568)              0         \n",
            "_________________________________________________________________\n",
            "dense_2 (Dense)              (None, 64)                100416    \n",
            "_________________________________________________________________\n",
            "dense_3 (Dense)              (None, 3)                 195       \n",
            "=================================================================\n",
            "Total params: 194,915\n",
            "Trainable params: 194,915\n",
            "Non-trainable params: 0\n",
            "_________________________________________________________________\n"
          ],
          "name": "stdout"
        }
      ]
    },
    {
      "cell_type": "code",
      "metadata": {
        "colab": {
          "base_uri": "https://localhost:8080/",
          "height": 344
        },
        "id": "97H2lufpg3pO",
        "outputId": "cda7c56f-dd35-4378-9672-057a9ac3053a"
      },
      "source": [
        "n_epochs = 50\n",
        "batch_size = 256\n",
        "callbacks = [\n",
        "      tv.train.PlotMetricsOnEpoch(metrics_name=['Loss (categorical cross-entropy)', 'Categorical Accuracy'], \n",
        "                                  cell_size=(6,4), columns=2, iter_num=n_epochs, wait_num=1)\n",
        " ]\n",
        "\n",
        "hist1 = model1.fit(xtrain, ytrain, epochs=n_epochs, validation_data=(xtest, ytest), verbose=1, callbacks=callbacks, batch_size=batch_size)"
      ],
      "execution_count": null,
      "outputs": [
        {
          "output_type": "display_data",
          "data": {
            "image/png": "[encoded data removed]",
            "text/plain": [
              "<Figure size 864x576 with 2 Axes>"
            ]
          },
          "metadata": {
            "tags": [],
            "needs_background": "light"
          }
        },
        {
          "output_type": "stream",
          "text": [
            "Epoch 2/50\n"
          ],
          "name": "stdout"
        }
      ]
    },
    {
      "cell_type": "code",
      "metadata": {
        "id": "5lQFAQ8Ug3r0"
      },
      "source": [
        ""
      ],
      "execution_count": null,
      "outputs": []
    },
    {
      "cell_type": "code",
      "metadata": {
        "id": "EvmpUuieg3vE"
      },
      "source": [
        ""
      ],
      "execution_count": null,
      "outputs": []
    },
    {
      "cell_type": "markdown",
      "metadata": {
        "id": "Mwr2H2RPtmbG"
      },
      "source": [
        "# **CNN With Fasttext 100Dim SkipGram Working On True Data**\n",
        "\n",
        "---\n",
        "*semantic meaning Removal*: **False**\n",
        "\n",
        "*All Data Corpus*         :**False**\n",
        "\n",
        "*Dimentionality Reduction*:**False**\n",
        "\n",
        "*Number of word* = **100**\n",
        "\n",
        "\n",
        "\n",
        "\n"
      ]
    },
    {
      "cell_type": "code",
      "metadata": {
        "colab": {
          "base_uri": "https://localhost:8080/"
        },
        "id": "F0XCyot-tlvd",
        "outputId": "8a5c7812-f4aa-4065-8e37-e215dc494a4c"
      },
      "source": [
        "originalData_df = originalData_df.query('pow == 1 | ach == 1 | aff == 1')\n",
        "originalData_df = originalData_df.drop_duplicates()\n",
        "originalData_df.shape"
      ],
      "execution_count": null,
      "outputs": [
        {
          "output_type": "execute_result",
          "data": {
            "text/plain": [
              "(56326, 6)"
            ]
          },
          "metadata": {
            "tags": []
          },
          "execution_count": 13
        }
      ]
    },
    {
      "cell_type": "code",
      "metadata": {
        "id": "P0Q6D8vjt60D"
      },
      "source": [
        "tweets_corpus  = list(originalData_df.processed_Artext.dropna())\n",
        "# word_punctuation_tokenizer = nltk.WordPunctTokenizer()\n",
        "tweets_tokenized_corpus = [nltk.word_tokenize(sentence) for sentence in tweets_corpus]"
      ],
      "execution_count": null,
      "outputs": []
    },
    {
      "cell_type": "code",
      "metadata": {
        "colab": {
          "base_uri": "https://localhost:8080/"
        },
        "id": "08i4RJaDuf7S",
        "outputId": "f6e11002-c02a-4daf-c979-510ef8041ddf"
      },
      "source": [
        "len(tweets_tokenized_corpus)"
      ],
      "execution_count": null,
      "outputs": [
        {
          "output_type": "execute_result",
          "data": {
            "text/plain": [
              "56326"
            ]
          },
          "metadata": {
            "tags": []
          },
          "execution_count": 15
        }
      ]
    },
    {
      "cell_type": "code",
      "metadata": {
        "colab": {
          "base_uri": "https://localhost:8080/"
        },
        "id": "GEB_TqjkumYj",
        "outputId": "be8b54fd-e5a0-4392-f2ff-d2ba621b6470"
      },
      "source": [
        "seq_max_length = 100 # Max number of words per sequence\n",
        "embedding_dim  = 100 # embedding dimension using the language model\n",
        "\n",
        "xall = keras.preprocessing.sequence.pad_sequences(tweets_tokenized_corpus, seq_max_length,\n",
        "                                                  dtype=object, padding='post', truncating='post', value='')\n",
        "\n",
        "gc.collect()\n",
        "\n",
        "xall = np.expand_dims(np.array([[corpus_model.get_word_vector(str(x)) for x in row] for row in xall]), axis=3)\n",
        "xall.shape"
      ],
      "execution_count": null,
      "outputs": [
        {
          "output_type": "execute_result",
          "data": {
            "text/plain": [
              "(56326, 100, 100, 1)"
            ]
          },
          "metadata": {
            "tags": []
          },
          "execution_count": 30
        }
      ]
    },
    {
      "cell_type": "code",
      "metadata": {
        "colab": {
          "base_uri": "https://localhost:8080/"
        },
        "id": "NvxGyb09uqVJ",
        "outputId": "32a43b47-9620-4580-aaf9-6f53ff82cafa"
      },
      "source": [
        "label = ['pow','ach','aff']\n",
        "yall = originalData_df[label].values\n",
        "yall.shape"
      ],
      "execution_count": null,
      "outputs": [
        {
          "output_type": "execute_result",
          "data": {
            "text/plain": [
              "(56326, 3)"
            ]
          },
          "metadata": {
            "tags": []
          },
          "execution_count": 31
        }
      ]
    },
    {
      "cell_type": "code",
      "metadata": {
        "id": "M9_31rIZu-zs"
      },
      "source": [
        "scaler = preprocessing.StandardScaler()\n",
        "xshape = xall.shape\n",
        "xall = scaler.fit_transform(xall.reshape(len(xall), -1)).reshape(xshape)"
      ],
      "execution_count": null,
      "outputs": []
    },
    {
      "cell_type": "code",
      "metadata": {
        "colab": {
          "base_uri": "https://localhost:8080/"
        },
        "id": "9sCyZUqsvAvl",
        "outputId": "f067fd96-2a06-4437-fe95-7da3718e1ea7"
      },
      "source": [
        "xtrain, xtest, ytrain, ytest = model_selection.train_test_split(xall, yall, test_size=0.2)\n",
        "xtrain.shape, ytrain.shape"
      ],
      "execution_count": null,
      "outputs": [
        {
          "output_type": "execute_result",
          "data": {
            "text/plain": [
              "((45060, 100, 100, 1), (45060, 3))"
            ]
          },
          "metadata": {
            "tags": []
          },
          "execution_count": 33
        }
      ]
    },
    {
      "cell_type": "code",
      "metadata": {
        "colab": {
          "base_uri": "https://localhost:8080/"
        },
        "id": "xoDooNvbvESx",
        "outputId": "40a24bd2-6946-41b9-85c2-c172166c2cde"
      },
      "source": [
        "model2 = keras.models.Sequential([\n",
        "    keras.layers.Dropout(0.2, input_shape=(seq_max_length, embedding_dim, 1)),\n",
        "    keras.layers.Convolution2D(8, kernel_size=(32, 32), activation='relu', strides=(4, 2), padding='same'), \n",
        "    keras.layers.Dropout(0.4),\n",
        "    keras.layers.Convolution2D(8, kernel_size=(8, 8), activation='relu', strides=(2, 2), padding='same'), \n",
        "    keras.layers.Dropout(0.3),\n",
        "    keras.layers.Convolution2D(16, kernel_size=(4, 4), activation='relu', strides=(4, 4), padding='same'), \n",
        "    keras.layers.Dropout(0.3),\n",
        "    keras.layers.Flatten(),\n",
        "    keras.layers.Dense(64, activation='relu'), \n",
        "    keras.layers.Dense(yall.shape[1], activation='sigmoid')\n",
        "], name='model1')\n",
        "\n",
        "model2.compile(optimizer=keras.optimizers.Adam(), #learning_rate=0.0005), \n",
        "               loss=keras.losses.CategoricalCrossentropy(from_logits=False), \n",
        "               metrics=[keras.metrics.CategoricalAccuracy()])\n",
        "\n",
        "model2.summary()\n"
      ],
      "execution_count": null,
      "outputs": [
        {
          "output_type": "stream",
          "text": [
            "Model: \"model1\"\n",
            "_________________________________________________________________\n",
            "Layer (type)                 Output Shape              Param #   \n",
            "=================================================================\n",
            "dropout_8 (Dropout)          (None, 100, 100, 1)       0         \n",
            "_________________________________________________________________\n",
            "conv2d_6 (Conv2D)            (None, 25, 50, 8)         8200      \n",
            "_________________________________________________________________\n",
            "dropout_9 (Dropout)          (None, 25, 50, 8)         0         \n",
            "_________________________________________________________________\n",
            "conv2d_7 (Conv2D)            (None, 13, 25, 8)         4104      \n",
            "_________________________________________________________________\n",
            "dropout_10 (Dropout)         (None, 13, 25, 8)         0         \n",
            "_________________________________________________________________\n",
            "conv2d_8 (Conv2D)            (None, 4, 7, 16)          2064      \n",
            "_________________________________________________________________\n",
            "dropout_11 (Dropout)         (None, 4, 7, 16)          0         \n",
            "_________________________________________________________________\n",
            "flatten_2 (Flatten)          (None, 448)               0         \n",
            "_________________________________________________________________\n",
            "dense_4 (Dense)              (None, 64)                28736     \n",
            "_________________________________________________________________\n",
            "dense_5 (Dense)              (None, 3)                 195       \n",
            "=================================================================\n",
            "Total params: 43,299\n",
            "Trainable params: 43,299\n",
            "Non-trainable params: 0\n",
            "_________________________________________________________________\n"
          ],
          "name": "stdout"
        }
      ]
    },
    {
      "cell_type": "code",
      "metadata": {
        "colab": {
          "base_uri": "https://localhost:8080/"
        },
        "id": "weLvW3QVvITy",
        "outputId": "1181c55e-8dd3-495f-b2f5-652ca484549b"
      },
      "source": [
        "gc.collect()"
      ],
      "execution_count": null,
      "outputs": [
        {
          "output_type": "execute_result",
          "data": {
            "text/plain": [
              "197"
            ]
          },
          "metadata": {
            "tags": []
          },
          "execution_count": 35
        }
      ]
    },
    {
      "cell_type": "code",
      "metadata": {
        "colab": {
          "base_uri": "https://localhost:8080/",
          "height": 740
        },
        "id": "BkTcLDINvLhB",
        "outputId": "20c44860-b793-42c7-b87c-558737d4978d"
      },
      "source": [
        "n_epochs = 50\n",
        "batch_size = 64\n",
        "callbacks = [\n",
        "      tv.train.PlotMetricsOnEpoch(metrics_name=['Loss (categorical cross-entropy)', 'Categorical Accuracy'], \n",
        "                                  cell_size=(6,4), columns=2, iter_num=n_epochs, wait_num=1)\n",
        " ]\n",
        "\n",
        "hist1 = model2.fit(xtrain, ytrain, epochs=n_epochs, validation_data=(xtest, ytest), verbose=1, callbacks=callbacks, batch_size=batch_size)"
      ],
      "execution_count": null,
      "outputs": [
        {
          "output_type": "display_data",
          "data": {
            "image/png": "[encoded data removed]",
            "text/plain": [
              "<Figure size 864x576 with 2 Axes>"
            ]
          },
          "metadata": {
            "tags": [],
            "needs_background": "light"
          }
        },
        {
          "output_type": "stream",
          "text": [
            "Epoch 11/50\n",
            "580/705 [=======================>......] - ETA: 2:05 - loss: 3390358612.3034 - categorical_accuracy: 0.3474"
          ],
          "name": "stdout"
        },
        {
          "output_type": "error",
          "ename": "KeyboardInterrupt",
          "evalue": "ignored",
          "traceback": [
            "\u001b[0;31m---------------------------------------------------------------------------\u001b[0m",
            "\u001b[0;31mKeyboardInterrupt\u001b[0m                         Traceback (most recent call last)",
            "\u001b[0;32m<ipython-input-36-91163c806d67>\u001b[0m in \u001b[0;36m<module>\u001b[0;34m()\u001b[0m\n\u001b[1;32m      6\u001b[0m  ]\n\u001b[1;32m      7\u001b[0m \u001b[0;34m\u001b[0m\u001b[0m\n\u001b[0;32m----> 8\u001b[0;31m \u001b[0mhist1\u001b[0m \u001b[0;34m=\u001b[0m \u001b[0mmodel2\u001b[0m\u001b[0;34m.\u001b[0m\u001b[0mfit\u001b[0m\u001b[0;34m(\u001b[0m\u001b[0mxtrain\u001b[0m\u001b[0;34m,\u001b[0m \u001b[0mytrain\u001b[0m\u001b[0;34m,\u001b[0m \u001b[0mepochs\u001b[0m\u001b[0;34m=\u001b[0m\u001b[0mn_epochs\u001b[0m\u001b[0;34m,\u001b[0m \u001b[0mvalidation_data\u001b[0m\u001b[0;34m=\u001b[0m\u001b[0;34m(\u001b[0m\u001b[0mxtest\u001b[0m\u001b[0;34m,\u001b[0m \u001b[0mytest\u001b[0m\u001b[0;34m)\u001b[0m\u001b[0;34m,\u001b[0m \u001b[0mverbose\u001b[0m\u001b[0;34m=\u001b[0m\u001b[0;36m1\u001b[0m\u001b[0;34m,\u001b[0m \u001b[0mcallbacks\u001b[0m\u001b[0;34m=\u001b[0m\u001b[0mcallbacks\u001b[0m\u001b[0;34m,\u001b[0m \u001b[0mbatch_size\u001b[0m\u001b[0;34m=\u001b[0m\u001b[0mbatch_size\u001b[0m\u001b[0;34m)\u001b[0m\u001b[0;34m\u001b[0m\u001b[0;34m\u001b[0m\u001b[0m\n\u001b[0m",
            "\u001b[0;32m/usr/local/lib/python3.7/dist-packages/tensorflow/python/keras/engine/training.py\u001b[0m in \u001b[0;36mfit\u001b[0;34m(self, x, y, batch_size, epochs, verbose, callbacks, validation_split, validation_data, shuffle, class_weight, sample_weight, initial_epoch, steps_per_epoch, validation_steps, validation_batch_size, validation_freq, max_queue_size, workers, use_multiprocessing)\u001b[0m\n\u001b[1;32m   1098\u001b[0m                 _r=1):\n\u001b[1;32m   1099\u001b[0m               \u001b[0mcallbacks\u001b[0m\u001b[0;34m.\u001b[0m\u001b[0mon_train_batch_begin\u001b[0m\u001b[0;34m(\u001b[0m\u001b[0mstep\u001b[0m\u001b[0;34m)\u001b[0m\u001b[0;34m\u001b[0m\u001b[0;34m\u001b[0m\u001b[0m\n\u001b[0;32m-> 1100\u001b[0;31m               \u001b[0mtmp_logs\u001b[0m \u001b[0;34m=\u001b[0m \u001b[0mself\u001b[0m\u001b[0;34m.\u001b[0m\u001b[0mtrain_function\u001b[0m\u001b[0;34m(\u001b[0m\u001b[0miterator\u001b[0m\u001b[0;34m)\u001b[0m\u001b[0;34m\u001b[0m\u001b[0;34m\u001b[0m\u001b[0m\n\u001b[0m\u001b[1;32m   1101\u001b[0m               \u001b[0;32mif\u001b[0m \u001b[0mdata_handler\u001b[0m\u001b[0;34m.\u001b[0m\u001b[0mshould_sync\u001b[0m\u001b[0;34m:\u001b[0m\u001b[0;34m\u001b[0m\u001b[0;34m\u001b[0m\u001b[0m\n\u001b[1;32m   1102\u001b[0m                 \u001b[0mcontext\u001b[0m\u001b[0;34m.\u001b[0m\u001b[0masync_wait\u001b[0m\u001b[0;34m(\u001b[0m\u001b[0;34m)\u001b[0m\u001b[0;34m\u001b[0m\u001b[0;34m\u001b[0m\u001b[0m\n",
            "\u001b[0;32m/usr/local/lib/python3.7/dist-packages/tensorflow/python/eager/def_function.py\u001b[0m in \u001b[0;36m__call__\u001b[0;34m(self, *args, **kwds)\u001b[0m\n\u001b[1;32m    826\u001b[0m     \u001b[0mtracing_count\u001b[0m \u001b[0;34m=\u001b[0m \u001b[0mself\u001b[0m\u001b[0;34m.\u001b[0m\u001b[0mexperimental_get_tracing_count\u001b[0m\u001b[0;34m(\u001b[0m\u001b[0;34m)\u001b[0m\u001b[0;34m\u001b[0m\u001b[0;34m\u001b[0m\u001b[0m\n\u001b[1;32m    827\u001b[0m     \u001b[0;32mwith\u001b[0m \u001b[0mtrace\u001b[0m\u001b[0;34m.\u001b[0m\u001b[0mTrace\u001b[0m\u001b[0;34m(\u001b[0m\u001b[0mself\u001b[0m\u001b[0;34m.\u001b[0m\u001b[0m_name\u001b[0m\u001b[0;34m)\u001b[0m \u001b[0;32mas\u001b[0m \u001b[0mtm\u001b[0m\u001b[0;34m:\u001b[0m\u001b[0;34m\u001b[0m\u001b[0;34m\u001b[0m\u001b[0m\n\u001b[0;32m--> 828\u001b[0;31m       \u001b[0mresult\u001b[0m \u001b[0;34m=\u001b[0m \u001b[0mself\u001b[0m\u001b[0;34m.\u001b[0m\u001b[0m_call\u001b[0m\u001b[0;34m(\u001b[0m\u001b[0;34m*\u001b[0m\u001b[0margs\u001b[0m\u001b[0;34m,\u001b[0m \u001b[0;34m**\u001b[0m\u001b[0mkwds\u001b[0m\u001b[0;34m)\u001b[0m\u001b[0;34m\u001b[0m\u001b[0;34m\u001b[0m\u001b[0m\n\u001b[0m\u001b[1;32m    829\u001b[0m       \u001b[0mcompiler\u001b[0m \u001b[0;34m=\u001b[0m \u001b[0;34m\"xla\"\u001b[0m \u001b[0;32mif\u001b[0m \u001b[0mself\u001b[0m\u001b[0;34m.\u001b[0m\u001b[0m_experimental_compile\u001b[0m \u001b[0;32melse\u001b[0m \u001b[0;34m\"nonXla\"\u001b[0m\u001b[0;34m\u001b[0m\u001b[0;34m\u001b[0m\u001b[0m\n\u001b[1;32m    830\u001b[0m       \u001b[0mnew_tracing_count\u001b[0m \u001b[0;34m=\u001b[0m \u001b[0mself\u001b[0m\u001b[0;34m.\u001b[0m\u001b[0mexperimental_get_tracing_count\u001b[0m\u001b[0;34m(\u001b[0m\u001b[0;34m)\u001b[0m\u001b[0;34m\u001b[0m\u001b[0;34m\u001b[0m\u001b[0m\n",
            "\u001b[0;32m/usr/local/lib/python3.7/dist-packages/tensorflow/python/eager/def_function.py\u001b[0m in \u001b[0;36m_call\u001b[0;34m(self, *args, **kwds)\u001b[0m\n\u001b[1;32m    853\u001b[0m       \u001b[0;31m# In this case we have created variables on the first call, so we run the\u001b[0m\u001b[0;34m\u001b[0m\u001b[0;34m\u001b[0m\u001b[0;34m\u001b[0m\u001b[0m\n\u001b[1;32m    854\u001b[0m       \u001b[0;31m# defunned version which is guaranteed to never create variables.\u001b[0m\u001b[0;34m\u001b[0m\u001b[0;34m\u001b[0m\u001b[0;34m\u001b[0m\u001b[0m\n\u001b[0;32m--> 855\u001b[0;31m       \u001b[0;32mreturn\u001b[0m \u001b[0mself\u001b[0m\u001b[0;34m.\u001b[0m\u001b[0m_stateless_fn\u001b[0m\u001b[0;34m(\u001b[0m\u001b[0;34m*\u001b[0m\u001b[0margs\u001b[0m\u001b[0;34m,\u001b[0m \u001b[0;34m**\u001b[0m\u001b[0mkwds\u001b[0m\u001b[0;34m)\u001b[0m  \u001b[0;31m# pylint: disable=not-callable\u001b[0m\u001b[0;34m\u001b[0m\u001b[0;34m\u001b[0m\u001b[0m\n\u001b[0m\u001b[1;32m    856\u001b[0m     \u001b[0;32melif\u001b[0m \u001b[0mself\u001b[0m\u001b[0;34m.\u001b[0m\u001b[0m_stateful_fn\u001b[0m \u001b[0;32mis\u001b[0m \u001b[0;32mnot\u001b[0m \u001b[0;32mNone\u001b[0m\u001b[0;34m:\u001b[0m\u001b[0;34m\u001b[0m\u001b[0;34m\u001b[0m\u001b[0m\n\u001b[1;32m    857\u001b[0m       \u001b[0;31m# Release the lock early so that multiple threads can perform the call\u001b[0m\u001b[0;34m\u001b[0m\u001b[0;34m\u001b[0m\u001b[0;34m\u001b[0m\u001b[0m\n",
            "\u001b[0;32m/usr/local/lib/python3.7/dist-packages/tensorflow/python/eager/function.py\u001b[0m in \u001b[0;36m__call__\u001b[0;34m(self, *args, **kwargs)\u001b[0m\n\u001b[1;32m   2941\u001b[0m        filtered_flat_args) = self._maybe_define_function(args, kwargs)\n\u001b[1;32m   2942\u001b[0m     return graph_function._call_flat(\n\u001b[0;32m-> 2943\u001b[0;31m         filtered_flat_args, captured_inputs=graph_function.captured_inputs)  # pylint: disable=protected-access\n\u001b[0m\u001b[1;32m   2944\u001b[0m \u001b[0;34m\u001b[0m\u001b[0m\n\u001b[1;32m   2945\u001b[0m   \u001b[0;34m@\u001b[0m\u001b[0mproperty\u001b[0m\u001b[0;34m\u001b[0m\u001b[0;34m\u001b[0m\u001b[0m\n",
            "\u001b[0;32m/usr/local/lib/python3.7/dist-packages/tensorflow/python/eager/function.py\u001b[0m in \u001b[0;36m_call_flat\u001b[0;34m(self, args, captured_inputs, cancellation_manager)\u001b[0m\n\u001b[1;32m   1917\u001b[0m       \u001b[0;31m# No tape is watching; skip to running the function.\u001b[0m\u001b[0;34m\u001b[0m\u001b[0;34m\u001b[0m\u001b[0;34m\u001b[0m\u001b[0m\n\u001b[1;32m   1918\u001b[0m       return self._build_call_outputs(self._inference_function.call(\n\u001b[0;32m-> 1919\u001b[0;31m           ctx, args, cancellation_manager=cancellation_manager))\n\u001b[0m\u001b[1;32m   1920\u001b[0m     forward_backward = self._select_forward_and_backward_functions(\n\u001b[1;32m   1921\u001b[0m         \u001b[0margs\u001b[0m\u001b[0;34m,\u001b[0m\u001b[0;34m\u001b[0m\u001b[0;34m\u001b[0m\u001b[0m\n",
            "\u001b[0;32m/usr/local/lib/python3.7/dist-packages/tensorflow/python/eager/function.py\u001b[0m in \u001b[0;36mcall\u001b[0;34m(self, ctx, args, cancellation_manager)\u001b[0m\n\u001b[1;32m    558\u001b[0m               \u001b[0minputs\u001b[0m\u001b[0;34m=\u001b[0m\u001b[0margs\u001b[0m\u001b[0;34m,\u001b[0m\u001b[0;34m\u001b[0m\u001b[0;34m\u001b[0m\u001b[0m\n\u001b[1;32m    559\u001b[0m               \u001b[0mattrs\u001b[0m\u001b[0;34m=\u001b[0m\u001b[0mattrs\u001b[0m\u001b[0;34m,\u001b[0m\u001b[0;34m\u001b[0m\u001b[0;34m\u001b[0m\u001b[0m\n\u001b[0;32m--> 560\u001b[0;31m               ctx=ctx)\n\u001b[0m\u001b[1;32m    561\u001b[0m         \u001b[0;32melse\u001b[0m\u001b[0;34m:\u001b[0m\u001b[0;34m\u001b[0m\u001b[0;34m\u001b[0m\u001b[0m\n\u001b[1;32m    562\u001b[0m           outputs = execute.execute_with_cancellation(\n",
            "\u001b[0;32m/usr/local/lib/python3.7/dist-packages/tensorflow/python/eager/execute.py\u001b[0m in \u001b[0;36mquick_execute\u001b[0;34m(op_name, num_outputs, inputs, attrs, ctx, name)\u001b[0m\n\u001b[1;32m     58\u001b[0m     \u001b[0mctx\u001b[0m\u001b[0;34m.\u001b[0m\u001b[0mensure_initialized\u001b[0m\u001b[0;34m(\u001b[0m\u001b[0;34m)\u001b[0m\u001b[0;34m\u001b[0m\u001b[0;34m\u001b[0m\u001b[0m\n\u001b[1;32m     59\u001b[0m     tensors = pywrap_tfe.TFE_Py_Execute(ctx._handle, device_name, op_name,\n\u001b[0;32m---> 60\u001b[0;31m                                         inputs, attrs, num_outputs)\n\u001b[0m\u001b[1;32m     61\u001b[0m   \u001b[0;32mexcept\u001b[0m \u001b[0mcore\u001b[0m\u001b[0;34m.\u001b[0m\u001b[0m_NotOkStatusException\u001b[0m \u001b[0;32mas\u001b[0m \u001b[0me\u001b[0m\u001b[0;34m:\u001b[0m\u001b[0;34m\u001b[0m\u001b[0;34m\u001b[0m\u001b[0m\n\u001b[1;32m     62\u001b[0m     \u001b[0;32mif\u001b[0m \u001b[0mname\u001b[0m \u001b[0;32mis\u001b[0m \u001b[0;32mnot\u001b[0m \u001b[0;32mNone\u001b[0m\u001b[0;34m:\u001b[0m\u001b[0;34m\u001b[0m\u001b[0;34m\u001b[0m\u001b[0m\n",
            "\u001b[0;31mKeyboardInterrupt\u001b[0m: "
          ]
        }
      ]
    },
    {
      "cell_type": "code",
      "metadata": {
        "id": "XgGpBhgXvO2P"
      },
      "source": [
        "    "
      ],
      "execution_count": null,
      "outputs": []
    },
    {
      "cell_type": "markdown",
      "metadata": {
        "id": "V8EPMbcvmFaV"
      },
      "source": [
        "# **CNN With Embedding Layer and gensim.models.fasttext Skipgram (ALL Data)**\n",
        "\n",
        "```\n",
        " *** DATA ***\n",
        "#All Data German and UD2\n",
        "\n",
        " *** Embedding ***\n",
        "# 100dim\n",
        "# skipgram\n",
        "#window_size = 40\n",
        "#min_word = 5\n",
        "```\n"
      ]
    },
    {
      "cell_type": "code",
      "metadata": {
        "id": "rc6srEKwtJjw"
      },
      "source": [
        "!pip install tensorview"
      ],
      "execution_count": null,
      "outputs": []
    },
    {
      "cell_type": "code",
      "metadata": {
        "id": "jKQ6fJMbmEOH",
        "colab": {
          "base_uri": "https://localhost:8080/"
        },
        "outputId": "c3bf64f0-5ac6-4c22-f88f-1f9619be0c55"
      },
      "source": [
        "import numpy as np\n",
        "import keras\n",
        "import tensorview as tv\n",
        "from sklearn import model_selection, preprocessing, metrics as skm\n",
        "from keras.preprocessing.text import Tokenizer\n",
        "from keras.preprocessing import sequence\n",
        "from keras import optimizers\n",
        "from keras import backend as K\n",
        "from keras import regularizers\n",
        "from keras.models import Sequential\n",
        "from keras.layers import Dense, Activation, Dropout, Flatten\n",
        "from keras.layers import Embedding, Conv1D, MaxPooling1D, GlobalMaxPooling1D \n",
        "from keras.utils import plot_model\n",
        "from keras.callbacks import EarlyStopping\n",
        "from nltk.tokenize import RegexpTokenizer \n",
        "import os, re, csv, math, codecs\n",
        "tokenizer = RegexpTokenizer(r'\\w+')"
      ],
      "execution_count": null,
      "outputs": [
        {
          "output_type": "stream",
          "text": [
            "/usr/local/lib/python3.7/dist-packages/requests/__init__.py:91: RequestsDependencyWarning: urllib3 (1.26.4) or chardet (3.0.4) doesn't match a supported version!\n",
            "  RequestsDependencyWarning)\n"
          ],
          "name": "stderr"
        }
      ]
    },
    {
      "cell_type": "code",
      "metadata": {
        "colab": {
          "base_uri": "https://localhost:8080/"
        },
        "id": "sIE8AqXUmaSi",
        "outputId": "79bcf844-b06c-4cf0-ae58-279289dba7c8"
      },
      "source": [
        "#Create Label\n",
        "label = ['pow','ach','aff']\n",
        "yall = MergedUD2_Germ5000Row_df[label].values\n",
        "yall.shape"
      ],
      "execution_count": null,
      "outputs": [
        {
          "output_type": "execute_result",
          "data": {
            "text/plain": [
              "(146920, 3)"
            ]
          },
          "metadata": {
            "tags": []
          },
          "execution_count": 15
        }
      ]
    },
    {
      "cell_type": "code",
      "metadata": {
        "colab": {
          "base_uri": "https://localhost:8080/"
        },
        "id": "gdal6VKEZ84m",
        "outputId": "09a4176b-625d-4f39-d0a5-e1608c6d8d02"
      },
      "source": [
        "MergedUD2_Germ5000Row_df.iloc[4]"
      ],
      "execution_count": null,
      "outputs": [
        {
          "output_type": "execute_result",
          "data": {
            "text/plain": [
              "pow                                                                 0\n",
              "ach                                                                 0\n",
              "aff                                                                 1\n",
              "arabic_text         كان يعلم أن لديه هذه الفرصة الوحيدة إذا لم يأخ...\n",
              "processed_Artext    كان يعلم أن لديه هذه الفرصة الوحيدة إذا لم يأخ...\n",
              "Name: 4, dtype: object"
            ]
          },
          "metadata": {
            "tags": []
          },
          "execution_count": 100
        }
      ]
    },
    {
      "cell_type": "code",
      "metadata": {
        "colab": {
          "base_uri": "https://localhost:8080/"
        },
        "id": "4hpcD76Hm5hK",
        "outputId": "8f3a929d-b0b6-4d6f-fc23-8f2be4174077"
      },
      "source": [
        "#Splite Working Data\n",
        "xtrain, xtest, ytrain, ytest = model_selection.train_test_split(MergedUD2_Germ5000Row_df.processed_Artext, yall, test_size=0.2)\n",
        "xtrain.shape, ytrain.shape"
      ],
      "execution_count": null,
      "outputs": [
        {
          "output_type": "execute_result",
          "data": {
            "text/plain": [
              "((117536,), (117536, 3))"
            ]
          },
          "metadata": {
            "tags": []
          },
          "execution_count": 16
        }
      ]
    },
    {
      "cell_type": "code",
      "metadata": {
        "colab": {
          "base_uri": "https://localhost:8080/"
        },
        "id": "OryR-maKOI5l",
        "outputId": "062ca020-192c-4d36-a06c-731312de6bee"
      },
      "source": [
        "xtest.shape"
      ],
      "execution_count": null,
      "outputs": [
        {
          "output_type": "execute_result",
          "data": {
            "text/plain": [
              "(29384,)"
            ]
          },
          "metadata": {
            "tags": []
          },
          "execution_count": 83
        }
      ]
    },
    {
      "cell_type": "code",
      "metadata": {
        "id": "1yLjJusCm6dq"
      },
      "source": [
        "#MAX_NB_WORDS Per Sentance\n",
        "MAX_NB_WORDS = 100000\n",
        "max_seq_len = 35  # Change"
      ],
      "execution_count": null,
      "outputs": []
    },
    {
      "cell_type": "code",
      "metadata": {
        "colab": {
          "base_uri": "https://localhost:8080/"
        },
        "id": "_LMKN52Hm8J-",
        "outputId": "5aabde54-6ecd-4757-9a3e-9bc8e6125240"
      },
      "source": [
        "#Tokenize and Convert Texts to Sequences\n",
        "print(\"tokenizing input data...\")\n",
        "tokenizer = Tokenizer(num_words=MAX_NB_WORDS, char_level=False)\n",
        "tokenizer.fit_on_texts(MergedUD2_Germ5000Row_df.processed_Artext)  #leaky\n",
        "word_seq_train = tokenizer.texts_to_sequences(xtrain)\n",
        "word_seq_test = tokenizer.texts_to_sequences(xtest)\n",
        "word_index = tokenizer.word_index\n",
        "print(\"dictionary size: \", len(word_index))\n",
        "\n",
        "#pad sequences\n",
        "# word_seq_train = sequence.pad_sequences(word_seq_train, maxlen=max_seq_len, padding='post', truncating='post')\n",
        "# word_seq_test = sequence.pad_sequences(word_seq_test, maxlen=max_seq_len, padding='post', truncating='post')"
      ],
      "execution_count": null,
      "outputs": [
        {
          "output_type": "stream",
          "text": [
            "tokenizing input data...\n",
            "dictionary size:  70615\n"
          ],
          "name": "stdout"
        }
      ]
    },
    {
      "cell_type": "code",
      "metadata": {
        "id": "Zn9Ya8p9nWGw"
      },
      "source": [
        "word_seq_train[0]"
      ],
      "execution_count": null,
      "outputs": []
    },
    {
      "cell_type": "code",
      "metadata": {
        "id": "oh7y82Vundno"
      },
      "source": [
        "#Creat Pad Sequences\n",
        "word_seq_train = sequence.pad_sequences(word_seq_train, maxlen=max_seq_len, padding='post', truncating='post')\n",
        "word_seq_test = sequence.pad_sequences(word_seq_test, maxlen=max_seq_len, padding='post', truncating='post')"
      ],
      "execution_count": null,
      "outputs": []
    },
    {
      "cell_type": "code",
      "metadata": {
        "colab": {
          "base_uri": "https://localhost:8080/"
        },
        "id": "b8QNS61fneo_",
        "outputId": "a7e2bff6-4317-4cfc-89e5-55fb4f6569cb"
      },
      "source": [
        "word_seq_train[0]"
      ],
      "execution_count": null,
      "outputs": [
        {
          "output_type": "execute_result",
          "data": {
            "text/plain": [
              "array([   38,   368,    19,  1941,     3,   150,     2,    49,    19,\n",
              "           3,   773,   556,   323,    22,     6,  1004,    46,     1,\n",
              "         131,    12,    81,     1,    11,  1166,   489,  9325, 25547,\n",
              "           0,     0,     0,     0,     0,     0,     0,     0],\n",
              "      dtype=int32)"
            ]
          },
          "metadata": {
            "tags": []
          },
          "execution_count": 31
        }
      ]
    },
    {
      "cell_type": "code",
      "metadata": {
        "colab": {
          "base_uri": "https://localhost:8080/"
        },
        "id": "sdNuBzlVngDS",
        "outputId": "8b5ca2ec-03ba-4dd8-e0d2-af58e5d31435"
      },
      "source": [
        "word_seq_train.shape, word_seq_test.shape"
      ],
      "execution_count": null,
      "outputs": [
        {
          "output_type": "execute_result",
          "data": {
            "text/plain": [
              "((117536, 35), (29384, 35))"
            ]
          },
          "metadata": {
            "tags": []
          },
          "execution_count": 32
        }
      ]
    },
    {
      "cell_type": "code",
      "metadata": {
        "colab": {
          "base_uri": "https://localhost:8080/"
        },
        "id": "kOF07cuznheD",
        "outputId": "d2b1315c-123e-4cdb-fbf0-95974a7fad23"
      },
      "source": [
        "word_seq_train"
      ],
      "execution_count": null,
      "outputs": [
        {
          "output_type": "execute_result",
          "data": {
            "text/plain": [
              "array([[   38,   368,    19, ...,     0,     0,     0],\n",
              "       [   92,   402,  3829, ...,     0,     0,     0],\n",
              "       [   58,     7,    56, ...,     0,     0,     0],\n",
              "       ...,\n",
              "       [   55,     8,    12, ...,     0,     0,     0],\n",
              "       [  516,     1,   519, ...,     0,     0,     0],\n",
              "       [ 1298, 28820,  9638, ...,     0,     0,     0]], dtype=int32)"
            ]
          },
          "metadata": {
            "tags": []
          },
          "execution_count": 33
        }
      ]
    },
    {
      "cell_type": "code",
      "metadata": {
        "id": "mKBASO07nkT4"
      },
      "source": [
        "#training params\n",
        "batch_size = 128\n",
        "num_epochs = 500 \n",
        "\n",
        "#model parameters\n",
        "num_filters = 255 \n",
        "weight_decay = 1e-4\n",
        "embedding_size = 100 # dim"
      ],
      "execution_count": null,
      "outputs": []
    },
    {
      "cell_type": "code",
      "metadata": {
        "colab": {
          "base_uri": "https://localhost:8080/"
        },
        "id": "4lC9k_rrnnz2",
        "outputId": "daf9c581-91de-4c22-9e85-793a5a0967c4"
      },
      "source": [
        " len(word_index)"
      ],
      "execution_count": null,
      "outputs": [
        {
          "output_type": "execute_result",
          "data": {
            "text/plain": [
              "70615"
            ]
          },
          "metadata": {
            "tags": []
          },
          "execution_count": 35
        }
      ]
    },
    {
      "cell_type": "code",
      "metadata": {
        "id": "ZfU5wCzFnpgN"
      },
      "source": [
        "def get_word_vector(word):\n",
        "  try:\n",
        "    return ft_model.wv[word]\n",
        "  except:\n",
        "    return None"
      ],
      "execution_count": null,
      "outputs": []
    },
    {
      "cell_type": "code",
      "metadata": {
        "colab": {
          "base_uri": "https://localhost:8080/"
        },
        "id": "du5pT7pUoKl2",
        "outputId": "37b1b81b-3ac4-48fd-df3f-f173f7bde335"
      },
      "source": [
        "#embedding matrix\n",
        "print('preparing embedding matrix...')\n",
        "words_not_found = []\n",
        "nb_words = min(MAX_NB_WORDS, len(word_index))\n",
        "embedding_matrix = np.zeros((nb_words+1, embedding_size))\n",
        "for word, i in word_index.items():\n",
        "    if i >= nb_words:\n",
        "        continue\n",
        "    embedding_vector = get_word_vector(word)\n",
        "    if (embedding_vector is not None) and len(embedding_vector) > 0:\n",
        "        # words not found in embedding index will be all-zeros.\n",
        "        embedding_matrix[i] = embedding_vector\n",
        "    else:\n",
        "        words_not_found.append(word)\n",
        "print('number of null word embeddings: %d' % np.sum(np.sum(embedding_matrix, axis=1) == 0))"
      ],
      "execution_count": null,
      "outputs": [
        {
          "output_type": "stream",
          "text": [
            "preparing embedding matrix...\n",
            "number of null word embeddings: 17\n"
          ],
          "name": "stdout"
        }
      ]
    },
    {
      "cell_type": "code",
      "metadata": {
        "colab": {
          "base_uri": "https://localhost:8080/"
        },
        "id": "ehaEgsNKoM6q",
        "outputId": "c1986ab6-6149-40fa-fd33-babc45472b2b"
      },
      "source": [
        "len(embedding_matrix)"
      ],
      "execution_count": null,
      "outputs": [
        {
          "output_type": "execute_result",
          "data": {
            "text/plain": [
              "70616"
            ]
          },
          "metadata": {
            "tags": []
          },
          "execution_count": 42
        }
      ]
    },
    {
      "cell_type": "code",
      "metadata": {
        "colab": {
          "base_uri": "https://localhost:8080/"
        },
        "id": "bxaVpLBeoR80",
        "outputId": "b2076c00-1202-4e3a-834b-ea95ce7dd46c"
      },
      "source": [
        "print(\"sample words not found: \", words_not_found)\n",
        "# for i in range(len(words_not_found)):\n",
        "#   print(words_not_found[i])\n",
        "print(len(words_not_found))"
      ],
      "execution_count": null,
      "outputs": [
        {
          "output_type": "stream",
          "text": [
            "sample words not found:  ['ش', 'ن', 'ö', '€', 'ص', 'شؤم', 'شذوذ', '٪و', 'فث', 'وß', 'لß', 'زد', 'لؤلؤة', '\\x7f', 'شىء']\n",
            "15\n"
          ],
          "name": "stdout"
        }
      ]
    },
    {
      "cell_type": "code",
      "metadata": {
        "id": "fo_oU8VroUKR"
      },
      "source": [
        "#CNN architecture\n",
        "print(\"training CNN ...\")\n",
        "model = Sequential()\n",
        "model.add(Embedding(nb_words+1, embedding_size,\n",
        "          weights=[embedding_matrix], input_length=max_seq_len, trainable=False))\n",
        "model.add(Conv1D(num_filters, 7, activation='relu', padding='same'))\n",
        "model.add(MaxPooling1D(2))\n",
        "model.add(Dropout(0.5))\n",
        "model.add(Conv1D(num_filters, 7, activation='relu', padding='same'))\n",
        "model.add(MaxPooling1D(2))\n",
        "model.add(Dropout(0.5))\n",
        "model.add(Conv1D(num_filters, 7, activation='relu', padding='same'))\n",
        "model.add(GlobalMaxPooling1D())\n",
        "model.add(Dropout(0.5))\n",
        "model.add(Dense(32, activation='relu', kernel_regularizer=regularizers.l2(weight_decay)))\n",
        "model.add(Dense(yall.shape[1], activation='sigmoid'))  #multi-label (k-hot encoding)\n",
        "\n",
        "adam = optimizers.Adam(lr=0.000000001, beta_1=0.9, beta_2=0.999, epsilon=1e-08, decay=0.0)\n",
        "model.compile(loss='binary_crossentropy', optimizer=adam, metrics=['accuracy'])\n",
        "model.summary()"
      ],
      "execution_count": null,
      "outputs": []
    },
    {
      "cell_type": "code",
      "metadata": {
        "id": "8GhR-BaLoWte"
      },
      "source": [
        "#define callbacks\n",
        "early_stopping = EarlyStopping(monitor='val_loss', min_delta=0.01, patience=4, verbose=1)\n",
        "callbacks = [early_stopping] "
      ],
      "execution_count": null,
      "outputs": []
    },
    {
      "cell_type": "code",
      "metadata": {
        "colab": {
          "base_uri": "https://localhost:8080/"
        },
        "id": "wGm5YBo3_Igi",
        "outputId": "c700d63f-d845-43c6-c1e0-4affb890a9d0"
      },
      "source": [
        "#model training\n",
        "hist = model.fit(word_seq_train, ytrain, batch_size=batch_size, epochs=num_epochs, callbacks=callbacks, validation_split=0.1, shuffle=True, verbose=2)"
      ],
      "execution_count": null,
      "outputs": [
        {
          "output_type": "stream",
          "text": [
            "Epoch 1/500\n",
            "827/827 - 40s - loss: 0.7416 - accuracy: 0.6383 - val_loss: 0.7107 - val_accuracy: 0.7747\n",
            "Epoch 2/500\n",
            "827/827 - 6s - loss: 0.7417 - accuracy: 0.6394 - val_loss: 0.7105 - val_accuracy: 0.7747\n",
            "Epoch 3/500\n",
            "827/827 - 6s - loss: 0.7415 - accuracy: 0.6402 - val_loss: 0.7104 - val_accuracy: 0.7747\n",
            "Epoch 4/500\n",
            "827/827 - 6s - loss: 0.7413 - accuracy: 0.6369 - val_loss: 0.7102 - val_accuracy: 0.7747\n",
            "Epoch 5/500\n",
            "827/827 - 6s - loss: 0.7412 - accuracy: 0.6397 - val_loss: 0.7101 - val_accuracy: 0.7747\n",
            "Epoch 00005: early stopping\n"
          ],
          "name": "stdout"
        }
      ]
    },
    {
      "cell_type": "code",
      "metadata": {
        "colab": {
          "base_uri": "https://localhost:8080/"
        },
        "id": "fzwWp9ST_vbb",
        "outputId": "a560efdc-4c84-45cd-8c39-78208a3eeeff"
      },
      "source": [
        "#Model Evaluation\n",
        "modloss,modacc = model.evaluate(word_seq_test, ytest)\n",
        "print(modloss)\n",
        "print(modacc)"
      ],
      "execution_count": null,
      "outputs": [
        {
          "output_type": "stream",
          "text": [
            "919/919 [==============================] - 3s 3ms/step - loss: 0.7104 - accuracy: 0.7765\n",
            "0.7103962302207947\n",
            "0.7765450477600098\n"
          ],
          "name": "stdout"
        }
      ]
    },
    {
      "cell_type": "markdown",
      "metadata": {
        "id": "qV8NLe9HYKv_"
      },
      "source": [
        "#####**UnSeen Data From Peper UD1**"
      ]
    },
    {
      "cell_type": "code",
      "metadata": {
        "colab": {
          "base_uri": "https://localhost:8080/"
        },
        "id": "7BbA9elxoeTS",
        "outputId": "49627678-02c6-434b-bed3-0aee2c7c1ee1"
      },
      "source": [
        "label = ['pow','ach','aff']\n",
        "ytestUD2 = UD2_Drop5000Row_df[label].values\n",
        "ytestUD2.shape"
      ],
      "execution_count": null,
      "outputs": [
        {
          "output_type": "execute_result",
          "data": {
            "text/plain": [
              "(23686, 3)"
            ]
          },
          "metadata": {
            "tags": []
          },
          "execution_count": 51
        }
      ]
    },
    {
      "cell_type": "code",
      "metadata": {
        "colab": {
          "base_uri": "https://localhost:8080/"
        },
        "id": "EG_DPUL0pnu_",
        "outputId": "606e9bd3-8c03-4ab3-ac30-e3a52cc46b6f"
      },
      "source": [
        "print(\"tokenizing input data...\")\n",
        "tokenizer = Tokenizer(num_words=MAX_NB_WORDS, char_level=False)\n",
        "tokenizer.fit_on_texts(UD2_Drop5000Row_df.processed_Artext)  #leaky\n",
        "word_seq_testUD2 = tokenizer.texts_to_sequences(UD2_Drop5000Row_df.processed_Artext)"
      ],
      "execution_count": null,
      "outputs": [
        {
          "output_type": "stream",
          "text": [
            "tokenizing input data...\n"
          ],
          "name": "stdout"
        }
      ]
    },
    {
      "cell_type": "code",
      "metadata": {
        "id": "FD5Yha7A_8BK"
      },
      "source": [
        "word_sword_seq_testUD2eq_test = sequence.pad_sequences(word_seq_testUD2, maxlen=max_seq_len, padding='post', truncating='post')"
      ],
      "execution_count": null,
      "outputs": []
    },
    {
      "cell_type": "code",
      "metadata": {
        "colab": {
          "base_uri": "https://localhost:8080/"
        },
        "id": "69-9GG9p__KA",
        "outputId": "a5fc482a-8f0b-4d67-abb8-2d7669d7665e"
      },
      "source": [
        "modloss,modacc = model.evaluate(word_sword_seq_testUD2eq_test, ytestUD2)\n",
        "print(modloss)\n",
        "print(modacc)"
      ],
      "execution_count": null,
      "outputs": [
        {
          "output_type": "stream",
          "text": [
            "741/741 [==============================] - 2s 3ms/step - loss: 0.7171 - accuracy: 0.9729\n",
            "0.7171469926834106\n",
            "0.9728531837463379\n"
          ],
          "name": "stdout"
        }
      ]
    },
    {
      "cell_type": "code",
      "metadata": {
        "colab": {
          "base_uri": "https://localhost:8080/"
        },
        "id": "GVqWnz9yFEKB",
        "outputId": "84544745-bf9e-49a7-b912-1862958275dd"
      },
      "source": [
        "UD2_Drop5000Arr = UD2_Drop5000Row_df.processed_Artext.values\n",
        "counter = 0\n",
        "for text in MergedUD2_Germ5000Row_df.processed_Artext.values:\n",
        "  if text in UD2_Drop5000Arr:\n",
        "    counter+=1\n",
        "print(\"number of Similar sentances = \",counter)"
      ],
      "execution_count": null,
      "outputs": [
        {
          "output_type": "stream",
          "text": [
            "number of Similar sentances =  334\n"
          ],
          "name": "stdout"
        }
      ]
    },
    {
      "cell_type": "markdown",
      "metadata": {
        "id": "JkeiR7AfY4WF"
      },
      "source": [
        "##### **Prediction Function**"
      ]
    },
    {
      "cell_type": "code",
      "metadata": {
        "colab": {
          "base_uri": "https://localhost:8080/"
        },
        "id": "09YedeiOH-rp",
        "outputId": "6950acc6-5f1f-49e3-bdbd-6d55182455a6"
      },
      "source": [
        "def predict(text):\n",
        "  text = Preprocess_textWithEmojisTranslated_LitePunctuations(text)\n",
        "  t = []\n",
        "  t.append(text)\n",
        "  text = t\n",
        "  del t\n",
        "  print(text)\n",
        "  tokenizer = Tokenizer(num_words=MAX_NB_WORDS, char_level=False)\n",
        "  tokenizer.fit_on_texts(text)  #leaky\n",
        "  word_seq_predict = tokenizer.texts_to_sequences(text)\n",
        "  word_seq_predict = sequence.pad_sequences(word_seq_predict, maxlen=max_seq_len, padding='post', truncating='post')\n",
        "  y_predect = model.predict(word_seq_predict)\n",
        "  return y_predect\n",
        "\n",
        "predict('أحب شيئا لاستعراض حتى لو لم يكتمل.')"
      ],
      "execution_count": null,
      "outputs": [
        {
          "output_type": "stream",
          "text": [
            "['أحب شيئا لاستعراض حتى لو لم يكتمل ']\n"
          ],
          "name": "stdout"
        },
        {
          "output_type": "execute_result",
          "data": {
            "text/plain": [
              "array([[0.51270914, 0.49168545, 0.50451505]], dtype=float32)"
            ]
          },
          "metadata": {
            "tags": []
          },
          "execution_count": 105
        }
      ]
    },
    {
      "cell_type": "code",
      "metadata": {
        "colab": {
          "base_uri": "https://localhost:8080/",
          "height": 424
        },
        "id": "JunUgO-8eMj9",
        "outputId": "17da87c4-6eaf-4263-bdec-c3d98ce8550d"
      },
      "source": [
        "MergedUD2_Germ5000Row_df"
      ],
      "execution_count": null,
      "outputs": [
        {
          "output_type": "execute_result",
          "data": {
            "text/html": [
              "<div>\n",
              "<style scoped>\n",
              "    .dataframe tbody tr th:only-of-type {\n",
              "        vertical-align: middle;\n",
              "    }\n",
              "\n",
              "    .dataframe tbody tr th {\n",
              "        vertical-align: top;\n",
              "    }\n",
              "\n",
              "    .dataframe thead th {\n",
              "        text-align: right;\n",
              "    }\n",
              "</style>\n",
              "<table border=\"1\" class=\"dataframe\">\n",
              "  <thead>\n",
              "    <tr style=\"text-align: right;\">\n",
              "      <th></th>\n",
              "      <th>pow</th>\n",
              "      <th>ach</th>\n",
              "      <th>aff</th>\n",
              "      <th>arabic_text</th>\n",
              "      <th>processed_Artext</th>\n",
              "    </tr>\n",
              "  </thead>\n",
              "  <tbody>\n",
              "    <tr>\n",
              "      <th>0</th>\n",
              "      <td>0</td>\n",
              "      <td>0</td>\n",
              "      <td>0</td>\n",
              "      <td>مايكل يريد أن يذهب إلى أيرلندا على متن قارب.</td>\n",
              "      <td>مايكل يريد أن يذهب إلى أيرلندا على متن قارب</td>\n",
              "    </tr>\n",
              "    <tr>\n",
              "      <th>1</th>\n",
              "      <td>0</td>\n",
              "      <td>0</td>\n",
              "      <td>0</td>\n",
              "      <td>أحب شيئا لاستعراض حتى لو لم يكتمل.</td>\n",
              "      <td>أحب شيئا لاستعراض حتى لو لم يكتمل</td>\n",
              "    </tr>\n",
              "    <tr>\n",
              "      <th>2</th>\n",
              "      <td>0</td>\n",
              "      <td>0</td>\n",
              "      <td>0</td>\n",
              "      <td>ولديه في بوله، انه يشعر فقط.</td>\n",
              "      <td>ولديه في بوله انه يشعر فقط</td>\n",
              "    </tr>\n",
              "    <tr>\n",
              "      <th>3</th>\n",
              "      <td>0</td>\n",
              "      <td>0</td>\n",
              "      <td>0</td>\n",
              "      <td>فاز روبرت في اليانصيب واشترى تذكرة لرحلة حلم ع...</td>\n",
              "      <td>فاز روبرت في اليانصيب واشترى تذكرة لرحلة حلم ع...</td>\n",
              "    </tr>\n",
              "    <tr>\n",
              "      <th>4</th>\n",
              "      <td>0</td>\n",
              "      <td>0</td>\n",
              "      <td>1</td>\n",
              "      <td>كان يعلم أن لديه هذه الفرصة الوحيدة إذا لم يأخ...</td>\n",
              "      <td>كان يعلم أن لديه هذه الفرصة الوحيدة إذا لم يأخ...</td>\n",
              "    </tr>\n",
              "    <tr>\n",
              "      <th>...</th>\n",
              "      <td>...</td>\n",
              "      <td>...</td>\n",
              "      <td>...</td>\n",
              "      <td>...</td>\n",
              "      <td>...</td>\n",
              "    </tr>\n",
              "    <tr>\n",
              "      <th>146915</th>\n",
              "      <td>0</td>\n",
              "      <td>0</td>\n",
              "      <td>1</td>\n",
              "      <td>هناك يستمتعون الآن بالذكريات القديمة...</td>\n",
              "      <td>هناك يستمتعون الآن بالذكريات القديمة</td>\n",
              "    </tr>\n",
              "    <tr>\n",
              "      <th>146916</th>\n",
              "      <td>0</td>\n",
              "      <td>0</td>\n",
              "      <td>0</td>\n",
              "      <td>إنهم يزيفون التنافس</td>\n",
              "      <td>إنهم يزيفون التنافس</td>\n",
              "    </tr>\n",
              "    <tr>\n",
              "      <th>146917</th>\n",
              "      <td>0</td>\n",
              "      <td>0</td>\n",
              "      <td>1</td>\n",
              "      <td>بكت قليلا وسألتها كاثرين عما حدث.</td>\n",
              "      <td>بكت قليلا وسألتها كاثرين عما حدث</td>\n",
              "    </tr>\n",
              "    <tr>\n",
              "      <th>146918</th>\n",
              "      <td>0</td>\n",
              "      <td>0</td>\n",
              "      <td>0</td>\n",
              "      <td>كلاهما تماما في عنصرها ويشعر مع الموسيقى الك...</td>\n",
              "      <td>كلاهما تماما في عنصرها ويشعر مع الموسيقى الكل...</td>\n",
              "    </tr>\n",
              "    <tr>\n",
              "      <th>146919</th>\n",
              "      <td>0</td>\n",
              "      <td>0</td>\n",
              "      <td>0</td>\n",
              "      <td>بعد عامين من العيش في البرية والتغذية فقط على ...</td>\n",
              "      <td>بعد عامين من العيش في البرية والتغذية فقط على ...</td>\n",
              "    </tr>\n",
              "  </tbody>\n",
              "</table>\n",
              "<p>146920 rows × 5 columns</p>\n",
              "</div>"
            ],
            "text/plain": [
              "        pow  ...                                   processed_Artext\n",
              "0         0  ...       مايكل يريد أن يذهب إلى أيرلندا على متن قارب \n",
              "1         0  ...                 أحب شيئا لاستعراض حتى لو لم يكتمل \n",
              "2         0  ...                        ولديه في بوله انه يشعر فقط \n",
              "3         0  ...  فاز روبرت في اليانصيب واشترى تذكرة لرحلة حلم ع...\n",
              "4         0  ...  كان يعلم أن لديه هذه الفرصة الوحيدة إذا لم يأخ...\n",
              "...     ...  ...                                                ...\n",
              "146915    0  ...              هناك يستمتعون الآن بالذكريات القديمة \n",
              "146916    0  ...                                إنهم يزيفون التنافس\n",
              "146917    0  ...                  بكت قليلا وسألتها كاثرين عما حدث \n",
              "146918    0  ...   كلاهما تماما في عنصرها ويشعر مع الموسيقى الكل...\n",
              "146919    0  ...  بعد عامين من العيش في البرية والتغذية فقط على ...\n",
              "\n",
              "[146920 rows x 5 columns]"
            ]
          },
          "metadata": {
            "tags": []
          },
          "execution_count": 104
        }
      ]
    },
    {
      "cell_type": "markdown",
      "metadata": {
        "id": "WQTGQuM9YXvr"
      },
      "source": [
        "##### **Save Model**"
      ]
    },
    {
      "cell_type": "code",
      "metadata": {
        "id": "efm29RfepzDz",
        "colab": {
          "base_uri": "https://localhost:8080/"
        },
        "outputId": "e46a032a-564d-4f61-aaf4-b8c156b872e0"
      },
      "source": [
        "from keras.models import model_from_json\n",
        "# serialize model to JSON\n",
        "PAth = '/content/drive/MyDrive/Data/German_Data/Models/CNNEmbLayer_gensfasttextSkipgramALLData'\n",
        "model_json = model.to_json()\n",
        "with open(PAth+\"model.json\", \"w\") as json_file:\n",
        "    json_file.write(model_json)\n",
        "# serialize weights to HDF5\n",
        "model.save_weights(PAth+\"model.h5\")\n",
        "print(\"Saved model to disk\")\n",
        " \n",
        "# later...\n"
      ],
      "execution_count": null,
      "outputs": [
        {
          "output_type": "stream",
          "text": [
            "Saved model to disk\n"
          ],
          "name": "stdout"
        }
      ]
    },
    {
      "cell_type": "markdown",
      "metadata": {
        "id": "2GNt4uetYhGh"
      },
      "source": [
        "##### **Load Model**"
      ]
    },
    {
      "cell_type": "code",
      "metadata": {
        "colab": {
          "base_uri": "https://localhost:8080/"
        },
        "id": "mz4eKXFzDRn8",
        "outputId": "e6948694-fab9-4e0f-868b-fb1dc0375cae"
      },
      "source": [
        "\n",
        "# load json and create model\n",
        "json_file = open(PAth+'model.json', 'r')\n",
        "loaded_model_json = json_file.read()\n",
        "json_file.close()\n",
        "loaded_model = model_from_json(loaded_model_json)\n",
        "# load weights into new model\n",
        "loaded_model.load_weights(PAth+\"model.h5\")\n",
        "print(\"Loaded model from disk\")\n",
        " \n",
        "# evaluate loaded model on test data\n",
        "loaded_model.compile(loss='binary_crossentropy', optimizer='rmsprop', metrics=['accuracy'])\n",
        "score = loaded_model.evaluate(word_sword_seq_testUD2eq_test, ytestUD2, verbose=0)\n",
        "print(\"%s: %.2f%%\" % (loaded_model.metrics_names[1], score[1]*100))"
      ],
      "execution_count": null,
      "outputs": [
        {
          "output_type": "stream",
          "text": [
            "Loaded model from disk\n",
            "accuracy: 97.29%\n"
          ],
          "name": "stdout"
        }
      ]
    },
    {
      "cell_type": "markdown",
      "metadata": {
        "id": "r623gQ8IIDqW"
      },
      "source": [
        "# **CNN With Embedding Layer and gensim.models.fasttext CBOW 300Dim(ALL Data)**\n",
        "\n",
        "```\n",
        " *** DATA ***\n",
        "#All Data German and UD2\n",
        "\n",
        " *** Embedding ***\n",
        "# 300dim\n",
        "# CBOW\n",
        "#window_size = 40\n",
        "#min_word = 5\n",
        "```\n"
      ]
    },
    {
      "cell_type": "code",
      "metadata": {
        "id": "vVYsnChJIESu"
      },
      "source": [
        "!pip install tensorview"
      ],
      "execution_count": null,
      "outputs": []
    },
    {
      "cell_type": "code",
      "metadata": {
        "id": "2H21_GjHIdGq"
      },
      "source": [
        "import numpy as np\n",
        "import keras\n",
        "from sklearn import model_selection, preprocessing, metrics as skm\n",
        "from keras.preprocessing.text import Tokenizer\n",
        "from keras.preprocessing import sequence\n",
        "from keras import optimizers\n",
        "from keras import backend as K\n",
        "from keras import regularizers\n",
        "from keras.models import Sequential\n",
        "from keras.layers import Dense, Activation, Dropout, Flatten\n",
        "from keras.layers import Embedding, Conv1D, MaxPooling1D, GlobalMaxPooling1D \n",
        "from keras.utils import plot_model\n",
        "from keras.callbacks import EarlyStopping\n",
        "from nltk.tokenize import RegexpTokenizer \n",
        "import os, re, csv, math, codecs\n",
        "tokenizer = RegexpTokenizer(r'\\w+')"
      ],
      "execution_count": 13,
      "outputs": []
    },
    {
      "cell_type": "code",
      "metadata": {
        "colab": {
          "base_uri": "https://localhost:8080/"
        },
        "id": "jIHLt0sQIgzj",
        "outputId": "8e23175d-1e83-493f-ccc4-be68ef6a596e"
      },
      "source": [
        "#Create Label\n",
        "label = ['pow','ach','aff']\n",
        "yall = MergedUD2_Germ5000Row_df[label].values\n",
        "yall.shape"
      ],
      "execution_count": 14,
      "outputs": [
        {
          "output_type": "execute_result",
          "data": {
            "text/plain": [
              "(146920, 3)"
            ]
          },
          "metadata": {
            "tags": []
          },
          "execution_count": 14
        }
      ]
    },
    {
      "cell_type": "code",
      "metadata": {
        "colab": {
          "base_uri": "https://localhost:8080/"
        },
        "id": "8DdIIhNHIkgF",
        "outputId": "543844f1-35f5-492a-dd7f-78556a666231"
      },
      "source": [
        "#Splite Working Data\n",
        "xtrain, xtest, ytrain, ytest = model_selection.train_test_split(MergedUD2_Germ5000Row_df.processed_Artext, yall, test_size=0.2)\n",
        "xtrain.shape, ytrain.shape"
      ],
      "execution_count": 15,
      "outputs": [
        {
          "output_type": "execute_result",
          "data": {
            "text/plain": [
              "((117536,), (117536, 3))"
            ]
          },
          "metadata": {
            "tags": []
          },
          "execution_count": 15
        }
      ]
    },
    {
      "cell_type": "code",
      "metadata": {
        "id": "lsmhSPZ5IuZd"
      },
      "source": [
        "#MAX_NB_WORDS Per Sentance\n",
        "MAX_NB_WORDS = 100000\n",
        "max_seq_len = 50  # Change"
      ],
      "execution_count": 27,
      "outputs": []
    },
    {
      "cell_type": "code",
      "metadata": {
        "colab": {
          "base_uri": "https://localhost:8080/"
        },
        "id": "yH7UrZb6Ix3-",
        "outputId": "5d1bd778-a66a-4162-d544-3a4172f6aa9d"
      },
      "source": [
        "#Tokenize and Convert Texts to Sequences\n",
        "print(\"tokenizing input data...\")\n",
        "tokenizer = Tokenizer(num_words=MAX_NB_WORDS, char_level=False)\n",
        "tokenizer.fit_on_texts(MergedUD2_Germ5000Row_df.processed_Artext)  #leaky\n",
        "word_seq_train = tokenizer.texts_to_sequences(xtrain)\n",
        "word_seq_test = tokenizer.texts_to_sequences(xtest)\n",
        "word_index = tokenizer.word_index\n",
        "print(\"dictionary size: \", len(word_index))\n",
        "\n",
        "#pad sequences\n",
        "# word_seq_train = sequence.pad_sequences(word_seq_train, maxlen=max_seq_len, padding='post', truncating='post')\n",
        "# word_seq_test = sequence.pad_sequences(word_seq_test, maxlen=max_seq_len, padding='post', truncating='post')"
      ],
      "execution_count": 28,
      "outputs": [
        {
          "output_type": "stream",
          "text": [
            "tokenizing input data...\n",
            "dictionary size:  70615\n"
          ],
          "name": "stdout"
        }
      ]
    },
    {
      "cell_type": "code",
      "metadata": {
        "id": "Fsyfm8z6I2YD"
      },
      "source": [
        "#Creat Pad Sequences\n",
        "word_seq_train = sequence.pad_sequences(word_seq_train, maxlen=max_seq_len, padding='post', truncating='post')\n",
        "word_seq_test = sequence.pad_sequences(word_seq_test, maxlen=max_seq_len, padding='post', truncating='post')"
      ],
      "execution_count": 29,
      "outputs": []
    },
    {
      "cell_type": "code",
      "metadata": {
        "id": "4y05ydEbI6yw"
      },
      "source": [
        "#training params\n",
        "batch_size = 128\n",
        "num_epochs = 500 \n",
        "\n",
        "#model parameters\n",
        "num_filters = 255 \n",
        "weight_decay = 1e-4\n",
        "embedding_size = 100 # dim"
      ],
      "execution_count": 30,
      "outputs": []
    },
    {
      "cell_type": "code",
      "metadata": {
        "id": "_CD9LZCfJAS-"
      },
      "source": [
        "def get_word_vector(word):\n",
        "  try:\n",
        "    return ft_model.wv[word]\n",
        "  except:\n",
        "    return None"
      ],
      "execution_count": 20,
      "outputs": []
    },
    {
      "cell_type": "code",
      "metadata": {
        "id": "CgxNF6GcM2_N",
        "colab": {
          "base_uri": "https://localhost:8080/"
        },
        "outputId": "01af663a-8032-4e43-c9a0-fd33598fcf5f"
      },
      "source": [
        "get_word_vector('اهلا')"
      ],
      "execution_count": 21,
      "outputs": [
        {
          "output_type": "execute_result",
          "data": {
            "text/plain": [
              "array([-0.7662183 ,  0.98379004, -0.856356  ,  0.27266034, -0.9380533 ,\n",
              "       -0.86745435,  0.13047275,  0.12932763, -1.2118471 , -0.20367375,\n",
              "        0.67053765, -0.11613699, -0.41103095, -0.47680384, -0.44435993,\n",
              "       -0.1939749 ,  0.00508196, -0.0310873 ,  0.18593137,  0.10671886,\n",
              "        0.23234546,  0.167257  , -0.10888996, -0.21263619,  0.40896115,\n",
              "       -0.26786512, -0.37696776,  0.22092573, -0.18460238,  0.16977386,\n",
              "        0.31056145, -0.96333283, -0.30506468,  0.44010496,  0.02392955,\n",
              "       -0.12722757, -0.03489176, -0.2866858 , -0.00227871, -0.11256752,\n",
              "        0.10749926, -0.5954404 , -0.6601313 ,  0.35421556, -0.60720736,\n",
              "       -0.96764106,  0.36570743,  0.86228573,  0.07146072, -0.99452627,\n",
              "        0.39221957,  0.47243494,  0.572416  , -0.895724  ,  1.059279  ,\n",
              "       -0.40702495, -0.25490573, -0.30285227, -0.13640803,  0.59923154,\n",
              "       -0.22744136, -0.01894039,  0.8421291 ,  0.3415764 ,  0.33139372,\n",
              "        0.5401708 ,  0.69443786, -0.8453227 , -0.2397006 ,  0.35596272,\n",
              "        0.11242251,  0.12952499, -1.2696403 ,  0.76918525, -0.20696041,\n",
              "       -0.6460604 ,  0.12239096, -0.26291022,  0.76819843,  0.23578796,\n",
              "       -0.11806145,  0.5290192 , -0.22849593, -0.08256691,  0.44308025,\n",
              "       -0.31108436,  0.40450126,  0.13163175, -0.41802078,  0.36826462,\n",
              "       -0.22120042, -0.2262193 ,  0.30579272,  0.5320008 , -0.46797282,\n",
              "       -0.01205049,  0.7416991 , -0.21125038,  0.09950779, -0.28558192],\n",
              "      dtype=float32)"
            ]
          },
          "metadata": {
            "tags": []
          },
          "execution_count": 21
        }
      ]
    },
    {
      "cell_type": "code",
      "metadata": {
        "id": "F97j73X1JDXx"
      },
      "source": [
        "#embedding matrix\n",
        "print('preparing embedding matrix...')\n",
        "words_not_found = []\n",
        "nb_words = min(MAX_NB_WORDS, len(word_index))\n",
        "embedding_matrix = np.zeros((nb_words+1, embedding_size))\n",
        "for word, i in word_index.items():\n",
        "    if i >= nb_words:\n",
        "        continue\n",
        "    embedding_vector = get_word_vector(word)\n",
        "    if (embedding_vector is not None) and len(embedding_vector) > 0:\n",
        "        # words not found in embedding index will be all-zeros.\n",
        "        embedding_matrix[i] = embedding_vector\n",
        "    else:\n",
        "        words_not_found.append(word)\n",
        "print('number of null word embeddings: %d' % np.sum(np.sum(embedding_matrix, axis=1) == 0))"
      ],
      "execution_count": null,
      "outputs": []
    },
    {
      "cell_type": "code",
      "metadata": {
        "colab": {
          "base_uri": "https://localhost:8080/"
        },
        "id": "ffZcCJqqJG-p",
        "outputId": "9e7dc437-64a2-4d74-82e4-0026c8650659"
      },
      "source": [
        "print(\"sample words not found: \", words_not_found)\n",
        "# for i in range(len(words_not_found)):\n",
        "#   print(words_not_found[i])\n",
        "print(len(words_not_found))"
      ],
      "execution_count": 23,
      "outputs": [
        {
          "output_type": "stream",
          "text": [
            "sample words not found:  ['ش', 'ن', 'ö', '€', 'ص', 'شؤم', 'شذوذ', '٪و', 'فث', 'وß', 'لß', 'زد', 'لؤلؤة', '\\x7f', 'شىء']\n",
            "15\n"
          ],
          "name": "stdout"
        }
      ]
    },
    {
      "cell_type": "code",
      "metadata": {
        "colab": {
          "base_uri": "https://localhost:8080/"
        },
        "id": "RezHMxTAJLbu",
        "outputId": "c7a040e6-0d79-4774-8b8b-fbe47ff863bc"
      },
      "source": [
        "#CNN architecture\n",
        "print(\"training CNN ...\")\n",
        "model = Sequential()\n",
        "model.add(Embedding(nb_words+1, embedding_size,\n",
        "          weights=[embedding_matrix], input_length=max_seq_len, trainable=False))\n",
        "model.add(Conv1D(num_filters, 7, activation='relu', padding='same'))\n",
        "model.add(MaxPooling1D(2))\n",
        "model.add(Dropout(0.5))\n",
        "model.add(Conv1D(num_filters, 7, activation='relu', padding='same'))\n",
        "model.add(MaxPooling1D(2))\n",
        "model.add(Dropout(0.5))\n",
        "model.add(Conv1D(num_filters, 7, activation='relu', padding='same'))\n",
        "model.add(GlobalMaxPooling1D())\n",
        "model.add(Dropout(0.5))\n",
        "model.add(Dense(32, activation='relu', kernel_regularizer=regularizers.l2(weight_decay)))\n",
        "model.add(Dense(yall.shape[1], activation='sigmoid'))  #multi-label (k-hot encoding)\n",
        "\n",
        "adam = optimizers.Adam(lr=0.0000001, beta_1=0.9, beta_2=0.999, epsilon=1e-08, decay=0.0)\n",
        "model.compile(loss='binary_crossentropy', optimizer=adam, metrics=['accuracy'])\n",
        "model.summary()"
      ],
      "execution_count": 34,
      "outputs": [
        {
          "output_type": "stream",
          "text": [
            "training CNN ...\n",
            "Model: \"sequential_2\"\n",
            "_________________________________________________________________\n",
            "Layer (type)                 Output Shape              Param #   \n",
            "=================================================================\n",
            "embedding_2 (Embedding)      (None, 50, 100)           7061600   \n",
            "_________________________________________________________________\n",
            "conv1d_6 (Conv1D)            (None, 50, 255)           178755    \n",
            "_________________________________________________________________\n",
            "max_pooling1d_4 (MaxPooling1 (None, 25, 255)           0         \n",
            "_________________________________________________________________\n",
            "dropout_6 (Dropout)          (None, 25, 255)           0         \n",
            "_________________________________________________________________\n",
            "conv1d_7 (Conv1D)            (None, 25, 255)           455430    \n",
            "_________________________________________________________________\n",
            "max_pooling1d_5 (MaxPooling1 (None, 12, 255)           0         \n",
            "_________________________________________________________________\n",
            "dropout_7 (Dropout)          (None, 12, 255)           0         \n",
            "_________________________________________________________________\n",
            "conv1d_8 (Conv1D)            (None, 12, 255)           455430    \n",
            "_________________________________________________________________\n",
            "global_max_pooling1d_2 (Glob (None, 255)               0         \n",
            "_________________________________________________________________\n",
            "dropout_8 (Dropout)          (None, 255)               0         \n",
            "_________________________________________________________________\n",
            "dense_4 (Dense)              (None, 32)                8192      \n",
            "_________________________________________________________________\n",
            "dense_5 (Dense)              (None, 3)                 99        \n",
            "=================================================================\n",
            "Total params: 8,159,506\n",
            "Trainable params: 1,097,906\n",
            "Non-trainable params: 7,061,600\n",
            "_________________________________________________________________\n"
          ],
          "name": "stdout"
        }
      ]
    },
    {
      "cell_type": "code",
      "metadata": {
        "id": "k2VHnKiMJUrO"
      },
      "source": [
        "#define callbacks\n",
        "early_stopping = EarlyStopping(monitor='val_loss', min_delta=0.01, patience=4, verbose=1)\n",
        "callbacks = [early_stopping] "
      ],
      "execution_count": 35,
      "outputs": []
    },
    {
      "cell_type": "code",
      "metadata": {
        "colab": {
          "base_uri": "https://localhost:8080/"
        },
        "id": "-koHIyPpJad-",
        "outputId": "8537ab11-2395-4aa4-98c1-1d66f9fa64c9"
      },
      "source": [
        "#model training\n",
        "hist = model.fit(word_seq_train, ytrain, batch_size=batch_size, epochs=num_epochs, callbacks=callbacks, validation_split=0.1, shuffle=True, verbose=2)"
      ],
      "execution_count": 36,
      "outputs": [
        {
          "output_type": "stream",
          "text": [
            "Epoch 1/500\n",
            "827/827 - 17s - loss: 0.7289 - accuracy: 0.3920 - val_loss: 0.6817 - val_accuracy: 0.1947\n",
            "Epoch 2/500\n",
            "827/827 - 15s - loss: 0.6977 - accuracy: 0.3518 - val_loss: 0.6652 - val_accuracy: 0.1394\n",
            "Epoch 3/500\n",
            "827/827 - 15s - loss: 0.6719 - accuracy: 0.3232 - val_loss: 0.6534 - val_accuracy: 0.1339\n",
            "Epoch 4/500\n",
            "827/827 - 15s - loss: 0.6497 - accuracy: 0.2981 - val_loss: 0.6429 - val_accuracy: 0.1314\n",
            "Epoch 5/500\n",
            "827/827 - 15s - loss: 0.6298 - accuracy: 0.2772 - val_loss: 0.6325 - val_accuracy: 0.1316\n",
            "Epoch 6/500\n",
            "827/827 - 15s - loss: 0.6112 - accuracy: 0.2616 - val_loss: 0.6211 - val_accuracy: 0.1318\n",
            "Epoch 7/500\n",
            "827/827 - 15s - loss: 0.5944 - accuracy: 0.2519 - val_loss: 0.6087 - val_accuracy: 0.1318\n",
            "Epoch 8/500\n",
            "827/827 - 15s - loss: 0.5793 - accuracy: 0.2396 - val_loss: 0.5955 - val_accuracy: 0.1318\n",
            "Epoch 9/500\n",
            "827/827 - 15s - loss: 0.5641 - accuracy: 0.2352 - val_loss: 0.5819 - val_accuracy: 0.1318\n",
            "Epoch 10/500\n",
            "827/827 - 15s - loss: 0.5507 - accuracy: 0.2314 - val_loss: 0.5690 - val_accuracy: 0.1318\n",
            "Epoch 11/500\n",
            "827/827 - 15s - loss: 0.5381 - accuracy: 0.2314 - val_loss: 0.5568 - val_accuracy: 0.1318\n",
            "Epoch 12/500\n",
            "827/827 - 15s - loss: 0.5275 - accuracy: 0.2334 - val_loss: 0.5456 - val_accuracy: 0.1318\n",
            "Epoch 13/500\n",
            "827/827 - 15s - loss: 0.5174 - accuracy: 0.2372 - val_loss: 0.5355 - val_accuracy: 0.1318\n",
            "Epoch 14/500\n",
            "827/827 - 15s - loss: 0.5092 - accuracy: 0.2409 - val_loss: 0.5265 - val_accuracy: 0.1318\n",
            "Epoch 15/500\n",
            "827/827 - 15s - loss: 0.5027 - accuracy: 0.2486 - val_loss: 0.5185 - val_accuracy: 0.1318\n",
            "Epoch 16/500\n",
            "827/827 - 15s - loss: 0.4968 - accuracy: 0.2583 - val_loss: 0.5116 - val_accuracy: 0.1318\n",
            "Epoch 17/500\n",
            "827/827 - 15s - loss: 0.4920 - accuracy: 0.2676 - val_loss: 0.5055 - val_accuracy: 0.1318\n",
            "Epoch 18/500\n",
            "827/827 - 15s - loss: 0.4888 - accuracy: 0.2770 - val_loss: 0.5004 - val_accuracy: 0.1318\n",
            "Epoch 19/500\n",
            "827/827 - 15s - loss: 0.4857 - accuracy: 0.2874 - val_loss: 0.4960 - val_accuracy: 0.1318\n",
            "Epoch 20/500\n",
            "827/827 - 15s - loss: 0.4825 - accuracy: 0.3005 - val_loss: 0.4922 - val_accuracy: 0.1318\n",
            "Epoch 21/500\n",
            "827/827 - 15s - loss: 0.4806 - accuracy: 0.3113 - val_loss: 0.4890 - val_accuracy: 0.1318\n",
            "Epoch 22/500\n",
            "827/827 - 15s - loss: 0.4797 - accuracy: 0.3188 - val_loss: 0.4863 - val_accuracy: 0.1318\n",
            "Epoch 23/500\n",
            "827/827 - 15s - loss: 0.4775 - accuracy: 0.3314 - val_loss: 0.4840 - val_accuracy: 0.1318\n",
            "Epoch 24/500\n",
            "827/827 - 15s - loss: 0.4760 - accuracy: 0.3408 - val_loss: 0.4819 - val_accuracy: 0.1318\n",
            "Epoch 25/500\n",
            "827/827 - 15s - loss: 0.4751 - accuracy: 0.3497 - val_loss: 0.4801 - val_accuracy: 0.1318\n",
            "Epoch 26/500\n",
            "827/827 - 15s - loss: 0.4736 - accuracy: 0.3578 - val_loss: 0.4786 - val_accuracy: 0.1318\n",
            "Epoch 27/500\n",
            "827/827 - 15s - loss: 0.4725 - accuracy: 0.3673 - val_loss: 0.4772 - val_accuracy: 0.1318\n",
            "Epoch 28/500\n",
            "827/827 - 15s - loss: 0.4718 - accuracy: 0.3747 - val_loss: 0.4761 - val_accuracy: 0.1320\n",
            "Epoch 00028: early stopping\n"
          ],
          "name": "stdout"
        }
      ]
    },
    {
      "cell_type": "code",
      "metadata": {
        "id": "ufedNklSJf1b"
      },
      "source": [
        "#Model Evaluation\n",
        "modloss,modacc = model.evaluate(word_seq_test, ytest)\n",
        "print(modloss)\n",
        "print(modacc)"
      ],
      "execution_count": null,
      "outputs": []
    },
    {
      "cell_type": "code",
      "metadata": {
        "id": "OxYGDYdcqQkx"
      },
      "source": [
        ""
      ],
      "execution_count": null,
      "outputs": []
    }
  ]
}